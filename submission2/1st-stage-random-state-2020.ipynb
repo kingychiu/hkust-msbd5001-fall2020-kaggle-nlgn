{
 "cells": [
  {
   "cell_type": "code",
   "execution_count": 1,
   "metadata": {
    "_cell_guid": "b1076dfc-b9ad-4769-8c92-a6c4dae69d19",
    "_uuid": "8f2839f25d086af736a60e9eeb907d3b93b6e0e5",
    "execution": {
     "iopub.execute_input": "2020-11-20T09:29:22.234847Z",
     "iopub.status.busy": "2020-11-20T09:29:22.233913Z",
     "iopub.status.idle": "2020-11-20T09:29:23.571448Z",
     "shell.execute_reply": "2020-11-20T09:29:23.570492Z"
    },
    "papermill": {
     "duration": 1.408812,
     "end_time": "2020-11-20T09:29:23.571700",
     "exception": false,
     "start_time": "2020-11-20T09:29:22.162888",
     "status": "completed"
    },
    "tags": []
   },
   "outputs": [
    {
     "name": "stdout",
     "output_type": "stream",
     "text": [
      "/kaggle/input/msbd5001-fall2020/test.csv\n",
      "/kaggle/input/msbd5001-fall2020/train.csv\n",
      "/kaggle/input/msbd5001-fall2020/sampleSubmission.csv\n"
     ]
    }
   ],
   "source": [
    "# This Python 3 environment comes with many helpful analytics libraries installed\n",
    "# It is defined by the kaggle/python Docker image: https://github.com/kaggle/docker-python\n",
    "# For example, here's several helpful packages to load\n",
    "\n",
    "import numpy as np # linear algebra\n",
    "import pandas as pd # data processing, CSV file I/O (e.g. pd.read_csv)\n",
    "import lightgbm as lgb \n",
    "import catboost as ctb\n",
    "# Input data files are available in the read-only \"../input/\" directory\n",
    "# For example, running this (by clicking run or pressing Shift+Enter) will list all files under the input directory\n",
    "\n",
    "import os\n",
    "for dirname, _, filenames in os.walk('/kaggle/input'):\n",
    "    for filename in filenames:\n",
    "        print(os.path.join(dirname, filename))\n",
    "\n",
    "# You can write up to 5GB to the current directory (/kaggle/working/) that gets preserved as output when you create a version using \"Save & Run All\" \n",
    "# You can also write temporary files to /kaggle/temp/, but they won't be saved outside of the current session"
   ]
  },
  {
   "cell_type": "code",
   "execution_count": 2,
   "metadata": {
    "execution": {
     "iopub.execute_input": "2020-11-20T09:29:23.708448Z",
     "iopub.status.busy": "2020-11-20T09:29:23.707661Z",
     "iopub.status.idle": "2020-11-20T09:29:23.711055Z",
     "shell.execute_reply": "2020-11-20T09:29:23.710336Z"
    },
    "papermill": {
     "duration": 0.07637,
     "end_time": "2020-11-20T09:29:23.711184",
     "exception": false,
     "start_time": "2020-11-20T09:29:23.634814",
     "status": "completed"
    },
    "tags": []
   },
   "outputs": [],
   "source": [
    "from sklearn.model_selection import KFold, TimeSeriesSplit\n",
    "random_state = 2020\n",
    "num_fold = 5"
   ]
  },
  {
   "cell_type": "code",
   "execution_count": 3,
   "metadata": {
    "execution": {
     "iopub.execute_input": "2020-11-20T09:29:23.843584Z",
     "iopub.status.busy": "2020-11-20T09:29:23.842695Z",
     "iopub.status.idle": "2020-11-20T09:29:23.858461Z",
     "shell.execute_reply": "2020-11-20T09:29:23.857406Z"
    },
    "papermill": {
     "duration": 0.084558,
     "end_time": "2020-11-20T09:29:23.858644",
     "exception": false,
     "start_time": "2020-11-20T09:29:23.774086",
     "status": "completed"
    },
    "tags": []
   },
   "outputs": [
    {
     "data": {
      "text/plain": [
       "(3504, 2)"
      ]
     },
     "execution_count": 3,
     "metadata": {},
     "output_type": "execute_result"
    }
   ],
   "source": [
    "sample_submission_df = pd.read_csv(\"/kaggle/input/msbd5001-fall2020/sampleSubmission.csv\")\n",
    "sample_submission_df.shape"
   ]
  },
  {
   "cell_type": "code",
   "execution_count": 4,
   "metadata": {
    "_cell_guid": "79c7e3d0-c299-4dcb-8224-4455121ee9b0",
    "_uuid": "d629ff2d2480ee46fbb7e2d37f6b5fab8052498a",
    "execution": {
     "iopub.execute_input": "2020-11-20T09:29:24.008980Z",
     "iopub.status.busy": "2020-11-20T09:29:24.008039Z",
     "iopub.status.idle": "2020-11-20T09:29:24.203601Z",
     "shell.execute_reply": "2020-11-20T09:29:24.204185Z"
    },
    "papermill": {
     "duration": 0.27598,
     "end_time": "2020-11-20T09:29:24.204348",
     "exception": false,
     "start_time": "2020-11-20T09:29:23.928368",
     "status": "completed"
    },
    "tags": []
   },
   "outputs": [
    {
     "data": {
      "text/plain": [
       "((14006, 3), (3504, 2))"
      ]
     },
     "execution_count": 4,
     "metadata": {},
     "output_type": "execute_result"
    }
   ],
   "source": [
    "train_df = pd.read_csv(\"/kaggle/input/msbd5001-fall2020/train.csv\")\n",
    "test_df = pd.read_csv(\"/kaggle/input/msbd5001-fall2020/test.csv\")\n",
    "train_df.date = pd.to_datetime(train_df.date, format='%d/%m/%Y %H:%M').dt.tz_localize(\"HongKong\")\n",
    "test_df.date = pd.to_datetime(test_df.date, format='%d/%m/%Y %H:%M').dt.tz_localize(\"HongKong\")\n",
    "train_df.shape, test_df.shape"
   ]
  },
  {
   "cell_type": "code",
   "execution_count": 5,
   "metadata": {
    "execution": {
     "iopub.execute_input": "2020-11-20T09:29:24.343258Z",
     "iopub.status.busy": "2020-11-20T09:29:24.342031Z",
     "iopub.status.idle": "2020-11-20T09:29:24.360654Z",
     "shell.execute_reply": "2020-11-20T09:29:24.359888Z"
    },
    "papermill": {
     "duration": 0.093499,
     "end_time": "2020-11-20T09:29:24.360791",
     "exception": false,
     "start_time": "2020-11-20T09:29:24.267292",
     "status": "completed"
    },
    "tags": []
   },
   "outputs": [
    {
     "data": {
      "text/plain": [
       "[Timestamp('2017-01-01 00:00:00+0800', tz='Hongkong'),\n",
       " Timestamp('2017-01-02 00:00:00+0800', tz='Hongkong'),\n",
       " Timestamp('2017-01-28 00:00:00+0800', tz='Hongkong'),\n",
       " Timestamp('2017-01-30 00:00:00+0800', tz='Hongkong'),\n",
       " Timestamp('2017-01-31 00:00:00+0800', tz='Hongkong'),\n",
       " Timestamp('2017-04-04 00:00:00+0800', tz='Hongkong'),\n",
       " Timestamp('2017-04-14 00:00:00+0800', tz='Hongkong'),\n",
       " Timestamp('2017-04-15 00:00:00+0800', tz='Hongkong'),\n",
       " Timestamp('2017-04-17 00:00:00+0800', tz='Hongkong'),\n",
       " Timestamp('2017-05-01 00:00:00+0800', tz='Hongkong'),\n",
       " Timestamp('2017-05-03 00:00:00+0800', tz='Hongkong'),\n",
       " Timestamp('2017-05-30 00:00:00+0800', tz='Hongkong'),\n",
       " Timestamp('2017-07-01 00:00:00+0800', tz='Hongkong'),\n",
       " Timestamp('2017-10-01 00:00:00+0800', tz='Hongkong'),\n",
       " Timestamp('2017-10-02 00:00:00+0800', tz='Hongkong'),\n",
       " Timestamp('2017-10-05 00:00:00+0800', tz='Hongkong'),\n",
       " Timestamp('2017-10-28 00:00:00+0800', tz='Hongkong'),\n",
       " Timestamp('2017-12-25 00:00:00+0800', tz='Hongkong'),\n",
       " Timestamp('2017-12-26 00:00:00+0800', tz='Hongkong'),\n",
       " Timestamp('2018-01-01 00:00:00+0800', tz='Hongkong'),\n",
       " Timestamp('2018-02-16 00:00:00+0800', tz='Hongkong'),\n",
       " Timestamp('2018-02-17 00:00:00+0800', tz='Hongkong'),\n",
       " Timestamp('2018-02-19 00:00:00+0800', tz='Hongkong'),\n",
       " Timestamp('2018-03-30 00:00:00+0800', tz='Hongkong'),\n",
       " Timestamp('2018-03-31 00:00:00+0800', tz='Hongkong'),\n",
       " Timestamp('2018-04-02 00:00:00+0800', tz='Hongkong'),\n",
       " Timestamp('2018-04-05 00:00:00+0800', tz='Hongkong'),\n",
       " Timestamp('2018-05-01 00:00:00+0800', tz='Hongkong'),\n",
       " Timestamp('2018-05-22 00:00:00+0800', tz='Hongkong'),\n",
       " Timestamp('2018-06-18 00:00:00+0800', tz='Hongkong'),\n",
       " Timestamp('2018-07-01 00:00:00+0800', tz='Hongkong'),\n",
       " Timestamp('2018-07-02 00:00:00+0800', tz='Hongkong'),\n",
       " Timestamp('2018-09-24 00:00:00+0800', tz='Hongkong'),\n",
       " Timestamp('2018-09-25 00:00:00+0800', tz='Hongkong'),\n",
       " Timestamp('2018-10-01 00:00:00+0800', tz='Hongkong'),\n",
       " Timestamp('2018-10-17 00:00:00+0800', tz='Hongkong'),\n",
       " Timestamp('2018-12-25 00:00:00+0800', tz='Hongkong'),\n",
       " Timestamp('2018-12-26 00:00:00+0800', tz='Hongkong')]"
      ]
     },
     "execution_count": 5,
     "metadata": {},
     "output_type": "execute_result"
    }
   ],
   "source": [
    "holidays =[\n",
    "    \"2017-1-1\",\n",
    "    \"2017-1-2\",\n",
    "    \"2017-1-28\",\n",
    "    \"2017-1-30\",\n",
    "    \"2017-1-31\",\n",
    "    \"2017-4-4\",\n",
    "    \"2017-4-14\",\n",
    "    \"2017-4-15\",\n",
    "    \"2017-4-17\",\n",
    "    \"2017-5-1\",\n",
    "    \"2017-5-3\",\n",
    "    \"2017-5-30\",\n",
    "    \"2017-7-1\",\n",
    "    \"2017-10-1\",\n",
    "    \"2017-10-2\",\n",
    "    \"2017-10-5\",\n",
    "    \"2017-10-28\",\n",
    "    \"2017-12-25\",\n",
    "    \"2017-12-26\",\n",
    "    \"2018-1-1\",\n",
    "    \"2018-2-16\",\n",
    "    \"2018-2-17\",\n",
    "    \"2018-2-19\",\n",
    "    \"2018-3-30\",\n",
    "    \"2018-3-31\",\n",
    "    \"2018-4-2\",\n",
    "    \"2018-4-5\",\n",
    "    \"2018-5-1\",\n",
    "    \"2018-5-22\",\n",
    "    \"2018-6-18\",\n",
    "    \"2018-7-1\",\n",
    "    \"2018-7-2\",\n",
    "    \"2018-9-24\",\n",
    "    \"2018-9-25\",\n",
    "    \"2018-10-1\",\n",
    "    \"2018-10-17\",\n",
    "    \"2018-12-25\",\n",
    "    \"2018-12-26\",\n",
    "]\n",
    "holidays = [pd.to_datetime(h, format='%Y-%m-%d').tz_localize(\"HongKong\") for h in holidays]\n",
    "holidays"
   ]
  },
  {
   "cell_type": "code",
   "execution_count": 6,
   "metadata": {
    "execution": {
     "iopub.execute_input": "2020-11-20T09:29:24.500907Z",
     "iopub.status.busy": "2020-11-20T09:29:24.497911Z",
     "iopub.status.idle": "2020-11-20T09:29:24.509958Z",
     "shell.execute_reply": "2020-11-20T09:29:24.509163Z"
    },
    "papermill": {
     "duration": 0.084664,
     "end_time": "2020-11-20T09:29:24.510093",
     "exception": false,
     "start_time": "2020-11-20T09:29:24.425429",
     "status": "completed"
    },
    "tags": []
   },
   "outputs": [
    {
     "data": {
      "text/plain": [
       "0.051763529915750395"
      ]
     },
     "execution_count": 6,
     "metadata": {},
     "output_type": "execute_result"
    }
   ],
   "source": [
    "train_df.date.dt.floor('d').isin(holidays).mean()"
   ]
  },
  {
   "cell_type": "code",
   "execution_count": 7,
   "metadata": {
    "execution": {
     "iopub.execute_input": "2020-11-20T09:29:24.657900Z",
     "iopub.status.busy": "2020-11-20T09:29:24.656433Z",
     "iopub.status.idle": "2020-11-20T09:29:24.665649Z",
     "shell.execute_reply": "2020-11-20T09:29:24.664737Z"
    },
    "papermill": {
     "duration": 0.082638,
     "end_time": "2020-11-20T09:29:24.665807",
     "exception": false,
     "start_time": "2020-11-20T09:29:24.583169",
     "status": "completed"
    },
    "tags": []
   },
   "outputs": [
    {
     "data": {
      "text/plain": [
       "0.0533675799086758"
      ]
     },
     "execution_count": 7,
     "metadata": {},
     "output_type": "execute_result"
    }
   ],
   "source": [
    "test_df.date.dt.floor('d').isin(holidays).mean()"
   ]
  },
  {
   "cell_type": "markdown",
   "metadata": {
    "papermill": {
     "duration": 0.064744,
     "end_time": "2020-11-20T09:29:24.799046",
     "exception": false,
     "start_time": "2020-11-20T09:29:24.734302",
     "status": "completed"
    },
    "tags": []
   },
   "source": [
    "# Check Missing DateTime\n",
    "\n",
    "Apart from the testing data, there are other missing datetime."
   ]
  },
  {
   "cell_type": "code",
   "execution_count": 8,
   "metadata": {
    "execution": {
     "iopub.execute_input": "2020-11-20T09:29:24.945417Z",
     "iopub.status.busy": "2020-11-20T09:29:24.944593Z",
     "iopub.status.idle": "2020-11-20T09:29:24.954049Z",
     "shell.execute_reply": "2020-11-20T09:29:24.953233Z"
    },
    "papermill": {
     "duration": 0.089669,
     "end_time": "2020-11-20T09:29:24.954176",
     "exception": false,
     "start_time": "2020-11-20T09:29:24.864507",
     "status": "completed"
    },
    "tags": []
   },
   "outputs": [],
   "source": [
    "test_df[\"is_test\"] = True\n",
    "train_df[\"is_test\"] = False\n",
    "\n",
    "all_df = pd.concat([train_df, test_df], ignore_index=True).sort_values(\"date\").reset_index(drop=True)\n",
    "\n",
    "all_df[\"lag_date\"] = all_df[\"date\"].shift()\n",
    "all_df[\"interval\"] = (all_df[\"date\"] - all_df[\"lag_date\"])"
   ]
  },
  {
   "cell_type": "code",
   "execution_count": 9,
   "metadata": {
    "execution": {
     "iopub.execute_input": "2020-11-20T09:29:25.104276Z",
     "iopub.status.busy": "2020-11-20T09:29:25.103198Z",
     "iopub.status.idle": "2020-11-20T09:29:25.110109Z",
     "shell.execute_reply": "2020-11-20T09:29:25.108196Z"
    },
    "papermill": {
     "duration": 0.090218,
     "end_time": "2020-11-20T09:29:25.110294",
     "exception": false,
     "start_time": "2020-11-20T09:29:25.020076",
     "status": "completed"
    },
    "tags": []
   },
   "outputs": [
    {
     "data": {
      "text/plain": [
       "0 days 01:00:00    17506\n",
       "0 days 06:00:00        1\n",
       "0 days 02:00:00        1\n",
       "0 days 05:00:00        1\n",
       "Name: interval, dtype: int64"
      ]
     },
     "execution_count": 9,
     "metadata": {},
     "output_type": "execute_result"
    }
   ],
   "source": [
    "all_df.interval.value_counts()"
   ]
  },
  {
   "cell_type": "code",
   "execution_count": 10,
   "metadata": {
    "execution": {
     "iopub.execute_input": "2020-11-20T09:29:25.255247Z",
     "iopub.status.busy": "2020-11-20T09:29:25.254475Z",
     "iopub.status.idle": "2020-11-20T09:29:25.274390Z",
     "shell.execute_reply": "2020-11-20T09:29:25.273576Z"
    },
    "papermill": {
     "duration": 0.094266,
     "end_time": "2020-11-20T09:29:25.274523",
     "exception": false,
     "start_time": "2020-11-20T09:29:25.180257",
     "status": "completed"
    },
    "tags": []
   },
   "outputs": [
    {
     "data": {
      "text/html": [
       "<div>\n",
       "<style scoped>\n",
       "    .dataframe tbody tr th:only-of-type {\n",
       "        vertical-align: middle;\n",
       "    }\n",
       "\n",
       "    .dataframe tbody tr th {\n",
       "        vertical-align: top;\n",
       "    }\n",
       "\n",
       "    .dataframe thead th {\n",
       "        text-align: right;\n",
       "    }\n",
       "</style>\n",
       "<table border=\"1\" class=\"dataframe\">\n",
       "  <thead>\n",
       "    <tr style=\"text-align: right;\">\n",
       "      <th></th>\n",
       "      <th>id</th>\n",
       "      <th>date</th>\n",
       "      <th>speed</th>\n",
       "      <th>is_test</th>\n",
       "      <th>lag_date</th>\n",
       "      <th>interval</th>\n",
       "    </tr>\n",
       "  </thead>\n",
       "  <tbody>\n",
       "    <tr>\n",
       "      <th>0</th>\n",
       "      <td>0</td>\n",
       "      <td>2017-01-01 00:00:00+08:00</td>\n",
       "      <td>43.002930</td>\n",
       "      <td>False</td>\n",
       "      <td>NaT</td>\n",
       "      <td>NaT</td>\n",
       "    </tr>\n",
       "    <tr>\n",
       "      <th>1</th>\n",
       "      <td>1</td>\n",
       "      <td>2017-01-01 01:00:00+08:00</td>\n",
       "      <td>46.118696</td>\n",
       "      <td>False</td>\n",
       "      <td>2017-01-01 00:00:00+08:00</td>\n",
       "      <td>0 days 01:00:00</td>\n",
       "    </tr>\n",
       "    <tr>\n",
       "      <th>2</th>\n",
       "      <td>2</td>\n",
       "      <td>2017-01-01 02:00:00+08:00</td>\n",
       "      <td>44.294158</td>\n",
       "      <td>False</td>\n",
       "      <td>2017-01-01 01:00:00+08:00</td>\n",
       "      <td>0 days 01:00:00</td>\n",
       "    </tr>\n",
       "    <tr>\n",
       "      <th>3</th>\n",
       "      <td>3</td>\n",
       "      <td>2017-01-01 03:00:00+08:00</td>\n",
       "      <td>41.067468</td>\n",
       "      <td>False</td>\n",
       "      <td>2017-01-01 02:00:00+08:00</td>\n",
       "      <td>0 days 01:00:00</td>\n",
       "    </tr>\n",
       "    <tr>\n",
       "      <th>4</th>\n",
       "      <td>4</td>\n",
       "      <td>2017-01-01 04:00:00+08:00</td>\n",
       "      <td>46.448653</td>\n",
       "      <td>False</td>\n",
       "      <td>2017-01-01 03:00:00+08:00</td>\n",
       "      <td>0 days 01:00:00</td>\n",
       "    </tr>\n",
       "  </tbody>\n",
       "</table>\n",
       "</div>"
      ],
      "text/plain": [
       "   id                      date      speed  is_test                  lag_date  \\\n",
       "0   0 2017-01-01 00:00:00+08:00  43.002930    False                       NaT   \n",
       "1   1 2017-01-01 01:00:00+08:00  46.118696    False 2017-01-01 00:00:00+08:00   \n",
       "2   2 2017-01-01 02:00:00+08:00  44.294158    False 2017-01-01 01:00:00+08:00   \n",
       "3   3 2017-01-01 03:00:00+08:00  41.067468    False 2017-01-01 02:00:00+08:00   \n",
       "4   4 2017-01-01 04:00:00+08:00  46.448653    False 2017-01-01 03:00:00+08:00   \n",
       "\n",
       "         interval  \n",
       "0             NaT  \n",
       "1 0 days 01:00:00  \n",
       "2 0 days 01:00:00  \n",
       "3 0 days 01:00:00  \n",
       "4 0 days 01:00:00  "
      ]
     },
     "execution_count": 10,
     "metadata": {},
     "output_type": "execute_result"
    }
   ],
   "source": [
    "train_df[\"lag_date\"] = train_df[\"date\"].shift()\n",
    "train_df[\"interval\"] = (train_df[\"date\"] - train_df[\"lag_date\"])\n",
    "train_df.head()"
   ]
  },
  {
   "cell_type": "code",
   "execution_count": 11,
   "metadata": {
    "execution": {
     "iopub.execute_input": "2020-11-20T09:29:25.413319Z",
     "iopub.status.busy": "2020-11-20T09:29:25.412266Z",
     "iopub.status.idle": "2020-11-20T09:29:25.442277Z",
     "shell.execute_reply": "2020-11-20T09:29:25.441493Z"
    },
    "papermill": {
     "duration": 0.101894,
     "end_time": "2020-11-20T09:29:25.442411",
     "exception": false,
     "start_time": "2020-11-20T09:29:25.340517",
     "status": "completed"
    },
    "tags": []
   },
   "outputs": [
    {
     "data": {
      "text/plain": [
       "0 days 01:00:00    3135\n",
       "0 days 02:00:00    1260\n",
       "0 days 03:00:00     526\n",
       "0 days 04:00:00     217\n",
       "0 days 05:00:00      75\n",
       "0 days 06:00:00      30\n",
       "0 days 07:00:00       8\n",
       "0 days 10:00:00       2\n",
       "0 days 08:00:00       2\n",
       "0 days 09:00:00       1\n",
       "Name: interval, dtype: int64"
      ]
     },
     "execution_count": 11,
     "metadata": {},
     "output_type": "execute_result"
    }
   ],
   "source": [
    "train_df[train_df.date.dt.year==2018].interval.value_counts()"
   ]
  },
  {
   "cell_type": "markdown",
   "metadata": {
    "papermill": {
     "duration": 0.070199,
     "end_time": "2020-11-20T09:29:25.580449",
     "exception": false,
     "start_time": "2020-11-20T09:29:25.510250",
     "status": "completed"
    },
    "tags": []
   },
   "source": [
    "# Create an Ideal dataframe with all datetime\n",
    "\n",
    "We can treat the missing data in 2017 similar to the test data in 2018"
   ]
  },
  {
   "cell_type": "code",
   "execution_count": 12,
   "metadata": {
    "execution": {
     "iopub.execute_input": "2020-11-20T09:29:25.729923Z",
     "iopub.status.busy": "2020-11-20T09:29:25.728804Z",
     "iopub.status.idle": "2020-11-20T09:29:25.768243Z",
     "shell.execute_reply": "2020-11-20T09:29:25.767363Z"
    },
    "papermill": {
     "duration": 0.116099,
     "end_time": "2020-11-20T09:29:25.768412",
     "exception": false,
     "start_time": "2020-11-20T09:29:25.652313",
     "status": "completed"
    },
    "tags": []
   },
   "outputs": [
    {
     "name": "stdout",
     "output_type": "stream",
     "text": [
      "2017-01-01 00:00:00+08:00 2018-12-31 23:00:00+08:00\n",
      "2017-01-01 00:00:00+08:00 2017-12-31 23:00:00+08:00\n",
      "2018-01-01 00:00:00+08:00 2018-12-31 23:00:00+08:00\n"
     ]
    },
    {
     "data": {
      "text/html": [
       "<div>\n",
       "<style scoped>\n",
       "    .dataframe tbody tr th:only-of-type {\n",
       "        vertical-align: middle;\n",
       "    }\n",
       "\n",
       "    .dataframe tbody tr th {\n",
       "        vertical-align: top;\n",
       "    }\n",
       "\n",
       "    .dataframe thead th {\n",
       "        text-align: right;\n",
       "    }\n",
       "</style>\n",
       "<table border=\"1\" class=\"dataframe\">\n",
       "  <thead>\n",
       "    <tr style=\"text-align: right;\">\n",
       "      <th></th>\n",
       "      <th>id</th>\n",
       "      <th>date</th>\n",
       "      <th>speed</th>\n",
       "      <th>is_test</th>\n",
       "      <th>lag_date</th>\n",
       "      <th>interval</th>\n",
       "    </tr>\n",
       "  </thead>\n",
       "  <tbody>\n",
       "    <tr>\n",
       "      <th>0</th>\n",
       "      <td>0</td>\n",
       "      <td>2017-01-01 00:00:00+08:00</td>\n",
       "      <td>43.002930</td>\n",
       "      <td>False</td>\n",
       "      <td>NaT</td>\n",
       "      <td>NaT</td>\n",
       "    </tr>\n",
       "    <tr>\n",
       "      <th>1</th>\n",
       "      <td>1</td>\n",
       "      <td>2017-01-01 01:00:00+08:00</td>\n",
       "      <td>46.118696</td>\n",
       "      <td>False</td>\n",
       "      <td>2017-01-01 00:00:00+08:00</td>\n",
       "      <td>0 days 01:00:00</td>\n",
       "    </tr>\n",
       "    <tr>\n",
       "      <th>2</th>\n",
       "      <td>2</td>\n",
       "      <td>2017-01-01 02:00:00+08:00</td>\n",
       "      <td>44.294158</td>\n",
       "      <td>False</td>\n",
       "      <td>2017-01-01 01:00:00+08:00</td>\n",
       "      <td>0 days 01:00:00</td>\n",
       "    </tr>\n",
       "    <tr>\n",
       "      <th>3</th>\n",
       "      <td>3</td>\n",
       "      <td>2017-01-01 03:00:00+08:00</td>\n",
       "      <td>41.067468</td>\n",
       "      <td>False</td>\n",
       "      <td>2017-01-01 02:00:00+08:00</td>\n",
       "      <td>0 days 01:00:00</td>\n",
       "    </tr>\n",
       "    <tr>\n",
       "      <th>4</th>\n",
       "      <td>4</td>\n",
       "      <td>2017-01-01 04:00:00+08:00</td>\n",
       "      <td>46.448653</td>\n",
       "      <td>False</td>\n",
       "      <td>2017-01-01 03:00:00+08:00</td>\n",
       "      <td>0 days 01:00:00</td>\n",
       "    </tr>\n",
       "  </tbody>\n",
       "</table>\n",
       "</div>"
      ],
      "text/plain": [
       "   id                      date      speed  is_test                  lag_date  \\\n",
       "0   0 2017-01-01 00:00:00+08:00  43.002930    False                       NaT   \n",
       "1   1 2017-01-01 01:00:00+08:00  46.118696    False 2017-01-01 00:00:00+08:00   \n",
       "2   2 2017-01-01 02:00:00+08:00  44.294158    False 2017-01-01 01:00:00+08:00   \n",
       "3   3 2017-01-01 03:00:00+08:00  41.067468    False 2017-01-01 02:00:00+08:00   \n",
       "4   4 2017-01-01 04:00:00+08:00  46.448653    False 2017-01-01 03:00:00+08:00   \n",
       "\n",
       "         interval  \n",
       "0             NaT  \n",
       "1 0 days 01:00:00  \n",
       "2 0 days 01:00:00  \n",
       "3 0 days 01:00:00  \n",
       "4 0 days 01:00:00  "
      ]
     },
     "execution_count": 12,
     "metadata": {},
     "output_type": "execute_result"
    }
   ],
   "source": [
    "print(all_df.date.min(), all_df.date.max())\n",
    "print(all_df[all_df.date.dt.year==2017].date.min(), all_df[all_df.date.dt.year==2017].date.max())\n",
    "print(all_df[all_df.date.dt.year==2018].date.min(), all_df[all_df.date.dt.year==2018].date.max())\n",
    "all_df.head()"
   ]
  },
  {
   "cell_type": "code",
   "execution_count": 13,
   "metadata": {
    "execution": {
     "iopub.execute_input": "2020-11-20T09:29:25.922126Z",
     "iopub.status.busy": "2020-11-20T09:29:25.921001Z",
     "iopub.status.idle": "2020-11-20T09:29:25.956682Z",
     "shell.execute_reply": "2020-11-20T09:29:25.955933Z"
    },
    "papermill": {
     "duration": 0.119354,
     "end_time": "2020-11-20T09:29:25.956812",
     "exception": false,
     "start_time": "2020-11-20T09:29:25.837458",
     "status": "completed"
    },
    "tags": []
   },
   "outputs": [
    {
     "name": "stdout",
     "output_type": "stream",
     "text": [
      "period[H]\n",
      "2017-01-01 00:00:00+08:00 2018-12-31 23:00:00+08:00\n",
      "2017-01-01 00:00:00+08:00 2017-12-31 23:00:00+08:00\n",
      "2018-01-01 00:00:00+08:00 2018-12-31 23:00:00+08:00\n"
     ]
    }
   ],
   "source": [
    "ideal_date = pd.period_range(start=\"2017-01-01 00:00:00\", end=\"2018-12-31 23:00:00\", freq=\"H\")\n",
    "print(ideal_date.dtype)\n",
    "ideal_df = pd.DataFrame({\n",
    "    \"date\": ideal_date.to_timestamp(),\n",
    "})\n",
    "ideal_df[\"date\"] = ideal_df[\"date\"].dt.tz_localize(\"HongKong\")\n",
    "\n",
    "print(ideal_df.date.min(), ideal_df.date.max())\n",
    "print(ideal_df[ideal_df.date.dt.year==2017].date.min(), ideal_df[ideal_df.date.dt.year==2017].date.max())\n",
    "print(ideal_df[ideal_df.date.dt.year==2018].date.min(), ideal_df[ideal_df.date.dt.year==2018].date.max())"
   ]
  },
  {
   "cell_type": "code",
   "execution_count": 14,
   "metadata": {
    "execution": {
     "iopub.execute_input": "2020-11-20T09:29:26.104872Z",
     "iopub.status.busy": "2020-11-20T09:29:26.103477Z",
     "iopub.status.idle": "2020-11-20T09:29:26.139932Z",
     "shell.execute_reply": "2020-11-20T09:29:26.140589Z"
    },
    "papermill": {
     "duration": 0.113836,
     "end_time": "2020-11-20T09:29:26.140792",
     "exception": false,
     "start_time": "2020-11-20T09:29:26.026956",
     "status": "completed"
    },
    "tags": []
   },
   "outputs": [
    {
     "data": {
      "text/html": [
       "<div>\n",
       "<style scoped>\n",
       "    .dataframe tbody tr th:only-of-type {\n",
       "        vertical-align: middle;\n",
       "    }\n",
       "\n",
       "    .dataframe tbody tr th {\n",
       "        vertical-align: top;\n",
       "    }\n",
       "\n",
       "    .dataframe thead th {\n",
       "        text-align: right;\n",
       "    }\n",
       "</style>\n",
       "<table border=\"1\" class=\"dataframe\">\n",
       "  <thead>\n",
       "    <tr style=\"text-align: right;\">\n",
       "      <th></th>\n",
       "      <th>date</th>\n",
       "      <th>id</th>\n",
       "      <th>speed</th>\n",
       "      <th>is_test</th>\n",
       "      <th>lag_date</th>\n",
       "      <th>interval</th>\n",
       "    </tr>\n",
       "  </thead>\n",
       "  <tbody>\n",
       "    <tr>\n",
       "      <th>0</th>\n",
       "      <td>2017-01-01 00:00:00+08:00</td>\n",
       "      <td>0.0</td>\n",
       "      <td>43.002930</td>\n",
       "      <td>False</td>\n",
       "      <td>NaT</td>\n",
       "      <td>NaT</td>\n",
       "    </tr>\n",
       "    <tr>\n",
       "      <th>1</th>\n",
       "      <td>2017-01-01 01:00:00+08:00</td>\n",
       "      <td>1.0</td>\n",
       "      <td>46.118696</td>\n",
       "      <td>False</td>\n",
       "      <td>2017-01-01 00:00:00+08:00</td>\n",
       "      <td>0 days 01:00:00</td>\n",
       "    </tr>\n",
       "    <tr>\n",
       "      <th>2</th>\n",
       "      <td>2017-01-01 02:00:00+08:00</td>\n",
       "      <td>2.0</td>\n",
       "      <td>44.294158</td>\n",
       "      <td>False</td>\n",
       "      <td>2017-01-01 01:00:00+08:00</td>\n",
       "      <td>0 days 01:00:00</td>\n",
       "    </tr>\n",
       "    <tr>\n",
       "      <th>3</th>\n",
       "      <td>2017-01-01 03:00:00+08:00</td>\n",
       "      <td>3.0</td>\n",
       "      <td>41.067468</td>\n",
       "      <td>False</td>\n",
       "      <td>2017-01-01 02:00:00+08:00</td>\n",
       "      <td>0 days 01:00:00</td>\n",
       "    </tr>\n",
       "    <tr>\n",
       "      <th>4</th>\n",
       "      <td>2017-01-01 04:00:00+08:00</td>\n",
       "      <td>4.0</td>\n",
       "      <td>46.448653</td>\n",
       "      <td>False</td>\n",
       "      <td>2017-01-01 03:00:00+08:00</td>\n",
       "      <td>0 days 01:00:00</td>\n",
       "    </tr>\n",
       "  </tbody>\n",
       "</table>\n",
       "</div>"
      ],
      "text/plain": [
       "                       date   id      speed is_test                  lag_date  \\\n",
       "0 2017-01-01 00:00:00+08:00  0.0  43.002930   False                       NaT   \n",
       "1 2017-01-01 01:00:00+08:00  1.0  46.118696   False 2017-01-01 00:00:00+08:00   \n",
       "2 2017-01-01 02:00:00+08:00  2.0  44.294158   False 2017-01-01 01:00:00+08:00   \n",
       "3 2017-01-01 03:00:00+08:00  3.0  41.067468   False 2017-01-01 02:00:00+08:00   \n",
       "4 2017-01-01 04:00:00+08:00  4.0  46.448653   False 2017-01-01 03:00:00+08:00   \n",
       "\n",
       "         interval  \n",
       "0             NaT  \n",
       "1 0 days 01:00:00  \n",
       "2 0 days 01:00:00  \n",
       "3 0 days 01:00:00  \n",
       "4 0 days 01:00:00  "
      ]
     },
     "execution_count": 14,
     "metadata": {},
     "output_type": "execute_result"
    }
   ],
   "source": [
    "full_df = pd.merge(ideal_df, all_df, on=\"date\", how=\"left\")\n",
    "full_df.head(5)"
   ]
  },
  {
   "cell_type": "code",
   "execution_count": 15,
   "metadata": {
    "execution": {
     "iopub.execute_input": "2020-11-20T09:29:26.292965Z",
     "iopub.status.busy": "2020-11-20T09:29:26.291810Z",
     "iopub.status.idle": "2020-11-20T09:29:26.301226Z",
     "shell.execute_reply": "2020-11-20T09:29:26.300459Z"
    },
    "papermill": {
     "duration": 0.086662,
     "end_time": "2020-11-20T09:29:26.301357",
     "exception": false,
     "start_time": "2020-11-20T09:29:26.214695",
     "status": "completed"
    },
    "tags": []
   },
   "outputs": [
    {
     "data": {
      "text/plain": [
       "0 days 01:00:00    17519\n",
       "Name: interval, dtype: int64"
      ]
     },
     "execution_count": 15,
     "metadata": {},
     "output_type": "execute_result"
    }
   ],
   "source": [
    "full_df[\"lag_date\"] = full_df[\"date\"].shift()\n",
    "full_df[\"interval\"] = (full_df[\"date\"] - full_df[\"lag_date\"])\n",
    "full_df[\"interval\"].value_counts()"
   ]
  },
  {
   "cell_type": "code",
   "execution_count": 16,
   "metadata": {
    "execution": {
     "iopub.execute_input": "2020-11-20T09:29:26.453720Z",
     "iopub.status.busy": "2020-11-20T09:29:26.452550Z",
     "iopub.status.idle": "2020-11-20T09:29:26.456832Z",
     "shell.execute_reply": "2020-11-20T09:29:26.457502Z"
    },
    "papermill": {
     "duration": 0.08512,
     "end_time": "2020-11-20T09:29:26.457691",
     "exception": false,
     "start_time": "2020-11-20T09:29:26.372571",
     "status": "completed"
    },
    "tags": []
   },
   "outputs": [
    {
     "name": "stdout",
     "output_type": "stream",
     "text": [
      "10\n"
     ]
    }
   ],
   "source": [
    "print(full_df[\"is_test\"].isna().sum())\n",
    "# Treat newly created missing time step as testing/unseen data.\n",
    "# full_df[\"is_test\"] = full_df[\"is_test\"].fillna(True)"
   ]
  },
  {
   "cell_type": "code",
   "execution_count": 17,
   "metadata": {
    "execution": {
     "iopub.execute_input": "2020-11-20T09:29:26.638580Z",
     "iopub.status.busy": "2020-11-20T09:29:26.637291Z",
     "iopub.status.idle": "2020-11-20T09:29:26.655827Z",
     "shell.execute_reply": "2020-11-20T09:29:26.654665Z"
    },
    "papermill": {
     "duration": 0.123765,
     "end_time": "2020-11-20T09:29:26.656005",
     "exception": false,
     "start_time": "2020-11-20T09:29:26.532240",
     "status": "completed"
    },
    "tags": []
   },
   "outputs": [
    {
     "data": {
      "text/html": [
       "<div>\n",
       "<style scoped>\n",
       "    .dataframe tbody tr th:only-of-type {\n",
       "        vertical-align: middle;\n",
       "    }\n",
       "\n",
       "    .dataframe tbody tr th {\n",
       "        vertical-align: top;\n",
       "    }\n",
       "\n",
       "    .dataframe thead th {\n",
       "        text-align: right;\n",
       "    }\n",
       "</style>\n",
       "<table border=\"1\" class=\"dataframe\">\n",
       "  <thead>\n",
       "    <tr style=\"text-align: right;\">\n",
       "      <th></th>\n",
       "      <th>date</th>\n",
       "      <th>id</th>\n",
       "      <th>speed</th>\n",
       "      <th>is_test</th>\n",
       "    </tr>\n",
       "  </thead>\n",
       "  <tbody>\n",
       "    <tr>\n",
       "      <th>0</th>\n",
       "      <td>2017-01-01 00:00:00+08:00</td>\n",
       "      <td>0.0</td>\n",
       "      <td>43.002930</td>\n",
       "      <td>False</td>\n",
       "    </tr>\n",
       "    <tr>\n",
       "      <th>1</th>\n",
       "      <td>2017-01-01 01:00:00+08:00</td>\n",
       "      <td>1.0</td>\n",
       "      <td>46.118696</td>\n",
       "      <td>False</td>\n",
       "    </tr>\n",
       "    <tr>\n",
       "      <th>2</th>\n",
       "      <td>2017-01-01 02:00:00+08:00</td>\n",
       "      <td>2.0</td>\n",
       "      <td>44.294158</td>\n",
       "      <td>False</td>\n",
       "    </tr>\n",
       "    <tr>\n",
       "      <th>3</th>\n",
       "      <td>2017-01-01 03:00:00+08:00</td>\n",
       "      <td>3.0</td>\n",
       "      <td>41.067468</td>\n",
       "      <td>False</td>\n",
       "    </tr>\n",
       "    <tr>\n",
       "      <th>4</th>\n",
       "      <td>2017-01-01 04:00:00+08:00</td>\n",
       "      <td>4.0</td>\n",
       "      <td>46.448653</td>\n",
       "      <td>False</td>\n",
       "    </tr>\n",
       "  </tbody>\n",
       "</table>\n",
       "</div>"
      ],
      "text/plain": [
       "                       date   id      speed is_test\n",
       "0 2017-01-01 00:00:00+08:00  0.0  43.002930   False\n",
       "1 2017-01-01 01:00:00+08:00  1.0  46.118696   False\n",
       "2 2017-01-01 02:00:00+08:00  2.0  44.294158   False\n",
       "3 2017-01-01 03:00:00+08:00  3.0  41.067468   False\n",
       "4 2017-01-01 04:00:00+08:00  4.0  46.448653   False"
      ]
     },
     "execution_count": 17,
     "metadata": {},
     "output_type": "execute_result"
    }
   ],
   "source": [
    "full_df = full_df[[\"date\", \"id\", \"speed\", \"is_test\"]]\n",
    "full_df.head()"
   ]
  },
  {
   "cell_type": "code",
   "execution_count": 18,
   "metadata": {
    "execution": {
     "iopub.execute_input": "2020-11-20T09:29:26.827786Z",
     "iopub.status.busy": "2020-11-20T09:29:26.826947Z",
     "iopub.status.idle": "2020-11-20T09:29:26.844279Z",
     "shell.execute_reply": "2020-11-20T09:29:26.843327Z"
    },
    "papermill": {
     "duration": 0.101572,
     "end_time": "2020-11-20T09:29:26.844454",
     "exception": false,
     "start_time": "2020-11-20T09:29:26.742882",
     "status": "completed"
    },
    "tags": []
   },
   "outputs": [
    {
     "data": {
      "text/plain": [
       "(10, 3504)"
      ]
     },
     "execution_count": 18,
     "metadata": {},
     "output_type": "execute_result"
    }
   ],
   "source": [
    "full_df[full_df.date.dt.year==2017][\"speed\"].isna().sum(), full_df[full_df.date.dt.year==2018][\"speed\"].isna().sum()"
   ]
  },
  {
   "cell_type": "code",
   "execution_count": 19,
   "metadata": {
    "execution": {
     "iopub.execute_input": "2020-11-20T09:29:26.999124Z",
     "iopub.status.busy": "2020-11-20T09:29:26.998267Z",
     "iopub.status.idle": "2020-11-20T09:29:27.002794Z",
     "shell.execute_reply": "2020-11-20T09:29:27.002046Z"
    },
    "papermill": {
     "duration": 0.081957,
     "end_time": "2020-11-20T09:29:27.002920",
     "exception": false,
     "start_time": "2020-11-20T09:29:26.920963",
     "status": "completed"
    },
    "tags": []
   },
   "outputs": [
    {
     "data": {
      "text/plain": [
       "(17520, 4)"
      ]
     },
     "execution_count": 19,
     "metadata": {},
     "output_type": "execute_result"
    }
   ],
   "source": [
    "full_df.shape"
   ]
  },
  {
   "cell_type": "markdown",
   "metadata": {
    "papermill": {
     "duration": 0.077274,
     "end_time": "2020-11-20T09:29:27.156211",
     "exception": false,
     "start_time": "2020-11-20T09:29:27.078937",
     "status": "completed"
    },
    "tags": []
   },
   "source": [
    "# Simulate the missing distrution in 2018 to 2017\n",
    "It is hard to generate stable features, especially rolling statistics in 2017 that similar to features in 2018, because there are many missing data in 2018.\n",
    "Therefore, we are making holes in 2017 data as well"
   ]
  },
  {
   "cell_type": "code",
   "execution_count": 20,
   "metadata": {
    "execution": {
     "iopub.execute_input": "2020-11-20T09:29:27.316743Z",
     "iopub.status.busy": "2020-11-20T09:29:27.315587Z",
     "iopub.status.idle": "2020-11-20T09:29:27.323145Z",
     "shell.execute_reply": "2020-11-20T09:29:27.322486Z"
    },
    "papermill": {
     "duration": 0.09228,
     "end_time": "2020-11-20T09:29:27.323278",
     "exception": false,
     "start_time": "2020-11-20T09:29:27.230998",
     "status": "completed"
    },
    "tags": []
   },
   "outputs": [
    {
     "name": "stdout",
     "output_type": "stream",
     "text": [
      "(17510, 4)\n"
     ]
    }
   ],
   "source": [
    "# TODO\n",
    "full_df = full_df[~full_df.is_test.isna()]\n",
    "full_df[\"id\"] = full_df[\"id\"].astype(int)\n",
    "print(full_df.shape)"
   ]
  },
  {
   "cell_type": "code",
   "execution_count": 21,
   "metadata": {
    "execution": {
     "iopub.execute_input": "2020-11-20T09:29:27.478371Z",
     "iopub.status.busy": "2020-11-20T09:29:27.477475Z",
     "iopub.status.idle": "2020-11-20T09:29:27.492329Z",
     "shell.execute_reply": "2020-11-20T09:29:27.491598Z"
    },
    "papermill": {
     "duration": 0.095413,
     "end_time": "2020-11-20T09:29:27.492460",
     "exception": false,
     "start_time": "2020-11-20T09:29:27.397047",
     "status": "completed"
    },
    "tags": []
   },
   "outputs": [
    {
     "data": {
      "text/plain": [
       "((8750, 4), (8760, 4))"
      ]
     },
     "execution_count": 21,
     "metadata": {},
     "output_type": "execute_result"
    }
   ],
   "source": [
    "full_2017_df = full_df[full_df.date.dt.year==2017].reset_index(drop=True)\n",
    "full_2018_df = full_df[full_df.date.dt.year==2018].reset_index(drop=True)\n",
    "full_2017_df.shape, full_2018_df.shape"
   ]
  },
  {
   "cell_type": "code",
   "execution_count": 22,
   "metadata": {
    "execution": {
     "iopub.execute_input": "2020-11-20T09:29:27.654647Z",
     "iopub.status.busy": "2020-11-20T09:29:27.649501Z",
     "iopub.status.idle": "2020-11-20T09:29:27.659539Z",
     "shell.execute_reply": "2020-11-20T09:29:27.658788Z"
    },
    "papermill": {
     "duration": 0.09086,
     "end_time": "2020-11-20T09:29:27.659681",
     "exception": false,
     "start_time": "2020-11-20T09:29:27.568821",
     "status": "completed"
    },
    "tags": []
   },
   "outputs": [
    {
     "data": {
      "text/plain": [
       "4289   2017-06-29 02:00:00+08:00\n",
       "2356   2017-04-09 13:00:00+08:00\n",
       "7659   2017-11-16 13:00:00+08:00\n",
       "5737   2017-08-28 11:00:00+08:00\n",
       "2041   2017-03-27 10:00:00+08:00\n",
       "                  ...           \n",
       "4919   2017-07-25 09:00:00+08:00\n",
       "576    2017-01-25 09:00:00+08:00\n",
       "1519   2017-03-05 16:00:00+08:00\n",
       "2598   2017-04-19 15:00:00+08:00\n",
       "1712   2017-03-13 17:00:00+08:00\n",
       "Name: date, Length: 3500, dtype: datetime64[ns, Hongkong]"
      ]
     },
     "execution_count": 22,
     "metadata": {},
     "output_type": "execute_result"
    }
   ],
   "source": [
    "date_holes = full_2017_df.sample(frac=3504/full_2018_df.shape[0], random_state=random_state).date\n",
    "date_holes"
   ]
  },
  {
   "cell_type": "code",
   "execution_count": 23,
   "metadata": {
    "execution": {
     "iopub.execute_input": "2020-11-20T09:29:27.818824Z",
     "iopub.status.busy": "2020-11-20T09:29:27.817657Z",
     "iopub.status.idle": "2020-11-20T09:29:27.826237Z",
     "shell.execute_reply": "2020-11-20T09:29:27.825411Z"
    },
    "papermill": {
     "duration": 0.091616,
     "end_time": "2020-11-20T09:29:27.826369",
     "exception": false,
     "start_time": "2020-11-20T09:29:27.734753",
     "status": "completed"
    },
    "tags": []
   },
   "outputs": [
    {
     "data": {
      "text/plain": [
       "3500"
      ]
     },
     "execution_count": 23,
     "metadata": {},
     "output_type": "execute_result"
    }
   ],
   "source": [
    "full_2017_df[\"truth\"] = full_2017_df.speed\n",
    "full_2017_df.loc[full_2017_df.date.isin(date_holes), \"speed\"] = np.nan\n",
    "full_2017_df[\"speed\"].isna().sum()"
   ]
  },
  {
   "cell_type": "markdown",
   "metadata": {
    "papermill": {
     "duration": 0.075735,
     "end_time": "2020-11-20T09:29:27.978588",
     "exception": false,
     "start_time": "2020-11-20T09:29:27.902853",
     "status": "completed"
    },
    "tags": []
   },
   "source": [
    "Now 2017 have similar missing data in 2018"
   ]
  },
  {
   "cell_type": "code",
   "execution_count": 24,
   "metadata": {
    "execution": {
     "iopub.execute_input": "2020-11-20T09:29:28.141595Z",
     "iopub.status.busy": "2020-11-20T09:29:28.140770Z",
     "iopub.status.idle": "2020-11-20T09:29:28.156109Z",
     "shell.execute_reply": "2020-11-20T09:29:28.155454Z"
    },
    "papermill": {
     "duration": 0.102019,
     "end_time": "2020-11-20T09:29:28.156242",
     "exception": false,
     "start_time": "2020-11-20T09:29:28.054223",
     "status": "completed"
    },
    "tags": []
   },
   "outputs": [
    {
     "data": {
      "text/plain": [
       "0 days 01:00:00    3183\n",
       "0 days 02:00:00    1206\n",
       "0 days 03:00:00     515\n",
       "0 days 04:00:00     198\n",
       "0 days 05:00:00      90\n",
       "0 days 06:00:00      40\n",
       "0 days 08:00:00       6\n",
       "0 days 07:00:00       6\n",
       "0 days 09:00:00       4\n",
       "0 days 11:00:00       1\n",
       "Name: interval, dtype: int64"
      ]
     },
     "execution_count": 24,
     "metadata": {},
     "output_type": "execute_result"
    }
   ],
   "source": [
    "temp_df = full_2017_df[~full_2017_df.speed.isna()].reset_index(drop=True)\n",
    "temp_df[\"lag_date\"] = temp_df[\"date\"].shift()\n",
    "temp_df[\"interval\"] = (temp_df[\"date\"] - temp_df[\"lag_date\"])\n",
    "temp_df[temp_df.date.dt.year == 2017][\"interval\"].value_counts()\n",
    "\n",
    "\n",
    "# 2018 interval distribution:\n",
    "# 0 days 01:00:00    3135\n",
    "# 0 days 02:00:00    1260\n",
    "# 0 days 03:00:00     526\n",
    "# 0 days 04:00:00     217\n",
    "# 0 days 05:00:00      75\n",
    "# 0 days 06:00:00      30\n",
    "# 0 days 07:00:00       8\n",
    "# 0 days 10:00:00       2\n",
    "# 0 days 08:00:00       2\n",
    "# 0 days 09:00:00       1\n",
    "# Name: interval, dtype: int64"
   ]
  },
  {
   "cell_type": "code",
   "execution_count": 25,
   "metadata": {
    "execution": {
     "iopub.execute_input": "2020-11-20T09:29:28.316039Z",
     "iopub.status.busy": "2020-11-20T09:29:28.314834Z",
     "iopub.status.idle": "2020-11-20T09:29:28.322147Z",
     "shell.execute_reply": "2020-11-20T09:29:28.321507Z"
    },
    "papermill": {
     "duration": 0.090323,
     "end_time": "2020-11-20T09:29:28.322288",
     "exception": false,
     "start_time": "2020-11-20T09:29:28.231965",
     "status": "completed"
    },
    "tags": []
   },
   "outputs": [],
   "source": [
    "full_2018_df[\"truth\"] = full_2018_df.speed\n",
    "full_df = pd.concat([full_2017_df, full_2018_df], ignore_index=True)"
   ]
  },
  {
   "cell_type": "markdown",
   "metadata": {
    "papermill": {
     "duration": 0.076711,
     "end_time": "2020-11-20T09:29:28.477015",
     "exception": false,
     "start_time": "2020-11-20T09:29:28.400304",
     "status": "completed"
    },
    "tags": []
   },
   "source": [
    "# Preprocessing"
   ]
  },
  {
   "cell_type": "code",
   "execution_count": null,
   "metadata": {
    "papermill": {
     "duration": 0.077972,
     "end_time": "2020-11-20T09:29:28.632145",
     "exception": false,
     "start_time": "2020-11-20T09:29:28.554173",
     "status": "completed"
    },
    "tags": []
   },
   "outputs": [],
   "source": []
  },
  {
   "cell_type": "code",
   "execution_count": 26,
   "metadata": {
    "execution": {
     "iopub.execute_input": "2020-11-20T09:29:28.799350Z",
     "iopub.status.busy": "2020-11-20T09:29:28.794087Z",
     "iopub.status.idle": "2020-11-20T09:29:28.818495Z",
     "shell.execute_reply": "2020-11-20T09:29:28.817685Z"
    },
    "papermill": {
     "duration": 0.109817,
     "end_time": "2020-11-20T09:29:28.818644",
     "exception": false,
     "start_time": "2020-11-20T09:29:28.708827",
     "status": "completed"
    },
    "tags": []
   },
   "outputs": [],
   "source": [
    "def preprocessing(df: pd.DataFrame, speed_feature=\"speed\"):\n",
    "    \n",
    "    \n",
    "    # % change\n",
    "    for lag in [1, 2, 3]:\n",
    "        df[f\"Prev_{lag}_%_change\"] = df[\"per_change\"].shift() \n",
    "    \n",
    "    # Prev/Post hours speed compareing to their weekday_hour average\n",
    "    for lag in [1, 2, 3, 24]:\n",
    "        df[f\"Prev_{lag}_{speed_feature}\"] = df[speed_feature].shift(lag)\n",
    "        df[f\"Post_{lag}_{speed_feature}\"] = df[speed_feature].shift(-lag)\n",
    "           \n",
    "        df[f\"Prev_{lag}_weekday_hour_mean\"] = df[\"weekday_hour_avg_speed\"].shift(lag)\n",
    "        df[f\"Post_{lag}_weekday_hour_mean\"] = df[\"weekday_hour_avg_speed\"].shift(-lag)\n",
    "        \n",
    "        df[f\"Prev_{lag}_weekday_hour_std\"] = df[\"weekday_hour_std_speed\"].shift(lag)\n",
    "        df[f\"Post_{lag}_weekday_hour_std\"] = df[\"weekday_hour_std_speed\"].shift(-lag)\n",
    "        \n",
    "        \n",
    "        # Prev/Post speed compare to Prev/Post mean spped\n",
    "        df[f\"Ratio_Prev_{lag}_weekday_hour_mean\"] = df[f\"Prev_{lag}_{speed_feature}\"] / df[f\"Prev_{lag}_weekday_hour_mean\"]\n",
    "        df[f\"Ratio_Post_{lag}_weekday_hour_mean\"] = df[f\"Post_{lag}_{speed_feature}\"] / df[f\"Post_{lag}_weekday_hour_mean\"]\n",
    "        \n",
    "        df[f\"PDiff_Prev_{lag}_weekday_hour_mean\"] = (df[f\"Prev_{lag}_{speed_feature}\"] - df[f\"Prev_{lag}_weekday_hour_mean\"]) / df[f\"Prev_{lag}_weekday_hour_mean\"]\n",
    "        df[f\"PDiff_Post_{lag}_weekday_hour_mean\"] = (df[f\"Post_{lag}_{speed_feature}\"] - df[f\"Post_{lag}_weekday_hour_mean\"]) / df[f\"Post_{lag}_weekday_hour_mean\"]\n",
    "        \n",
    "        df[f\"Z_Score_Prev_{lag}_weekday_hour\"] = (df[f\"Prev_{lag}_{speed_feature}\"] - df[f\"Prev_{lag}_weekday_hour_mean\"]) / df[f\"Prev_{lag}_weekday_hour_std\"]\n",
    "        df[f\"Z_Score_Post_{lag}_weekday_hour\"] = (df[f\"Post_{lag}_{speed_feature}\"] - df[f\"Post_{lag}_weekday_hour_mean\"]) / df[f\"Post_{lag}_weekday_hour_std\"]\n",
    "    \n",
    "    # % change between prevs & posts\n",
    "    for lag in [3]:\n",
    "        df[f\"PDiff_Prev_1_{lag}\"] = (df[f\"Prev_{lag}_{speed_feature}\"] - df[f\"Prev_1_{speed_feature}\"]) / df[f\"Prev_{lag}_{speed_feature}\"]\n",
    "        \n",
    "\n",
    "    # Prev/Post Moving simple statistics\n",
    "    for win in [3, 5, 10]:\n",
    "        df[f\"Prev_{win}_Avg_{speed_feature}\"] = df[speed_feature].shift().rolling(win, win_type=None, min_periods=1).mean()\n",
    "        df[f\"Prev_{win}_Max_{speed_feature}\"] = df[speed_feature].shift().rolling(win, win_type=None, min_periods=1).max()\n",
    "        df[f\"Prev_{win}_Min_{speed_feature}\"] = df[speed_feature].shift().rolling(win, win_type=None, min_periods=1).min()\n",
    "        \n",
    "        df[f\"Post_{win}_Avg_{speed_feature}\"] = df[f\"Prev_{win}_Avg_{speed_feature}\"].shift(-win-1)\n",
    "        df[f\"Post_{win}_Max_{speed_feature}\"] = df[f\"Prev_{win}_Max_{speed_feature}\"].shift(-win-1)\n",
    "        df[f\"Post_{win}_Min_{speed_feature}\"] = df[f\"Prev_{win}_Min_{speed_feature}\"].shift(-win-1)\n",
    "    \n",
    "        df[f\"Ratio_Prev_2_{win}_Avg\"] = df[f\"Prev_2_{speed_feature}\"] / (df[f\"Prev_{win}_Avg_{speed_feature}\"])\n",
    "        \n",
    "        df[f\"Prev_{win}_EMA_{speed_feature}\"] = df[speed_feature].shift().ewm(win, min_periods=1, ignore_na=True).mean()\n",
    "    \n",
    "    # Prev/Post Moving groupby statistics\n",
    "#     for win in [3, 5]:\n",
    "#         df[f\"Prev_{win}_Avg_hourly_{speed_feature}\"] = full_df.groupby(\"weekday_hour\")[speed_feature].shift().rolling(win, min_periods=1).median()\n",
    "# #         df[f\"Post_{win}_Avg_hourly_{speed_feature}\"] = df[f\"Prev_{win}_Avg_hourly_{speed_feature}\"].shift(-win-1)\n",
    "    \n",
    "    \n",
    "    display(df.head(5))\n",
    "    return df"
   ]
  },
  {
   "cell_type": "code",
   "execution_count": 27,
   "metadata": {
    "execution": {
     "iopub.execute_input": "2020-11-20T09:29:28.993909Z",
     "iopub.status.busy": "2020-11-20T09:29:28.993078Z",
     "iopub.status.idle": "2020-11-20T09:29:29.197200Z",
     "shell.execute_reply": "2020-11-20T09:29:29.196597Z"
    },
    "papermill": {
     "duration": 0.301904,
     "end_time": "2020-11-20T09:29:29.197324",
     "exception": false,
     "start_time": "2020-11-20T09:29:28.895420",
     "status": "completed"
    },
    "tags": []
   },
   "outputs": [
    {
     "name": "stdout",
     "output_type": "stream",
     "text": [
      "holiday 0.05208452312964021\n"
     ]
    },
    {
     "name": "stderr",
     "output_type": "stream",
     "text": [
      "/opt/conda/lib/python3.7/site-packages/ipykernel_launcher.py:6: FutureWarning: Series.dt.weekofyear and Series.dt.week have been deprecated.  Please use Series.dt.isocalendar().week instead.\n",
      "  \n"
     ]
    },
    {
     "data": {
      "text/html": [
       "<div>\n",
       "<style scoped>\n",
       "    .dataframe tbody tr th:only-of-type {\n",
       "        vertical-align: middle;\n",
       "    }\n",
       "\n",
       "    .dataframe tbody tr th {\n",
       "        vertical-align: top;\n",
       "    }\n",
       "\n",
       "    .dataframe thead th {\n",
       "        text-align: right;\n",
       "    }\n",
       "</style>\n",
       "<table border=\"1\" class=\"dataframe\">\n",
       "  <thead>\n",
       "    <tr style=\"text-align: right;\">\n",
       "      <th></th>\n",
       "      <th>date</th>\n",
       "      <th>id</th>\n",
       "      <th>speed</th>\n",
       "      <th>is_test</th>\n",
       "      <th>truth</th>\n",
       "      <th>month</th>\n",
       "      <th>day</th>\n",
       "      <th>hour</th>\n",
       "      <th>weekday</th>\n",
       "      <th>dayofyear</th>\n",
       "      <th>...</th>\n",
       "      <th>Ratio_Prev_2_5_Avg</th>\n",
       "      <th>Prev_5_EMA_speed_fill_median</th>\n",
       "      <th>Prev_10_Avg_speed_fill_median</th>\n",
       "      <th>Prev_10_Max_speed_fill_median</th>\n",
       "      <th>Prev_10_Min_speed_fill_median</th>\n",
       "      <th>Post_10_Avg_speed_fill_median</th>\n",
       "      <th>Post_10_Max_speed_fill_median</th>\n",
       "      <th>Post_10_Min_speed_fill_median</th>\n",
       "      <th>Ratio_Prev_2_10_Avg</th>\n",
       "      <th>Prev_10_EMA_speed_fill_median</th>\n",
       "    </tr>\n",
       "  </thead>\n",
       "  <tbody>\n",
       "    <tr>\n",
       "      <th>0</th>\n",
       "      <td>2017-01-01 00:00:00+08:00</td>\n",
       "      <td>0</td>\n",
       "      <td>43.002930</td>\n",
       "      <td>False</td>\n",
       "      <td>43.002930</td>\n",
       "      <td>1</td>\n",
       "      <td>1</td>\n",
       "      <td>0</td>\n",
       "      <td>5</td>\n",
       "      <td>1</td>\n",
       "      <td>...</td>\n",
       "      <td>NaN</td>\n",
       "      <td>NaN</td>\n",
       "      <td>NaN</td>\n",
       "      <td>NaN</td>\n",
       "      <td>NaN</td>\n",
       "      <td>44.865575</td>\n",
       "      <td>47.482253</td>\n",
       "      <td>40.390623</td>\n",
       "      <td>NaN</td>\n",
       "      <td>NaN</td>\n",
       "    </tr>\n",
       "    <tr>\n",
       "      <th>1</th>\n",
       "      <td>2017-01-01 01:00:00+08:00</td>\n",
       "      <td>1</td>\n",
       "      <td>NaN</td>\n",
       "      <td>False</td>\n",
       "      <td>46.118696</td>\n",
       "      <td>1</td>\n",
       "      <td>1</td>\n",
       "      <td>1</td>\n",
       "      <td>5</td>\n",
       "      <td>1</td>\n",
       "      <td>...</td>\n",
       "      <td>NaN</td>\n",
       "      <td>43.002930</td>\n",
       "      <td>43.002930</td>\n",
       "      <td>43.002930</td>\n",
       "      <td>43.00293</td>\n",
       "      <td>44.132610</td>\n",
       "      <td>47.430576</td>\n",
       "      <td>40.152604</td>\n",
       "      <td>NaN</td>\n",
       "      <td>43.002930</td>\n",
       "    </tr>\n",
       "    <tr>\n",
       "      <th>2</th>\n",
       "      <td>2017-01-01 02:00:00+08:00</td>\n",
       "      <td>2</td>\n",
       "      <td>44.294158</td>\n",
       "      <td>False</td>\n",
       "      <td>44.294158</td>\n",
       "      <td>1</td>\n",
       "      <td>1</td>\n",
       "      <td>2</td>\n",
       "      <td>5</td>\n",
       "      <td>1</td>\n",
       "      <td>...</td>\n",
       "      <td>0.950497</td>\n",
       "      <td>45.446197</td>\n",
       "      <td>45.242592</td>\n",
       "      <td>47.482253</td>\n",
       "      <td>43.00293</td>\n",
       "      <td>43.975668</td>\n",
       "      <td>47.430576</td>\n",
       "      <td>40.152604</td>\n",
       "      <td>0.950497</td>\n",
       "      <td>45.349242</td>\n",
       "    </tr>\n",
       "    <tr>\n",
       "      <th>3</th>\n",
       "      <td>2017-01-01 03:00:00+08:00</td>\n",
       "      <td>3</td>\n",
       "      <td>NaN</td>\n",
       "      <td>False</td>\n",
       "      <td>41.067468</td>\n",
       "      <td>1</td>\n",
       "      <td>1</td>\n",
       "      <td>3</td>\n",
       "      <td>5</td>\n",
       "      <td>1</td>\n",
       "      <td>...</td>\n",
       "      <td>1.056889</td>\n",
       "      <td>44.990445</td>\n",
       "      <td>44.926447</td>\n",
       "      <td>47.482253</td>\n",
       "      <td>43.00293</td>\n",
       "      <td>44.026256</td>\n",
       "      <td>47.936459</td>\n",
       "      <td>40.152604</td>\n",
       "      <td>1.056889</td>\n",
       "      <td>44.963547</td>\n",
       "    </tr>\n",
       "    <tr>\n",
       "      <th>4</th>\n",
       "      <td>2017-01-01 04:00:00+08:00</td>\n",
       "      <td>4</td>\n",
       "      <td>46.448653</td>\n",
       "      <td>False</td>\n",
       "      <td>46.448653</td>\n",
       "      <td>1</td>\n",
       "      <td>1</td>\n",
       "      <td>4</td>\n",
       "      <td>5</td>\n",
       "      <td>1</td>\n",
       "      <td>...</td>\n",
       "      <td>0.972376</td>\n",
       "      <td>45.775942</td>\n",
       "      <td>45.552479</td>\n",
       "      <td>47.482253</td>\n",
       "      <td>43.00293</td>\n",
       "      <td>43.623007</td>\n",
       "      <td>47.936459</td>\n",
       "      <td>40.152604</td>\n",
       "      <td>0.972376</td>\n",
       "      <td>45.671070</td>\n",
       "    </tr>\n",
       "  </tbody>\n",
       "</table>\n",
       "<p>5 rows × 98 columns</p>\n",
       "</div>"
      ],
      "text/plain": [
       "                       date  id      speed is_test      truth  month  day  \\\n",
       "0 2017-01-01 00:00:00+08:00   0  43.002930   False  43.002930      1    1   \n",
       "1 2017-01-01 01:00:00+08:00   1        NaN   False  46.118696      1    1   \n",
       "2 2017-01-01 02:00:00+08:00   2  44.294158   False  44.294158      1    1   \n",
       "3 2017-01-01 03:00:00+08:00   3        NaN   False  41.067468      1    1   \n",
       "4 2017-01-01 04:00:00+08:00   4  46.448653   False  46.448653      1    1   \n",
       "\n",
       "   hour  weekday  dayofyear  ...  Ratio_Prev_2_5_Avg  \\\n",
       "0     0        5          1  ...                 NaN   \n",
       "1     1        5          1  ...                 NaN   \n",
       "2     2        5          1  ...            0.950497   \n",
       "3     3        5          1  ...            1.056889   \n",
       "4     4        5          1  ...            0.972376   \n",
       "\n",
       "   Prev_5_EMA_speed_fill_median  Prev_10_Avg_speed_fill_median  \\\n",
       "0                           NaN                            NaN   \n",
       "1                     43.002930                      43.002930   \n",
       "2                     45.446197                      45.242592   \n",
       "3                     44.990445                      44.926447   \n",
       "4                     45.775942                      45.552479   \n",
       "\n",
       "   Prev_10_Max_speed_fill_median  Prev_10_Min_speed_fill_median  \\\n",
       "0                            NaN                            NaN   \n",
       "1                      43.002930                       43.00293   \n",
       "2                      47.482253                       43.00293   \n",
       "3                      47.482253                       43.00293   \n",
       "4                      47.482253                       43.00293   \n",
       "\n",
       "   Post_10_Avg_speed_fill_median  Post_10_Max_speed_fill_median  \\\n",
       "0                      44.865575                      47.482253   \n",
       "1                      44.132610                      47.430576   \n",
       "2                      43.975668                      47.430576   \n",
       "3                      44.026256                      47.936459   \n",
       "4                      43.623007                      47.936459   \n",
       "\n",
       "   Post_10_Min_speed_fill_median  Ratio_Prev_2_10_Avg  \\\n",
       "0                      40.390623                  NaN   \n",
       "1                      40.152604                  NaN   \n",
       "2                      40.152604             0.950497   \n",
       "3                      40.152604             1.056889   \n",
       "4                      40.152604             0.972376   \n",
       "\n",
       "   Prev_10_EMA_speed_fill_median  \n",
       "0                            NaN  \n",
       "1                      43.002930  \n",
       "2                      45.349242  \n",
       "3                      44.963547  \n",
       "4                      45.671070  \n",
       "\n",
       "[5 rows x 98 columns]"
      ]
     },
     "metadata": {},
     "output_type": "display_data"
    }
   ],
   "source": [
    "full_df[\"month\"] = full_df.date.dt.month\n",
    "full_df[\"day\"] = full_df.date.dt.day\n",
    "full_df[\"hour\"] = full_df.date.dt.hour # 24\n",
    "full_df[\"weekday\"] = full_df.date.dt.weekday # 7\n",
    "full_df[\"dayofyear\"] = full_df.date.dt.dayofyear\n",
    "full_df[\"weekofyear\"] = full_df.date.dt.weekofyear\n",
    "\n",
    "full_df[\"holiday\"] = full_df.date.dt.floor('d').isin(holidays)\n",
    "print(\"holiday\", full_df[\"holiday\"].mean())\n",
    "\n",
    "# sun -> 6 \n",
    "full_df.loc[full_df[\"weekday\"]==0, \"weekday\"] = 7\n",
    "full_df[\"weekday\"] -= 1\n",
    "\n",
    "full_df[\"weekday_hour\"] = full_df[\"weekday\"] * 24 + full_df[\"hour\"]\n",
    "full_df[\"day_weekday_hour\"] = (full_df[\"day\"]//7) * (7*24) + full_df[\"weekday\"] * 24 + full_df[\"hour\"]\n",
    "full_df[\"quarter\"] = full_df.date.dt.quarter\n",
    "full_df[\"year_weekday_hour\"] = full_df.date.dt.year + full_df[\"weekday\"] * 24 + full_df[\"hour\"]\n",
    "\n",
    "full_df = full_df.sort_values(\"date\").reset_index(drop=True)\n",
    "\n",
    "full_df[\"speed_fill_median\"] = full_df.groupby(\"weekday_hour\")[\"speed\"].transform(\"median\")\n",
    "full_df.loc[~full_df.speed.isna(), \"speed_fill_median\"] = full_df.loc[~full_df.speed.isna(), \"speed\"] \n",
    "\n",
    "\n",
    "full_df[\"hour_avg_speed\"] = full_df.groupby(\"hour\")[\"truth\"].transform(\"mean\")\n",
    "full_df[\"hour_std_speed\"] = full_df.groupby(\"hour\")[\"truth\"].transform(\"std\")\n",
    "\n",
    "full_df[\"weekday_hour_avg_speed\"] = full_df.groupby([\"weekday_hour\"])[\"truth\"].transform(\"mean\")\n",
    "full_df[\"weekday_hour_std_speed\"] = full_df.groupby([\"weekday_hour\"])[\"truth\"].transform(\"std\")\n",
    "\n",
    "\n",
    "    \n",
    "full_df[\"per_change\"] = full_df[\"speed\"].pct_change()\n",
    "\n",
    "\n",
    "\n",
    "full_df = preprocessing(full_df, \"speed_fill_median\")"
   ]
  },
  {
   "cell_type": "code",
   "execution_count": 28,
   "metadata": {
    "execution": {
     "iopub.execute_input": "2020-11-20T09:29:29.364740Z",
     "iopub.status.busy": "2020-11-20T09:29:29.363899Z",
     "iopub.status.idle": "2020-11-20T09:29:29.368544Z",
     "shell.execute_reply": "2020-11-20T09:29:29.367957Z"
    },
    "papermill": {
     "duration": 0.092227,
     "end_time": "2020-11-20T09:29:29.368695",
     "exception": false,
     "start_time": "2020-11-20T09:29:29.276468",
     "status": "completed"
    },
    "tags": []
   },
   "outputs": [
    {
     "data": {
      "text/plain": [
       "0        2137\n",
       "1        2138\n",
       "2        2139\n",
       "3        2140\n",
       "4        2141\n",
       "         ... \n",
       "17505    2181\n",
       "17506    2182\n",
       "17507    2183\n",
       "17508    2184\n",
       "17509    2185\n",
       "Name: year_weekday_hour, Length: 17510, dtype: int64"
      ]
     },
     "execution_count": 28,
     "metadata": {},
     "output_type": "execute_result"
    }
   ],
   "source": [
    "full_df[\"year_weekday_hour\"]"
   ]
  },
  {
   "cell_type": "code",
   "execution_count": 29,
   "metadata": {
    "execution": {
     "iopub.execute_input": "2020-11-20T09:29:29.539391Z",
     "iopub.status.busy": "2020-11-20T09:29:29.538370Z",
     "iopub.status.idle": "2020-11-20T09:29:29.589674Z",
     "shell.execute_reply": "2020-11-20T09:29:29.588413Z"
    },
    "papermill": {
     "duration": 0.140456,
     "end_time": "2020-11-20T09:29:29.589839",
     "exception": false,
     "start_time": "2020-11-20T09:29:29.449383",
     "status": "completed"
    },
    "tags": []
   },
   "outputs": [
    {
     "data": {
      "text/plain": [
       "(weekday\n",
       " 0    2.298077\n",
       " 1    2.057692\n",
       " 2    1.894231\n",
       " 3    1.788462\n",
       " 4    2.365385\n",
       " 5    4.657143\n",
       " 6    2.904762\n",
       " Name: hour, dtype: float64,\n",
       " weekday\n",
       " 0    15.557692\n",
       " 1    15.894231\n",
       " 2    16.605769\n",
       " 3    16.355769\n",
       " 4    15.288462\n",
       " 5    17.828571\n",
       " 6    16.514286\n",
       " Name: hour, dtype: float64)"
      ]
     },
     "execution_count": 29,
     "metadata": {},
     "output_type": "execute_result"
    }
   ],
   "source": [
    "full_df[\"date_only\"] = full_df.date.dt.floor(\"d\")\n",
    "full_df[\"daily_min\"] = full_df.groupby(\"date_only\")[\"truth\"].transform(\"min\")\n",
    "full_df[\"daily_max\"] = full_df.groupby(\"date_only\")[\"truth\"].transform(\"max\")\n",
    "\n",
    "peak_hours = full_df[full_df[\"truth\"] == full_df[\"daily_max\"]].groupby(\"weekday\").hour.mean()\n",
    "low_hours = full_df[full_df[\"truth\"] == full_df[\"daily_min\"]].groupby(\"weekday\").hour.mean()\n",
    "peak_hours, low_hours"
   ]
  },
  {
   "cell_type": "code",
   "execution_count": 30,
   "metadata": {
    "execution": {
     "iopub.execute_input": "2020-11-20T09:29:29.759381Z",
     "iopub.status.busy": "2020-11-20T09:29:29.758569Z",
     "iopub.status.idle": "2020-11-20T09:29:30.052344Z",
     "shell.execute_reply": "2020-11-20T09:29:30.052960Z"
    },
    "papermill": {
     "duration": 0.381555,
     "end_time": "2020-11-20T09:29:30.053119",
     "exception": false,
     "start_time": "2020-11-20T09:29:29.671564",
     "status": "completed"
    },
    "tags": []
   },
   "outputs": [
    {
     "data": {
      "text/plain": [
       "<matplotlib.axes._subplots.AxesSubplot at 0x7fcf9e1738d0>"
      ]
     },
     "execution_count": 30,
     "metadata": {},
     "output_type": "execute_result"
    },
    {
     "data": {
      "image/png": "[encoded data removed]",
      "text/plain": [
       "<Figure size 1800x360 with 1 Axes>"
      ]
     },
     "metadata": {
      "needs_background": "light"
     },
     "output_type": "display_data"
    }
   ],
   "source": [
    "full_df.groupby(\"day_weekday_hour\")[\"speed\"].median().plot(figsize=(25,5))"
   ]
  },
  {
   "cell_type": "code",
   "execution_count": 31,
   "metadata": {
    "execution": {
     "iopub.execute_input": "2020-11-20T09:29:30.278576Z",
     "iopub.status.busy": "2020-11-20T09:29:30.277824Z",
     "iopub.status.idle": "2020-11-20T09:29:30.500736Z",
     "shell.execute_reply": "2020-11-20T09:29:30.500100Z"
    },
    "papermill": {
     "duration": 0.312219,
     "end_time": "2020-11-20T09:29:30.500872",
     "exception": false,
     "start_time": "2020-11-20T09:29:30.188653",
     "status": "completed"
    },
    "tags": []
   },
   "outputs": [
    {
     "data": {
      "text/plain": [
       "<matplotlib.axes._subplots.AxesSubplot at 0x7fcf9df939d0>"
      ]
     },
     "execution_count": 31,
     "metadata": {},
     "output_type": "execute_result"
    },
    {
     "data": {
      "image/png": "[encoded data removed]",
      "text/plain": [
       "<Figure size 1800x360 with 1 Axes>"
      ]
     },
     "metadata": {
      "needs_background": "light"
     },
     "output_type": "display_data"
    }
   ],
   "source": [
    "full_df.groupby(\"weekday_hour\")[\"speed\"].median().plot(figsize=(25,5))"
   ]
  },
  {
   "cell_type": "code",
   "execution_count": 32,
   "metadata": {
    "execution": {
     "iopub.execute_input": "2020-11-20T09:29:30.681330Z",
     "iopub.status.busy": "2020-11-20T09:29:30.680477Z",
     "iopub.status.idle": "2020-11-20T09:29:30.884294Z",
     "shell.execute_reply": "2020-11-20T09:29:30.883653Z"
    },
    "papermill": {
     "duration": 0.297562,
     "end_time": "2020-11-20T09:29:30.884425",
     "exception": false,
     "start_time": "2020-11-20T09:29:30.586863",
     "status": "completed"
    },
    "tags": []
   },
   "outputs": [
    {
     "data": {
      "text/plain": [
       "<matplotlib.axes._subplots.AxesSubplot at 0x7fcf9dfe3890>"
      ]
     },
     "execution_count": 32,
     "metadata": {},
     "output_type": "execute_result"
    },
    {
     "data": {
      "image/png": "[encoded data removed]",
      "text/plain": [
       "<Figure size 1800x360 with 1 Axes>"
      ]
     },
     "metadata": {
      "needs_background": "light"
     },
     "output_type": "display_data"
    }
   ],
   "source": [
    "full_df.groupby(\"hour\")[\"speed\"].median().plot(figsize=(25,5))"
   ]
  },
  {
   "cell_type": "markdown",
   "metadata": {
    "papermill": {
     "duration": 0.09066,
     "end_time": "2020-11-20T09:29:31.066015",
     "exception": false,
     "start_time": "2020-11-20T09:29:30.975355",
     "status": "completed"
    },
    "tags": []
   },
   "source": [
    "# Setup Validation Data"
   ]
  },
  {
   "cell_type": "code",
   "execution_count": 33,
   "metadata": {
    "execution": {
     "iopub.execute_input": "2020-11-20T09:29:31.261727Z",
     "iopub.status.busy": "2020-11-20T09:29:31.260930Z",
     "iopub.status.idle": "2020-11-20T09:29:31.298776Z",
     "shell.execute_reply": "2020-11-20T09:29:31.299348Z"
    },
    "papermill": {
     "duration": 0.139821,
     "end_time": "2020-11-20T09:29:31.299526",
     "exception": false,
     "start_time": "2020-11-20T09:29:31.159705",
     "status": "completed"
    },
    "tags": []
   },
   "outputs": [
    {
     "data": {
      "text/plain": [
       "((10506, 101), (3500, 101), (5256, 101))"
      ]
     },
     "execution_count": 33,
     "metadata": {},
     "output_type": "execute_result"
    }
   ],
   "source": [
    "train_df = full_df[~full_df.speed.isna()].reset_index(drop=True)\n",
    "valid_df_2017 = full_df[(full_df.speed.isna()) & (full_df.date.dt.year==2017)].reset_index(drop=True)\n",
    "valid_df_2018 = full_df[(~full_df.speed.isna()) & (full_df.date.dt.year==2018)].reset_index(drop=True)\n",
    "\n",
    "train_df.shape, valid_df_2017.shape, valid_df_2018.shape"
   ]
  },
  {
   "cell_type": "code",
   "execution_count": 34,
   "metadata": {
    "execution": {
     "iopub.execute_input": "2020-11-20T09:29:31.487165Z",
     "iopub.status.busy": "2020-11-20T09:29:31.486135Z",
     "iopub.status.idle": "2020-11-20T09:29:31.492560Z",
     "shell.execute_reply": "2020-11-20T09:29:31.491787Z"
    },
    "papermill": {
     "duration": 0.10264,
     "end_time": "2020-11-20T09:29:31.492720",
     "exception": false,
     "start_time": "2020-11-20T09:29:31.390080",
     "status": "completed"
    },
    "tags": []
   },
   "outputs": [
    {
     "data": {
      "text/plain": [
       "(0.05111364934323244, 0.053714285714285714, 0.05117960426179604)"
      ]
     },
     "execution_count": 34,
     "metadata": {},
     "output_type": "execute_result"
    }
   ],
   "source": [
    "train_df[\"holiday\"].mean(), valid_df_2017[\"holiday\"].mean(), valid_df_2018[\"holiday\"].mean()"
   ]
  },
  {
   "cell_type": "code",
   "execution_count": 35,
   "metadata": {
    "execution": {
     "iopub.execute_input": "2020-11-20T09:29:31.685172Z",
     "iopub.status.busy": "2020-11-20T09:29:31.683988Z",
     "iopub.status.idle": "2020-11-20T09:29:31.689282Z",
     "shell.execute_reply": "2020-11-20T09:29:31.688635Z"
    },
    "papermill": {
     "duration": 0.105261,
     "end_time": "2020-11-20T09:29:31.689422",
     "exception": false,
     "start_time": "2020-11-20T09:29:31.584161",
     "status": "completed"
    },
    "tags": []
   },
   "outputs": [
    {
     "data": {
      "text/plain": [
       "(0, 0, 0)"
      ]
     },
     "execution_count": 35,
     "metadata": {},
     "output_type": "execute_result"
    }
   ],
   "source": [
    "train_df.truth.isna().sum(), valid_df_2017.truth.isna().sum(),  valid_df_2018.truth.isna().sum()"
   ]
  },
  {
   "cell_type": "code",
   "execution_count": 36,
   "metadata": {
    "execution": {
     "iopub.execute_input": "2020-11-20T09:29:31.879796Z",
     "iopub.status.busy": "2020-11-20T09:29:31.878987Z",
     "iopub.status.idle": "2020-11-20T09:29:31.891000Z",
     "shell.execute_reply": "2020-11-20T09:29:31.890208Z"
    },
    "papermill": {
     "duration": 0.109633,
     "end_time": "2020-11-20T09:29:31.891130",
     "exception": false,
     "start_time": "2020-11-20T09:29:31.781497",
     "status": "completed"
    },
    "tags": []
   },
   "outputs": [
    {
     "data": {
      "text/plain": [
       "(3504, 101)"
      ]
     },
     "execution_count": 36,
     "metadata": {},
     "output_type": "execute_result"
    }
   ],
   "source": [
    "test_df = full_df[(full_df.speed.isna()) & (full_df.date.dt.year==2018)].reset_index(drop=True)\n",
    "test_df.shape"
   ]
  },
  {
   "cell_type": "code",
   "execution_count": 37,
   "metadata": {
    "execution": {
     "iopub.execute_input": "2020-11-20T09:29:32.098553Z",
     "iopub.status.busy": "2020-11-20T09:29:32.086064Z",
     "iopub.status.idle": "2020-11-20T09:29:32.117136Z",
     "shell.execute_reply": "2020-11-20T09:29:32.116484Z"
    },
    "papermill": {
     "duration": 0.132979,
     "end_time": "2020-11-20T09:29:32.117271",
     "exception": false,
     "start_time": "2020-11-20T09:29:31.984292",
     "status": "completed"
    },
    "tags": []
   },
   "outputs": [
    {
     "data": {
      "text/html": [
       "<div>\n",
       "<style scoped>\n",
       "    .dataframe tbody tr th:only-of-type {\n",
       "        vertical-align: middle;\n",
       "    }\n",
       "\n",
       "    .dataframe tbody tr th {\n",
       "        vertical-align: top;\n",
       "    }\n",
       "\n",
       "    .dataframe thead th {\n",
       "        text-align: right;\n",
       "    }\n",
       "</style>\n",
       "<table border=\"1\" class=\"dataframe\">\n",
       "  <thead>\n",
       "    <tr style=\"text-align: right;\">\n",
       "      <th></th>\n",
       "      <th>date</th>\n",
       "      <th>id</th>\n",
       "      <th>speed</th>\n",
       "      <th>is_test</th>\n",
       "      <th>truth</th>\n",
       "      <th>month</th>\n",
       "      <th>day</th>\n",
       "      <th>hour</th>\n",
       "      <th>weekday</th>\n",
       "      <th>dayofyear</th>\n",
       "      <th>...</th>\n",
       "      <th>Prev_10_Max_speed_fill_median</th>\n",
       "      <th>Prev_10_Min_speed_fill_median</th>\n",
       "      <th>Post_10_Avg_speed_fill_median</th>\n",
       "      <th>Post_10_Max_speed_fill_median</th>\n",
       "      <th>Post_10_Min_speed_fill_median</th>\n",
       "      <th>Ratio_Prev_2_10_Avg</th>\n",
       "      <th>Prev_10_EMA_speed_fill_median</th>\n",
       "      <th>date_only</th>\n",
       "      <th>daily_min</th>\n",
       "      <th>daily_max</th>\n",
       "    </tr>\n",
       "  </thead>\n",
       "  <tbody>\n",
       "    <tr>\n",
       "      <th>0</th>\n",
       "      <td>2018-01-01 02:00:00+08:00</td>\n",
       "      <td>0</td>\n",
       "      <td>NaN</td>\n",
       "      <td>True</td>\n",
       "      <td>NaN</td>\n",
       "      <td>1</td>\n",
       "      <td>1</td>\n",
       "      <td>2</td>\n",
       "      <td>6</td>\n",
       "      <td>1</td>\n",
       "      <td>...</td>\n",
       "      <td>47.648155</td>\n",
       "      <td>35.688279</td>\n",
       "      <td>35.915872</td>\n",
       "      <td>50.626977</td>\n",
       "      <td>15.351863</td>\n",
       "      <td>1.029970</td>\n",
       "      <td>42.248563</td>\n",
       "      <td>2018-01-01 00:00:00+08:00</td>\n",
       "      <td>17.453598</td>\n",
       "      <td>50.626977</td>\n",
       "    </tr>\n",
       "    <tr>\n",
       "      <th>1</th>\n",
       "      <td>2018-01-01 05:00:00+08:00</td>\n",
       "      <td>1</td>\n",
       "      <td>NaN</td>\n",
       "      <td>True</td>\n",
       "      <td>NaN</td>\n",
       "      <td>1</td>\n",
       "      <td>1</td>\n",
       "      <td>5</td>\n",
       "      <td>6</td>\n",
       "      <td>1</td>\n",
       "      <td>...</td>\n",
       "      <td>50.626977</td>\n",
       "      <td>35.688279</td>\n",
       "      <td>30.684703</td>\n",
       "      <td>46.179884</td>\n",
       "      <td>15.351863</td>\n",
       "      <td>1.116431</td>\n",
       "      <td>43.883367</td>\n",
       "      <td>2018-01-01 00:00:00+08:00</td>\n",
       "      <td>17.453598</td>\n",
       "      <td>50.626977</td>\n",
       "    </tr>\n",
       "    <tr>\n",
       "      <th>2</th>\n",
       "      <td>2018-01-01 07:00:00+08:00</td>\n",
       "      <td>2</td>\n",
       "      <td>NaN</td>\n",
       "      <td>True</td>\n",
       "      <td>NaN</td>\n",
       "      <td>1</td>\n",
       "      <td>1</td>\n",
       "      <td>7</td>\n",
       "      <td>6</td>\n",
       "      <td>1</td>\n",
       "      <td>...</td>\n",
       "      <td>50.626977</td>\n",
       "      <td>35.688279</td>\n",
       "      <td>26.955650</td>\n",
       "      <td>36.009622</td>\n",
       "      <td>15.351863</td>\n",
       "      <td>1.021299</td>\n",
       "      <td>44.305368</td>\n",
       "      <td>2018-01-01 00:00:00+08:00</td>\n",
       "      <td>17.453598</td>\n",
       "      <td>50.626977</td>\n",
       "    </tr>\n",
       "    <tr>\n",
       "      <th>3</th>\n",
       "      <td>2018-01-01 08:00:00+08:00</td>\n",
       "      <td>3</td>\n",
       "      <td>NaN</td>\n",
       "      <td>True</td>\n",
       "      <td>NaN</td>\n",
       "      <td>1</td>\n",
       "      <td>1</td>\n",
       "      <td>8</td>\n",
       "      <td>6</td>\n",
       "      <td>1</td>\n",
       "      <td>...</td>\n",
       "      <td>50.626977</td>\n",
       "      <td>28.028857</td>\n",
       "      <td>26.595991</td>\n",
       "      <td>36.009622</td>\n",
       "      <td>11.755274</td>\n",
       "      <td>1.049748</td>\n",
       "      <td>42.825685</td>\n",
       "      <td>2018-01-01 00:00:00+08:00</td>\n",
       "      <td>17.453598</td>\n",
       "      <td>50.626977</td>\n",
       "    </tr>\n",
       "    <tr>\n",
       "      <th>4</th>\n",
       "      <td>2018-01-01 10:00:00+08:00</td>\n",
       "      <td>4</td>\n",
       "      <td>NaN</td>\n",
       "      <td>True</td>\n",
       "      <td>NaN</td>\n",
       "      <td>1</td>\n",
       "      <td>1</td>\n",
       "      <td>10</td>\n",
       "      <td>6</td>\n",
       "      <td>1</td>\n",
       "      <td>...</td>\n",
       "      <td>50.626977</td>\n",
       "      <td>15.351863</td>\n",
       "      <td>28.137377</td>\n",
       "      <td>41.567309</td>\n",
       "      <td>11.755274</td>\n",
       "      <td>0.374717</td>\n",
       "      <td>39.935479</td>\n",
       "      <td>2018-01-01 00:00:00+08:00</td>\n",
       "      <td>17.453598</td>\n",
       "      <td>50.626977</td>\n",
       "    </tr>\n",
       "  </tbody>\n",
       "</table>\n",
       "<p>5 rows × 101 columns</p>\n",
       "</div>"
      ],
      "text/plain": [
       "                       date  id  speed is_test  truth  month  day  hour  \\\n",
       "0 2018-01-01 02:00:00+08:00   0    NaN    True    NaN      1    1     2   \n",
       "1 2018-01-01 05:00:00+08:00   1    NaN    True    NaN      1    1     5   \n",
       "2 2018-01-01 07:00:00+08:00   2    NaN    True    NaN      1    1     7   \n",
       "3 2018-01-01 08:00:00+08:00   3    NaN    True    NaN      1    1     8   \n",
       "4 2018-01-01 10:00:00+08:00   4    NaN    True    NaN      1    1    10   \n",
       "\n",
       "   weekday  dayofyear  ...  Prev_10_Max_speed_fill_median  \\\n",
       "0        6          1  ...                      47.648155   \n",
       "1        6          1  ...                      50.626977   \n",
       "2        6          1  ...                      50.626977   \n",
       "3        6          1  ...                      50.626977   \n",
       "4        6          1  ...                      50.626977   \n",
       "\n",
       "   Prev_10_Min_speed_fill_median  Post_10_Avg_speed_fill_median  \\\n",
       "0                      35.688279                      35.915872   \n",
       "1                      35.688279                      30.684703   \n",
       "2                      35.688279                      26.955650   \n",
       "3                      28.028857                      26.595991   \n",
       "4                      15.351863                      28.137377   \n",
       "\n",
       "   Post_10_Max_speed_fill_median  Post_10_Min_speed_fill_median  \\\n",
       "0                      50.626977                      15.351863   \n",
       "1                      46.179884                      15.351863   \n",
       "2                      36.009622                      15.351863   \n",
       "3                      36.009622                      11.755274   \n",
       "4                      41.567309                      11.755274   \n",
       "\n",
       "   Ratio_Prev_2_10_Avg  Prev_10_EMA_speed_fill_median  \\\n",
       "0             1.029970                      42.248563   \n",
       "1             1.116431                      43.883367   \n",
       "2             1.021299                      44.305368   \n",
       "3             1.049748                      42.825685   \n",
       "4             0.374717                      39.935479   \n",
       "\n",
       "                  date_only  daily_min  daily_max  \n",
       "0 2018-01-01 00:00:00+08:00  17.453598  50.626977  \n",
       "1 2018-01-01 00:00:00+08:00  17.453598  50.626977  \n",
       "2 2018-01-01 00:00:00+08:00  17.453598  50.626977  \n",
       "3 2018-01-01 00:00:00+08:00  17.453598  50.626977  \n",
       "4 2018-01-01 00:00:00+08:00  17.453598  50.626977  \n",
       "\n",
       "[5 rows x 101 columns]"
      ]
     },
     "execution_count": 37,
     "metadata": {},
     "output_type": "execute_result"
    }
   ],
   "source": [
    "test_df.head()"
   ]
  },
  {
   "cell_type": "code",
   "execution_count": 38,
   "metadata": {
    "execution": {
     "iopub.execute_input": "2020-11-20T09:29:32.314888Z",
     "iopub.status.busy": "2020-11-20T09:29:32.311844Z",
     "iopub.status.idle": "2020-11-20T09:29:32.321209Z",
     "shell.execute_reply": "2020-11-20T09:29:32.320215Z"
    },
    "papermill": {
     "duration": 0.112454,
     "end_time": "2020-11-20T09:29:32.321388",
     "exception": false,
     "start_time": "2020-11-20T09:29:32.208934",
     "status": "completed"
    },
    "tags": []
   },
   "outputs": [
    {
     "name": "stdout",
     "output_type": "stream",
     "text": [
      "['month',\n",
      " 'day',\n",
      " 'hour',\n",
      " 'weekday',\n",
      " 'dayofyear',\n",
      " 'weekofyear',\n",
      " 'holiday',\n",
      " 'weekday_hour',\n",
      " 'quarter',\n",
      " 'hour_avg_speed',\n",
      " 'hour_std_speed',\n",
      " 'weekday_hour_avg_speed',\n",
      " 'weekday_hour_std_speed',\n",
      " 'Prev_1_%_change',\n",
      " 'Prev_2_%_change',\n",
      " 'Prev_3_%_change',\n",
      " 'Prev_1_speed_fill_median',\n",
      " 'Post_1_speed_fill_median',\n",
      " 'Prev_1_weekday_hour_mean',\n",
      " 'Post_1_weekday_hour_mean',\n",
      " 'Prev_1_weekday_hour_std',\n",
      " 'Post_1_weekday_hour_std',\n",
      " 'Ratio_Prev_1_weekday_hour_mean',\n",
      " 'Ratio_Post_1_weekday_hour_mean',\n",
      " 'PDiff_Prev_1_weekday_hour_mean',\n",
      " 'PDiff_Post_1_weekday_hour_mean',\n",
      " 'Z_Score_Prev_1_weekday_hour',\n",
      " 'Z_Score_Post_1_weekday_hour',\n",
      " 'Prev_2_speed_fill_median',\n",
      " 'Post_2_speed_fill_median',\n",
      " 'Prev_2_weekday_hour_mean',\n",
      " 'Post_2_weekday_hour_mean',\n",
      " 'Prev_2_weekday_hour_std',\n",
      " 'Post_2_weekday_hour_std',\n",
      " 'Ratio_Prev_2_weekday_hour_mean',\n",
      " 'Ratio_Post_2_weekday_hour_mean',\n",
      " 'PDiff_Prev_2_weekday_hour_mean',\n",
      " 'PDiff_Post_2_weekday_hour_mean',\n",
      " 'Z_Score_Prev_2_weekday_hour',\n",
      " 'Z_Score_Post_2_weekday_hour',\n",
      " 'Prev_3_speed_fill_median',\n",
      " 'Post_3_speed_fill_median',\n",
      " 'Prev_3_weekday_hour_mean',\n",
      " 'Post_3_weekday_hour_mean',\n",
      " 'Prev_3_weekday_hour_std',\n",
      " 'Post_3_weekday_hour_std',\n",
      " 'Ratio_Prev_3_weekday_hour_mean',\n",
      " 'Ratio_Post_3_weekday_hour_mean',\n",
      " 'PDiff_Prev_3_weekday_hour_mean',\n",
      " 'PDiff_Post_3_weekday_hour_mean',\n",
      " 'Z_Score_Prev_3_weekday_hour',\n",
      " 'Z_Score_Post_3_weekday_hour',\n",
      " 'Prev_24_speed_fill_median',\n",
      " 'Post_24_speed_fill_median',\n",
      " 'Prev_24_weekday_hour_mean',\n",
      " 'Post_24_weekday_hour_mean',\n",
      " 'Prev_24_weekday_hour_std',\n",
      " 'Post_24_weekday_hour_std',\n",
      " 'Ratio_Prev_24_weekday_hour_mean',\n",
      " 'Ratio_Post_24_weekday_hour_mean',\n",
      " 'PDiff_Prev_24_weekday_hour_mean',\n",
      " 'PDiff_Post_24_weekday_hour_mean',\n",
      " 'Z_Score_Prev_24_weekday_hour',\n",
      " 'Z_Score_Post_24_weekday_hour',\n",
      " 'PDiff_Prev_1_3',\n",
      " 'Prev_3_Avg_speed_fill_median',\n",
      " 'Prev_3_Max_speed_fill_median',\n",
      " 'Prev_3_Min_speed_fill_median',\n",
      " 'Post_3_Avg_speed_fill_median',\n",
      " 'Post_3_Max_speed_fill_median',\n",
      " 'Post_3_Min_speed_fill_median',\n",
      " 'Ratio_Prev_2_3_Avg',\n",
      " 'Prev_3_EMA_speed_fill_median',\n",
      " 'Prev_5_Avg_speed_fill_median',\n",
      " 'Prev_5_Max_speed_fill_median',\n",
      " 'Prev_5_Min_speed_fill_median',\n",
      " 'Post_5_Avg_speed_fill_median',\n",
      " 'Post_5_Max_speed_fill_median',\n",
      " 'Post_5_Min_speed_fill_median',\n",
      " 'Ratio_Prev_2_5_Avg',\n",
      " 'Prev_5_EMA_speed_fill_median',\n",
      " 'Prev_10_Avg_speed_fill_median',\n",
      " 'Prev_10_Max_speed_fill_median',\n",
      " 'Prev_10_Min_speed_fill_median',\n",
      " 'Post_10_Avg_speed_fill_median',\n",
      " 'Post_10_Max_speed_fill_median',\n",
      " 'Post_10_Min_speed_fill_median',\n",
      " 'Ratio_Prev_2_10_Avg',\n",
      " 'Prev_10_EMA_speed_fill_median']\n"
     ]
    }
   ],
   "source": [
    "selected_features = [col for col in train_df.columns if col not in [\"id\", \"date\", \"per_change\", \"daily_max\", \"daily_min\",\n",
    "                                                                    \"day_weekday_hour\",\n",
    "                                                                    \"date_only\",\n",
    "                                                                    \"year_weekday_hour\",\n",
    "                                                                    \"speed_fill\",\n",
    "                                                                    \"speed_fill_median_h\",\n",
    "                                                                    \"speed_fill_median_wh\",\n",
    "                                                                    \"speed_fill_mean_h\",\n",
    "                                                                    \"speed_fill_mean_wh\",\n",
    "                                                                    \"speed_fill_mean\",\n",
    "                                                                    \"speed_fill_median\", \n",
    "                                                                    \"speed_fill_wh_median\",\n",
    "                                                                    \"lin_speed\", \"quadratic_speed\", \"nearest_speed\", \"speed\", \"is_test\", \"truth\"]]\n",
    "from pprint import pprint\n",
    "pprint(selected_features)"
   ]
  },
  {
   "cell_type": "code",
   "execution_count": 39,
   "metadata": {
    "execution": {
     "iopub.execute_input": "2020-11-20T09:29:32.525253Z",
     "iopub.status.busy": "2020-11-20T09:29:32.524441Z",
     "iopub.status.idle": "2020-11-20T09:29:32.550041Z",
     "shell.execute_reply": "2020-11-20T09:29:32.549291Z"
    },
    "papermill": {
     "duration": 0.132401,
     "end_time": "2020-11-20T09:29:32.550167",
     "exception": false,
     "start_time": "2020-11-20T09:29:32.417766",
     "status": "completed"
    },
    "tags": []
   },
   "outputs": [
    {
     "data": {
      "text/plain": [
       "(month                            0.000000\n",
       " day                              0.000000\n",
       " hour                             0.000000\n",
       " weekday                          0.000000\n",
       " dayofyear                        0.000000\n",
       "                                    ...   \n",
       " Post_10_Avg_speed_fill_median    0.000381\n",
       " Post_10_Max_speed_fill_median    0.000381\n",
       " Post_10_Min_speed_fill_median    0.000381\n",
       " Ratio_Prev_2_10_Avg              0.000095\n",
       " Prev_10_EMA_speed_fill_median    0.000095\n",
       " Length: 89, dtype: float64,\n",
       " month                            0.000000\n",
       " day                              0.000000\n",
       " hour                             0.000000\n",
       " weekday                          0.000000\n",
       " dayofyear                        0.000000\n",
       "                                    ...   \n",
       " Post_10_Avg_speed_fill_median    0.000000\n",
       " Post_10_Max_speed_fill_median    0.000000\n",
       " Post_10_Min_speed_fill_median    0.000000\n",
       " Ratio_Prev_2_10_Avg              0.000286\n",
       " Prev_10_EMA_speed_fill_median    0.000000\n",
       " Length: 89, dtype: float64,\n",
       " month                            0.000000\n",
       " day                              0.000000\n",
       " hour                             0.000000\n",
       " weekday                          0.000000\n",
       " dayofyear                        0.000000\n",
       "                                    ...   \n",
       " Post_10_Avg_speed_fill_median    0.000761\n",
       " Post_10_Max_speed_fill_median    0.000761\n",
       " Post_10_Min_speed_fill_median    0.000761\n",
       " Ratio_Prev_2_10_Avg              0.000000\n",
       " Prev_10_EMA_speed_fill_median    0.000000\n",
       " Length: 89, dtype: float64,\n",
       " month                            0.000000\n",
       " day                              0.000000\n",
       " hour                             0.000000\n",
       " weekday                          0.000000\n",
       " dayofyear                        0.000000\n",
       "                                    ...   \n",
       " Post_10_Avg_speed_fill_median    0.001998\n",
       " Post_10_Max_speed_fill_median    0.001998\n",
       " Post_10_Min_speed_fill_median    0.001998\n",
       " Ratio_Prev_2_10_Avg              0.000000\n",
       " Prev_10_EMA_speed_fill_median    0.000000\n",
       " Length: 89, dtype: float64)"
      ]
     },
     "execution_count": 39,
     "metadata": {},
     "output_type": "execute_result"
    }
   ],
   "source": [
    "train_df[selected_features].isna().mean(), valid_df_2017[selected_features].isna().mean(), valid_df_2018[selected_features].isna().mean(), test_df[selected_features].isna().mean()"
   ]
  },
  {
   "cell_type": "code",
   "execution_count": 40,
   "metadata": {
    "execution": {
     "iopub.execute_input": "2020-11-20T09:29:32.749455Z",
     "iopub.status.busy": "2020-11-20T09:29:32.746991Z",
     "iopub.status.idle": "2020-11-20T09:29:33.151827Z",
     "shell.execute_reply": "2020-11-20T09:29:33.151055Z"
    },
    "papermill": {
     "duration": 0.509071,
     "end_time": "2020-11-20T09:29:33.151974",
     "exception": false,
     "start_time": "2020-11-20T09:29:32.642903",
     "status": "completed"
    },
    "tags": []
   },
   "outputs": [
    {
     "name": "stdout",
     "output_type": "stream",
     "text": [
      "(3504, 101)\n",
      "month 6.453931086997906\n",
      "0\n",
      "0\n",
      "0\n",
      "0\n",
      "day 15.68665524462212\n",
      "0\n",
      "0\n",
      "0\n",
      "0\n",
      "hour 11.56986483913954\n",
      "0\n",
      "0\n",
      "0\n",
      "0\n",
      "weekday 3.0322672758423757\n",
      "0\n",
      "0\n",
      "0\n",
      "0\n",
      "dayofyear 180.77184466019418\n",
      "0\n",
      "0\n",
      "0\n",
      "0\n",
      "weekofyear 26.183609366076528\n",
      "0\n",
      "0\n",
      "0\n",
      "0\n",
      "holiday 0.05111364934323244\n",
      "0\n",
      "0\n",
      "0\n",
      "0\n",
      "weekday_hour 84.34427945935656\n",
      "0\n",
      "0\n",
      "0\n",
      "0\n",
      "quarter 2.486483913953931\n",
      "0\n",
      "0\n",
      "0\n",
      "0\n",
      "hour_avg_speed 32.80101429724892\n",
      "0\n",
      "0\n",
      "0\n",
      "0\n",
      "hour_std_speed 6.410054506499643\n",
      "0\n",
      "0\n",
      "0\n",
      "0\n",
      "weekday_hour_avg_speed 32.82769497925078\n",
      "0\n",
      "0\n",
      "0\n",
      "0\n",
      "weekday_hour_std_speed 3.7630571491891796\n",
      "0\n",
      "0\n",
      "0\n",
      "0\n",
      "Prev_1_%_change 0.05754094807253578\n",
      "0\n",
      "0\n",
      "0\n",
      "0\n",
      "Prev_2_%_change 0.05754094807253578\n",
      "0\n",
      "0\n",
      "0\n",
      "0\n",
      "Prev_3_%_change 0.05754094807253578\n",
      "0\n",
      "0\n",
      "0\n",
      "0\n",
      "Prev_1_speed_fill_median 32.84461149446705\n",
      "0\n",
      "0\n",
      "0\n",
      "0\n",
      "Post_1_speed_fill_median 32.90313856506237\n",
      "0\n",
      "0\n",
      "0\n",
      "0\n",
      "Prev_1_weekday_hour_mean 32.78830480301919\n",
      "0\n",
      "0\n",
      "0\n",
      "0\n",
      "Post_1_weekday_hour_mean 32.8526385930843\n",
      "0\n",
      "0\n",
      "0\n",
      "0\n",
      "Prev_1_weekday_hour_std 3.763020538630843\n",
      "0\n",
      "0\n",
      "0\n",
      "0\n",
      "Post_1_weekday_hour_std 3.7555091293504796\n",
      "0\n",
      "0\n",
      "0\n",
      "0\n",
      "Ratio_Prev_1_weekday_hour_mean 1.0002888509659753\n",
      "0\n",
      "0\n",
      "0\n",
      "0\n",
      "Ratio_Post_1_weekday_hour_mean 0.9999719281187426\n",
      "0\n",
      "0\n",
      "0\n",
      "0\n",
      "PDiff_Prev_1_weekday_hour_mean 0.00028885096597224447\n",
      "0\n",
      "0\n",
      "0\n",
      "0\n",
      "PDiff_Post_1_weekday_hour_mean -2.8071881258874905e-05\n",
      "0\n",
      "0\n",
      "0\n",
      "0\n",
      "Z_Score_Prev_1_weekday_hour 0.014812655898794706\n",
      "0\n",
      "0\n",
      "0\n",
      "0\n",
      "Z_Score_Post_1_weekday_hour 0.01186509285380474\n",
      "0\n",
      "0\n",
      "0\n",
      "0\n",
      "Prev_2_speed_fill_median 32.81298931996419\n",
      "0\n",
      "0\n",
      "0\n",
      "0\n",
      "Post_2_speed_fill_median 32.90797357970305\n",
      "0\n",
      "0\n",
      "0\n",
      "0\n",
      "Prev_2_weekday_hour_mean 32.771740103893634\n",
      "0\n",
      "0\n",
      "0\n",
      "0\n",
      "Post_2_weekday_hour_mean 32.84815016214618\n",
      "0\n",
      "0\n",
      "0\n",
      "0\n",
      "Prev_2_weekday_hour_std 3.7530809497289286\n",
      "0\n",
      "0\n",
      "0\n",
      "0\n",
      "Post_2_weekday_hour_std 3.7574620332960587\n",
      "0\n",
      "0\n",
      "0\n",
      "0\n",
      "Ratio_Prev_2_weekday_hour_mean 0.9992199075880012\n",
      "0\n",
      "0\n",
      "0\n",
      "0\n",
      "Ratio_Post_2_weekday_hour_mean 0.9996987497770691\n",
      "0\n",
      "0\n",
      "0\n",
      "0\n",
      "PDiff_Prev_2_weekday_hour_mean -0.0007800924120021971\n",
      "0\n",
      "0\n",
      "0\n",
      "0\n",
      "PDiff_Post_2_weekday_hour_mean -0.00030125022293283043\n",
      "0\n",
      "0\n",
      "0\n",
      "0\n",
      "Z_Score_Prev_2_weekday_hour 0.01754003109259068\n",
      "0\n",
      "0\n",
      "0\n",
      "0\n",
      "Z_Score_Post_2_weekday_hour 0.018868507194436814\n",
      "0\n",
      "0\n",
      "0\n",
      "0\n",
      "Prev_3_speed_fill_median 32.8403579301062\n",
      "0\n",
      "0\n",
      "0\n",
      "0\n",
      "Post_3_speed_fill_median 32.91106594136223\n",
      "0\n",
      "0\n",
      "0\n",
      "0\n",
      "Prev_3_weekday_hour_mean 32.76539097716858\n",
      "0\n",
      "0\n",
      "0\n",
      "0\n",
      "Post_3_weekday_hour_mean 32.87258559684498\n",
      "0\n",
      "0\n",
      "0\n",
      "0\n",
      "Prev_3_weekday_hour_std 3.748471661983268\n",
      "0\n",
      "0\n",
      "0\n",
      "0\n",
      "Post_3_weekday_hour_std 3.762189526692011\n",
      "0\n",
      "0\n",
      "0\n",
      "0\n",
      "Ratio_Prev_3_weekday_hour_mean 1.0009538323332552\n",
      "0\n",
      "0\n",
      "0\n",
      "0\n",
      "Ratio_Post_3_weekday_hour_mean 0.9989651129267105\n",
      "0\n",
      "0\n",
      "0\n",
      "0\n",
      "PDiff_Prev_3_weekday_hour_mean 0.0009538323332517372\n",
      "0\n",
      "0\n",
      "0\n",
      "0\n",
      "PDiff_Post_3_weekday_hour_mean -0.0010348870732954242\n",
      "0\n",
      "0\n",
      "0\n",
      "0\n",
      "Z_Score_Prev_3_weekday_hour 0.022368403232033172\n",
      "0\n",
      "0\n",
      "0\n",
      "0\n",
      "Z_Score_Post_3_weekday_hour 0.011844565953479895\n",
      "0\n",
      "0\n",
      "0\n",
      "0\n",
      "Prev_24_speed_fill_median 32.83557925960079\n",
      "0\n",
      "0\n",
      "0\n",
      "0\n",
      "Post_24_speed_fill_median 32.87868603587521\n",
      "0\n",
      "0\n",
      "0\n",
      "0\n",
      "Prev_24_weekday_hour_mean 32.760981276969005\n",
      "0\n",
      "0\n",
      "0\n",
      "0\n",
      "Post_24_weekday_hour_mean 32.81355183900413\n",
      "0\n",
      "0\n",
      "0\n",
      "0\n",
      "Prev_24_weekday_hour_std 3.7598148287882283\n",
      "0\n",
      "0\n",
      "0\n",
      "0\n",
      "Post_24_weekday_hour_std 3.7767971834957725\n",
      "0\n",
      "0\n",
      "0\n",
      "0\n",
      "Ratio_Prev_24_weekday_hour_mean 1.0004581279585738\n",
      "0\n",
      "0\n",
      "0\n",
      "0\n",
      "Ratio_Post_24_weekday_hour_mean 1.0003741281626901\n",
      "0\n",
      "0\n",
      "0\n",
      "0\n",
      "PDiff_Prev_24_weekday_hour_mean 0.0004581279585740972\n",
      "0\n",
      "0\n",
      "0\n",
      "0\n",
      "PDiff_Post_24_weekday_hour_mean 0.000374128162687981\n",
      "0\n",
      "0\n",
      "0\n",
      "0\n",
      "Z_Score_Prev_24_weekday_hour 0.024973161922084285\n",
      "0\n",
      "0\n",
      "0\n",
      "0\n",
      "Z_Score_Post_24_weekday_hour 0.022199813499647884\n",
      "0\n",
      "0\n",
      "0\n",
      "0\n",
      "PDiff_Prev_1_3 -0.11670983910007267\n",
      "0\n",
      "0\n",
      "0\n",
      "0\n",
      "Prev_3_Avg_speed_fill_median 32.83304644915153\n",
      "0\n",
      "0\n",
      "0\n",
      "0\n",
      "Prev_3_Max_speed_fill_median 37.1922945639564\n",
      "0\n",
      "0\n",
      "0\n",
      "0\n",
      "Prev_3_Min_speed_fill_median 28.41443009266949\n",
      "0\n",
      "0\n",
      "0\n",
      "0\n",
      "Post_3_Avg_speed_fill_median 32.906352062774374\n",
      "0\n",
      "0\n",
      "0\n",
      "0\n",
      "Post_3_Max_speed_fill_median 37.260370337879046\n",
      "0\n",
      "0\n",
      "0\n",
      "0\n",
      "Post_3_Min_speed_fill_median 28.48141418263632\n",
      "0\n",
      "0\n",
      "0\n",
      "0\n",
      "Ratio_Prev_2_3_Avg 0.9875070431887516\n",
      "0\n",
      "0\n",
      "0\n",
      "0\n",
      "Prev_3_EMA_speed_fill_median 32.83756296218941\n",
      "0\n",
      "0\n",
      "0\n",
      "0\n",
      "Prev_5_Avg_speed_fill_median 32.83727596703426\n",
      "0\n",
      "0\n",
      "0\n",
      "0\n",
      "Prev_5_Max_speed_fill_median 39.659204835897945\n",
      "0\n",
      "0\n",
      "0\n",
      "0\n",
      "Prev_5_Min_speed_fill_median 25.252623055573363\n",
      "0\n",
      "0\n",
      "0\n",
      "0\n",
      "Post_5_Avg_speed_fill_median 32.917873138755844\n",
      "0\n",
      "0\n",
      "0\n",
      "0\n",
      "Post_5_Max_speed_fill_median 39.76966845700095\n",
      "0\n",
      "0\n",
      "0\n",
      "0\n",
      "Post_5_Min_speed_fill_median 25.336007191926704\n",
      "0\n",
      "0\n",
      "0\n",
      "0\n",
      "Ratio_Prev_2_5_Avg 0.9908446778532205\n",
      "0\n",
      "0\n",
      "0\n",
      "0\n",
      "Prev_5_EMA_speed_fill_median 32.838442368137024\n",
      "0\n",
      "0\n",
      "0\n",
      "0\n",
      "Prev_10_Avg_speed_fill_median 32.833507892975426\n",
      "0\n",
      "0\n",
      "0\n",
      "0\n",
      "Prev_10_Max_speed_fill_median 44.51355310947488\n",
      "0\n",
      "0\n",
      "0\n",
      "0\n",
      "Prev_10_Min_speed_fill_median 18.8068733342253\n",
      "0\n",
      "0\n",
      "0\n",
      "0\n",
      "Post_10_Avg_speed_fill_median 32.889068298049054\n",
      "0\n",
      "0\n",
      "0\n",
      "0\n",
      "Post_10_Max_speed_fill_median 44.5897658771053\n",
      "0\n",
      "0\n",
      "0\n",
      "0\n",
      "Post_10_Min_speed_fill_median 18.844156451064944\n",
      "0\n",
      "0\n",
      "0\n",
      "0\n",
      "Ratio_Prev_2_10_Avg 1.0082670138267094\n",
      "0\n",
      "0\n",
      "0\n",
      "0\n",
      "Prev_10_EMA_speed_fill_median 32.839521202505175\n",
      "0\n",
      "0\n",
      "0\n",
      "0\n",
      "(3504, 101)\n"
     ]
    }
   ],
   "source": [
    "print(test_df.shape)\n",
    "\n",
    "for col in selected_features:\n",
    "    avg = train_df[col].mean()\n",
    "    print(col, avg)\n",
    "    for df in [train_df, test_df, valid_df_2017, valid_df_2018]:\n",
    "        df[col] = df[col].fillna(avg)\n",
    "        print(df[col].isna().sum())\n",
    "print(test_df.shape)"
   ]
  },
  {
   "cell_type": "code",
   "execution_count": 41,
   "metadata": {
    "execution": {
     "iopub.execute_input": "2020-11-20T09:29:33.360162Z",
     "iopub.status.busy": "2020-11-20T09:29:33.359287Z",
     "iopub.status.idle": "2020-11-20T09:29:39.628533Z",
     "shell.execute_reply": "2020-11-20T09:29:39.629138Z"
    },
    "papermill": {
     "duration": 6.379746,
     "end_time": "2020-11-20T09:29:39.629309",
     "exception": false,
     "start_time": "2020-11-20T09:29:33.249563",
     "status": "completed"
    },
    "tags": []
   },
   "outputs": [
    {
     "name": "stderr",
     "output_type": "stream",
     "text": [
      "/opt/conda/lib/python3.7/site-packages/tensorflow_addons/utils/ensure_tf_install.py:68: UserWarning: Tensorflow Addons supports using Python ops for all Tensorflow versions above or equal to 2.2.0 and strictly below 2.3.0 (nightly versions are not supported). \n",
      " The versions of TensorFlow you are currently using is 2.3.0 and is not supported. \n",
      "Some things might work, some things might not.\n",
      "If you were to encounter a bug, do not file an issue.\n",
      "If you want to make sure you're using a tested and supported configuration, either change the TensorFlow version or the TensorFlow Addons's version. \n",
      "You can find the compatibility matrix in TensorFlow Addon's readme:\n",
      "https://github.com/tensorflow/addons\n",
      "  UserWarning,\n"
     ]
    }
   ],
   "source": [
    "import tensorflow as tf\n",
    "import tensorflow_addons as tfa\n",
    "import gc\n",
    "from math import pi\n",
    "from math import cos\n",
    "from math import floor\n",
    "\n",
    "class CosineAnnealingLearningRateSchedule(tf.keras.callbacks.Callback):\n",
    "\t# constructor\n",
    "\tdef __init__(self, n_epochs, n_cycles, lrate_max, verbose=0):\n",
    "\t\tself.epochs = n_epochs\n",
    "\t\tself.cycles = n_cycles\n",
    "\t\tself.lr_max = lrate_max\n",
    "\t\tself.lrates = list()\n",
    " \n",
    "\t# calculate learning rate for an epoch\n",
    "\tdef cosine_annealing(self, epoch, n_epochs, n_cycles, lrate_max):\n",
    "\t\tepochs_per_cycle = floor(n_epochs/n_cycles)\n",
    "\t\tcos_inner = (pi * (epoch % epochs_per_cycle)) / (epochs_per_cycle)\n",
    "\t\treturn lrate_max/2 * (cos(cos_inner) + 1)\n",
    " \n",
    "\t# calculate and set learning rate at the start of the epoch\n",
    "\tdef on_epoch_begin(self, epoch, logs=None):\n",
    "\t\t# calculate learning rate\n",
    "\t\tlr = self.cosine_annealing(epoch, self.epochs, self.cycles, self.lr_max)\n",
    "\t\t# set learning rate\n",
    "\t\ttf.keras.backend.set_value(self.model.optimizer.lr, lr)\n",
    "\t\t# log value\n",
    "\t\tself.lrates.append(lr)"
   ]
  },
  {
   "cell_type": "code",
   "execution_count": 42,
   "metadata": {
    "execution": {
     "iopub.execute_input": "2020-11-20T09:29:39.880795Z",
     "iopub.status.busy": "2020-11-20T09:29:39.851025Z",
     "iopub.status.idle": "2020-11-20T09:29:40.157398Z",
     "shell.execute_reply": "2020-11-20T09:29:40.156591Z"
    },
    "papermill": {
     "duration": 0.431356,
     "end_time": "2020-11-20T09:29:40.157543",
     "exception": false,
     "start_time": "2020-11-20T09:29:39.726187",
     "status": "completed"
    },
    "tags": []
   },
   "outputs": [],
   "source": [
    "from sklearn.metrics import mean_squared_error\n",
    "from sklearn.preprocessing import StandardScaler, LabelEncoder\n",
    "from sklearn.decomposition import PCA\n",
    "from typing import Callable, List\n",
    "from sklearn.feature_selection import RFE\n",
    "from sklearn.linear_model import LinearRegression, Ridge, SGDRegressor, BayesianRidge, Lasso, HuberRegressor, ElasticNet, Lars\n",
    "from sklearn.svm import LinearSVR, SVR, NuSVR\n",
    "from sklearn.tree import DecisionTreeRegressor\n",
    "from sklearn.experimental import enable_hist_gradient_boosting  # noqa\n",
    "from sklearn.ensemble import RandomForestRegressor, AdaBoostRegressor, GradientBoostingRegressor, ExtraTreesRegressor, HistGradientBoostingRegressor, BaggingRegressor\n",
    "\n",
    "def train(model_builder: Callable, features: List[str], scaling=True, one_hot_features=[]):\n",
    "    all_train_preds = np.array([])\n",
    "    all_train_y = np.array([])\n",
    "    \n",
    "    all_valid_preds_2017 = np.array([])\n",
    "    all_valid_y_2017 = np.array([])\n",
    "    all_valid_preds_2018 = np.array([])\n",
    "    all_valid_y_2018 = np.array([])\n",
    "    \n",
    "    all_test_preds = 0\n",
    "    \n",
    "    models = []\n",
    "    num_fold = 1\n",
    "    feature_importance = None\n",
    "    \n",
    "    for fold in range(num_fold):\n",
    "        print(\"#\"*5, f\"Fold-{fold}\", \"#\"*5)\n",
    "        print(train_df[\"date\"].dt.year.value_counts())\n",
    "        _train_df = train_df.copy()\n",
    "        _valid_df_2017 = valid_df_2017.copy()\n",
    "        _valid_df_2018 = valid_df_2018.copy()\n",
    "        \n",
    "        _features = features.copy()\n",
    "        _features = [f for f in _features if f not in one_hot_features]\n",
    "        \n",
    "        train_ohe = {}\n",
    "        valid_2017_ohe = {}\n",
    "        valid_2018_ohe = {}\n",
    "        test_ohe = {}\n",
    "        for f in one_hot_features:\n",
    "            labeler = LabelEncoder()\n",
    "            labeler.fit(_train_df[f])\n",
    "            \n",
    "            train_ohe[f] = tf.keras.utils.to_categorical(labeler.transform(_train_df[f]))\n",
    "            valid_2017_ohe[f] = tf.keras.utils.to_categorical(labeler.transform(_valid_df_2017[f]))\n",
    "            valid_2018_ohe[f] = tf.keras.utils.to_categorical(labeler.transform(_valid_df_2018[f]))\n",
    "            test_ohe[f] = tf.keras.utils.to_categorical(labeler.transform(test_df[f]))\n",
    "            \n",
    "            print(f, train_ohe[f].shape)\n",
    "        \n",
    "        _train_x = _train_df[_features].values\n",
    "        _valid_x_2017 = _valid_df_2017[_features].values\n",
    "        _valid_x_2018 = _valid_df_2018[_features].values\n",
    "        _test_x = test_df[_features].copy().values\n",
    "        \n",
    "        if scaling:\n",
    "            scaler = StandardScaler()\n",
    "            scaler.fit(_train_x)\n",
    "            \n",
    "            _train_x = scaler.transform(_train_x)\n",
    "            _valid_x_2017 = scaler.transform(_valid_x_2017)\n",
    "            _valid_x_2018 = scaler.transform(_valid_x_2018)\n",
    "            _test_x = scaler.transform(_test_x)\n",
    "        \n",
    "        for ohe_f in train_ohe.keys():\n",
    "            _train_x = np.concatenate([_train_x, train_ohe[ohe_f]], axis=1)\n",
    "            _valid_x_2017 = np.concatenate([_valid_x_2017, valid_2017_ohe[ohe_f]], axis=1)\n",
    "            _valid_x_2018 = np.concatenate([_valid_x_2018, valid_2018_ohe[ohe_f]], axis=1)\n",
    "            _test_x = np.concatenate([_test_x, test_ohe[ohe_f]], axis=1)\n",
    "        \n",
    "        _train_y = _train_df.speed.values\n",
    "        _valid_y_2017 = _valid_df_2017.truth.values\n",
    "        _valid_y_2018 = _valid_df_2018.truth.values            \n",
    "        \n",
    "        model = model_builder()\n",
    "        num_seed = 5\n",
    "        if isinstance(model, tf.keras.Model):\n",
    "            for seed in range(0, num_seed):\n",
    "                model = model_builder()\n",
    "                model.compile(\"adam\", loss=\"mse\")\n",
    "                history = model.fit(\n",
    "                    _train_x,\n",
    "                    _train_y,\n",
    "                    validation_data=(\n",
    "                        _valid_x_2017, _valid_y_2017\n",
    "                    ),\n",
    "                    batch_size=200, epochs=100,\n",
    "                    verbose=0,\n",
    "                    callbacks=[\n",
    "                        CosineAnnealingLearningRateSchedule(100, 10, 0.001),\n",
    "                        tf.keras.callbacks.ModelCheckpoint(f'model_{fold}_{seed}.h5', save_best_only=True, verbose=0, monitor='val_loss'),\n",
    "                    ]\n",
    "                )\n",
    "                print(min(history.history[\"val_loss\"]))\n",
    "        elif isinstance(model, lgb.LGBMRegressor):\n",
    "            sample_weights = [1 if 20 <= h <= 23 else 1 for h in train_df.hour]\n",
    "            model.fit(\n",
    "                _train_x,\n",
    "                _train_y,\n",
    "                eval_set=(\n",
    "                    _valid_x_2017, _valid_y_2017\n",
    "                ),\n",
    "                early_stopping_rounds=100,\n",
    "                verbose=False,\n",
    "                sample_weight=sample_weights,\n",
    "            )\n",
    "            \n",
    "            feature_importance = model.feature_importances_\n",
    "        elif isinstance(model, ctb.CatBoostRegressor):\n",
    "            model.fit(\n",
    "                _train_x,\n",
    "                _train_y,\n",
    "                eval_set=(\n",
    "                    _valid_x_2017, _valid_y_2017\n",
    "                ),\n",
    "                early_stopping_rounds=100,\n",
    "                verbose=False,\n",
    "            ) \n",
    "        else:\n",
    "            model.fit(\n",
    "                _train_x,\n",
    "                _train_y,\n",
    "            )\n",
    "        models.append(model)\n",
    "        \n",
    "        train_preds = 0\n",
    "        valid_preds_2017 = 0\n",
    "        valid_preds_2018 = 0\n",
    "        test_preds = 0       \n",
    "        if isinstance(model, tf.keras.Model):\n",
    "            for seed in range(num_seed):\n",
    "                model.load_weights(f'model_{fold}_{seed}.h5')\n",
    "                train_preds += model.predict(_train_x).reshape(-1) / num_seed\n",
    "                valid_preds_2017 += model.predict(_valid_x_2017).reshape(-1) / num_seed\n",
    "                valid_preds_2018 += model.predict(_valid_x_2018).reshape(-1) / num_seed\n",
    "                test_preds += model.predict(_test_x).reshape(-1) / num_seed\n",
    "        \n",
    "        else:\n",
    "            train_preds = model.predict(_train_x).reshape(-1)\n",
    "            valid_preds_2017 = model.predict(_valid_x_2017).reshape(-1)\n",
    "            valid_preds_2018 = model.predict(_valid_x_2018).reshape(-1)\n",
    "            test_preds = model.predict(_test_x).reshape(-1)\n",
    "        all_test_preds += test_preds / num_fold\n",
    "\n",
    "\n",
    "        train_mse = mean_squared_error(_train_y, train_preds)\n",
    "        valid_mse_2017 = mean_squared_error(_valid_y_2017, valid_preds_2017)\n",
    "        valid_mse_2018 = mean_squared_error(_valid_y_2018, valid_preds_2018)\n",
    "        print(train_mse, valid_mse_2017, valid_mse_2018)\n",
    "\n",
    "        print(train_preds.shape)\n",
    "        all_train_preds = np.concatenate([all_train_preds, train_preds]) \n",
    "        all_train_y = np.concatenate([all_train_y, _train_y])\n",
    "\n",
    "        all_valid_preds_2017 = np.concatenate([all_valid_preds_2017, valid_preds_2017]) \n",
    "        all_valid_y_2017 = np.concatenate([all_valid_y_2017, _valid_y_2017]) \n",
    "\n",
    "        all_valid_preds_2018 = np.concatenate([all_valid_preds_2018, valid_preds_2018]) \n",
    "        all_valid_y_2018 = np.concatenate([all_valid_y_2018, _valid_y_2018]) \n",
    "    \n",
    "    train_mse = mean_squared_error(all_train_y, all_train_preds)\n",
    "    valid_mse_2017 = mean_squared_error(all_valid_y_2017, all_valid_preds_2017)\n",
    "    valid_mse_2018 = mean_squared_error(all_valid_y_2018, all_valid_preds_2018)\n",
    "    \n",
    "    print(\"#\"*5, f\"Summary\", \"#\"*5)\n",
    "    print(train_mse, valid_mse_2017, valid_mse_2018)\n",
    "    return {\n",
    "        \"models\": models,\n",
    "        \"all_valid_preds_2017\": all_valid_preds_2017,\n",
    "        \"all_valid_y_2017\": all_valid_y_2017,\n",
    "        \"all_valid_preds_2018\": all_valid_preds_2018,\n",
    "        \"all_valid_y_2018\": all_valid_y_2018,\n",
    "        \"test_preds\": all_test_preds,\n",
    "        \"features\": _features,\n",
    "        \"feature_importance\": feature_importance, \n",
    "    }"
   ]
  },
  {
   "cell_type": "code",
   "execution_count": 43,
   "metadata": {
    "execution": {
     "iopub.execute_input": "2020-11-20T09:29:40.356482Z",
     "iopub.status.busy": "2020-11-20T09:29:40.355583Z",
     "iopub.status.idle": "2020-11-20T09:29:42.390810Z",
     "shell.execute_reply": "2020-11-20T09:29:42.392017Z"
    },
    "papermill": {
     "duration": 2.139657,
     "end_time": "2020-11-20T09:29:42.392320",
     "exception": false,
     "start_time": "2020-11-20T09:29:40.252663",
     "status": "completed"
    },
    "tags": []
   },
   "outputs": [
    {
     "name": "stdout",
     "output_type": "stream",
     "text": [
      "##### Fold-0 #####\n",
      "2018    5256\n",
      "2017    5250\n",
      "Name: date, dtype: int64\n",
      "6.079454141647221 10.45717723986232 6.296812086833966\n",
      "(10506,)\n",
      "##### Summary #####\n",
      "6.079454141647221 10.45717723986232 6.296812086833966\n"
     ]
    }
   ],
   "source": [
    "lgb_result = train(lambda :lgb.LGBMRegressor(\n",
    "    boosting_type='gbdt', \n",
    "    objective=\"mse\",\n",
    "    min_child_samples=20,\n",
    "    num_leaves=40,\n",
    "    max_depth=16,\n",
    "    learning_rate=0.05,\n",
    "    n_estimators=1000,\n",
    "    colsample_bytree=.4,\n",
    "    subsample=1.0,\n",
    "    subsample_freq=0,\n",
    "    importance_type=\"gain\",\n",
    "    random_state=random_state,\n",
    "    n_jobs=-1,\n",
    "    \n",
    "), selected_features, scaling=False)"
   ]
  },
  {
   "cell_type": "code",
   "execution_count": 44,
   "metadata": {
    "execution": {
     "iopub.execute_input": "2020-11-20T09:29:42.617709Z",
     "iopub.status.busy": "2020-11-20T09:29:42.616902Z",
     "iopub.status.idle": "2020-11-20T09:29:52.879363Z",
     "shell.execute_reply": "2020-11-20T09:29:52.880029Z"
    },
    "papermill": {
     "duration": 10.371092,
     "end_time": "2020-11-20T09:29:52.880223",
     "exception": false,
     "start_time": "2020-11-20T09:29:42.509131",
     "status": "completed"
    },
    "tags": []
   },
   "outputs": [
    {
     "name": "stdout",
     "output_type": "stream",
     "text": [
      "##### Fold-0 #####\n",
      "2018    5256\n",
      "2017    5250\n",
      "Name: date, dtype: int64\n",
      "8.105725896475299 11.084634048940085 8.456187454488688\n",
      "(10506,)\n",
      "##### Summary #####\n",
      "8.105725896475299 11.084634048940085 8.456187454488688\n"
     ]
    }
   ],
   "source": [
    "lgb_rf_result = train(lambda :lgb.LGBMRegressor(\n",
    "    boosting_type='rf', \n",
    "    objective=\"mse\",\n",
    "    min_child_samples=20,\n",
    "    num_leaves=128,\n",
    "    max_depth=16,\n",
    "    learning_rate=0.05,\n",
    "    n_estimators=1000,\n",
    "    colsample_bytree=.5,\n",
    "    subsample=.95,\n",
    "    subsample_freq=20,\n",
    "    importance_type=\"gain\",\n",
    "    random_state=random_state,\n",
    "    n_jobs=-1,\n",
    "    \n",
    "), selected_features, scaling=False)"
   ]
  },
  {
   "cell_type": "code",
   "execution_count": 45,
   "metadata": {
    "execution": {
     "iopub.execute_input": "2020-11-20T09:29:53.184657Z",
     "iopub.status.busy": "2020-11-20T09:29:53.183498Z",
     "iopub.status.idle": "2020-11-20T09:30:21.008132Z",
     "shell.execute_reply": "2020-11-20T09:30:21.007007Z"
    },
    "papermill": {
     "duration": 27.941277,
     "end_time": "2020-11-20T09:30:21.008284",
     "exception": false,
     "start_time": "2020-11-20T09:29:53.067007",
     "status": "completed"
    },
    "tags": []
   },
   "outputs": [
    {
     "name": "stdout",
     "output_type": "stream",
     "text": [
      "##### Fold-0 #####\n",
      "2018    5256\n",
      "2017    5250\n",
      "Name: date, dtype: int64\n",
      "4.266689277148738 10.57814749424551 4.35413844258103\n",
      "(10506,)\n",
      "##### Summary #####\n",
      "4.266689277148738 10.57814749424551 4.35413844258103\n"
     ]
    }
   ],
   "source": [
    "cat_result = train(lambda :ctb.CatBoostRegressor(\n",
    "    loss_function=\"RMSE\",\n",
    "    learning_rate=.06,\n",
    "    max_depth=8,\n",
    "    min_child_samples=20,\n",
    "    colsample_bylevel=1.0,\n",
    "    n_estimators=None,\n",
    "    use_best_model=True,\n",
    "    random_seed=random_state,\n",
    "), selected_features, scaling=False)"
   ]
  },
  {
   "cell_type": "code",
   "execution_count": 46,
   "metadata": {
    "execution": {
     "iopub.execute_input": "2020-11-20T09:30:21.223957Z",
     "iopub.status.busy": "2020-11-20T09:30:21.223090Z",
     "iopub.status.idle": "2020-11-20T09:32:02.971707Z",
     "shell.execute_reply": "2020-11-20T09:32:02.970808Z"
    },
    "papermill": {
     "duration": 101.863526,
     "end_time": "2020-11-20T09:32:02.971894",
     "exception": false,
     "start_time": "2020-11-20T09:30:21.108368",
     "status": "completed"
    },
    "tags": []
   },
   "outputs": [
    {
     "name": "stdout",
     "output_type": "stream",
     "text": [
      "##### Fold-0 #####\n",
      "2018    5256\n",
      "2017    5250\n",
      "Name: date, dtype: int64\n",
      "hour (10506, 24)\n",
      "weekday (10506, 7)\n"
     ]
    },
    {
     "name": "stderr",
     "output_type": "stream",
     "text": [
      "/opt/conda/lib/python3.7/site-packages/tensorflow_addons/utils/resource_loader.py:103: UserWarning: You are currently using TensorFlow 2.3.0 and trying to load a custom op (custom_ops/activations/_activation_ops.so).\n",
      "TensorFlow Addons has compiled its custom ops against TensorFlow 2.2.0, and there are no compatibility guarantees between the two versions. \n",
      "This means that you might get segfaults when loading the custom op, or other kind of low-level errors.\n",
      " If you do, do not file an issue on Github. This is a known limitation.\n",
      "\n",
      "It might help you to fallback to pure Python ops with TF_ADDONS_PY_OPS . To do that, see https://github.com/tensorflow/addons#gpucpu-custom-ops \n",
      "\n",
      "You can also change the TensorFlow version installed on your system. You would need a TensorFlow version equal to or above 2.2.0 and strictly below 2.3.0.\n",
      " Note that nightly versions of TensorFlow, as well as non-pip TensorFlow like `conda install tensorflow` or compiled from source are not supported.\n",
      "\n",
      "The last solution is to find the TensorFlow Addons version that has custom ops compatible with the TensorFlow installed on your system. To do that, refer to the readme: https://github.com/tensorflow/addons\n",
      "  UserWarning,\n"
     ]
    },
    {
     "name": "stdout",
     "output_type": "stream",
     "text": [
      "10.723576545715332\n",
      "10.625279426574707\n",
      "10.827227592468262\n",
      "10.713956832885742\n",
      "10.648720741271973\n",
      "8.674717280823904 10.46530376117983 8.957537105062872\n",
      "(10506,)\n",
      "##### Summary #####\n",
      "8.674717280823904 10.46530376117983 8.957537105062872\n"
     ]
    }
   ],
   "source": [
    "one_hot_features=[\"hour\", \"weekday\"]\n",
    "# init = \"orthogonal\"\n",
    "# init = \"glorot_uniform\"\n",
    "# init = \"glorot_normal\"\n",
    "init = tf.keras.initializers.LecunUniform()\n",
    "init = tf.keras.initializers.LecunNormal()\n",
    "\n",
    "keras_result = train(\n",
    "    lambda:\n",
    "        tf.keras.Sequential(\n",
    "            layers=[\n",
    "                tf.keras.Input(shape=(len(selected_features) - len(one_hot_features) + sum([full_df[f].nunique() for f in one_hot_features]),)),  \n",
    "                \n",
    "                tf.keras.layers.Dense(20, kernel_initializer=init, activation=tfa.activations.mish),\n",
    "                tf.keras.layers.Dropout(.05),\n",
    "                tf.keras.layers.BatchNormalization(),\n",
    "                tf.keras.layers.GaussianNoise(.15),\n",
    "                \n",
    "                tf.keras.layers.Dense(20, kernel_initializer=init, activation=\"tanh\"),\n",
    "                tf.keras.layers.Dropout(.05),\n",
    "                tf.keras.layers.BatchNormalization(),\n",
    "                \n",
    "                tf.keras.layers.Dense(1, kernel_initializer=init, activation=\"linear\"),\n",
    "            ]\n",
    "        ),\n",
    "        selected_features,\n",
    "        scaling=True, \n",
    "        one_hot_features=one_hot_features\n",
    ")"
   ]
  },
  {
   "cell_type": "code",
   "execution_count": 47,
   "metadata": {
    "execution": {
     "iopub.execute_input": "2020-11-20T09:32:03.205084Z",
     "iopub.status.busy": "2020-11-20T09:32:03.204295Z",
     "iopub.status.idle": "2020-11-20T09:32:03.208033Z",
     "shell.execute_reply": "2020-11-20T09:32:03.207345Z"
    },
    "papermill": {
     "duration": 0.128688,
     "end_time": "2020-11-20T09:32:03.208172",
     "exception": false,
     "start_time": "2020-11-20T09:32:03.079484",
     "status": "completed"
    },
    "tags": []
   },
   "outputs": [],
   "source": [
    "# ada_result = train(lambda :AdaBoostRegressor(n_estimators=20, learning_rate=.5), train_df, selected_features)"
   ]
  },
  {
   "cell_type": "code",
   "execution_count": 48,
   "metadata": {
    "execution": {
     "iopub.execute_input": "2020-11-20T09:32:03.419682Z",
     "iopub.status.busy": "2020-11-20T09:32:03.418904Z",
     "iopub.status.idle": "2020-11-20T09:32:03.907979Z",
     "shell.execute_reply": "2020-11-20T09:32:03.908557Z"
    },
    "papermill": {
     "duration": 0.597232,
     "end_time": "2020-11-20T09:32:03.908768",
     "exception": false,
     "start_time": "2020-11-20T09:32:03.311536",
     "status": "completed"
    },
    "tags": []
   },
   "outputs": [
    {
     "name": "stdout",
     "output_type": "stream",
     "text": [
      "##### Fold-0 #####\n",
      "2018    5256\n",
      "2017    5250\n",
      "Name: date, dtype: int64\n",
      "10.836219504933775 11.542224616788223 11.212521718713381\n",
      "(10506,)\n",
      "##### Summary #####\n",
      "10.836219504933775 11.542224616788223 11.212521718713381\n"
     ]
    }
   ],
   "source": [
    "lr_result = train(lambda :LinearRegression(), selected_features)"
   ]
  },
  {
   "cell_type": "code",
   "execution_count": 49,
   "metadata": {
    "execution": {
     "iopub.execute_input": "2020-11-20T09:32:04.131171Z",
     "iopub.status.busy": "2020-11-20T09:32:04.130088Z",
     "iopub.status.idle": "2020-11-20T09:32:04.536594Z",
     "shell.execute_reply": "2020-11-20T09:32:04.537344Z"
    },
    "papermill": {
     "duration": 0.522486,
     "end_time": "2020-11-20T09:32:04.537529",
     "exception": false,
     "start_time": "2020-11-20T09:32:04.015043",
     "status": "completed"
    },
    "tags": []
   },
   "outputs": [
    {
     "name": "stdout",
     "output_type": "stream",
     "text": [
      "##### Fold-0 #####\n",
      "2018    5256\n",
      "2017    5250\n",
      "Name: date, dtype: int64\n",
      "10.839847573728617 11.538722171508628 11.215317682560807\n",
      "(10506,)\n",
      "##### Summary #####\n",
      "10.839847573728617 11.538722171508628 11.215317682560807\n"
     ]
    }
   ],
   "source": [
    "rr_result = train(lambda :Ridge(), selected_features)"
   ]
  },
  {
   "cell_type": "code",
   "execution_count": 50,
   "metadata": {
    "execution": {
     "iopub.execute_input": "2020-11-20T09:32:04.761451Z",
     "iopub.status.busy": "2020-11-20T09:32:04.760605Z",
     "iopub.status.idle": "2020-11-20T09:32:05.412372Z",
     "shell.execute_reply": "2020-11-20T09:32:05.411737Z"
    },
    "papermill": {
     "duration": 0.762165,
     "end_time": "2020-11-20T09:32:05.412503",
     "exception": false,
     "start_time": "2020-11-20T09:32:04.650338",
     "status": "completed"
    },
    "tags": []
   },
   "outputs": [
    {
     "name": "stdout",
     "output_type": "stream",
     "text": [
      "##### Fold-0 #####\n",
      "2018    5256\n",
      "2017    5250\n",
      "Name: date, dtype: int64\n",
      "11.143229024724484 11.841447303605351 11.491216455369914\n",
      "(10506,)\n",
      "##### Summary #####\n",
      "11.143229024724484 11.841447303605351 11.491216455369914\n"
     ]
    }
   ],
   "source": [
    "sdg_result = train(lambda :SGDRegressor(max_iter=800), selected_features)"
   ]
  },
  {
   "cell_type": "code",
   "execution_count": 51,
   "metadata": {
    "execution": {
     "iopub.execute_input": "2020-11-20T09:32:05.633144Z",
     "iopub.status.busy": "2020-11-20T09:32:05.632284Z",
     "iopub.status.idle": "2020-11-20T09:32:20.912822Z",
     "shell.execute_reply": "2020-11-20T09:32:20.911977Z"
    },
    "papermill": {
     "duration": 15.394904,
     "end_time": "2020-11-20T09:32:20.912958",
     "exception": false,
     "start_time": "2020-11-20T09:32:05.518054",
     "status": "completed"
    },
    "tags": []
   },
   "outputs": [
    {
     "name": "stdout",
     "output_type": "stream",
     "text": [
      "##### Fold-0 #####\n",
      "2018    5256\n",
      "2017    5250\n",
      "Name: date, dtype: int64\n",
      "4.26460265595713 10.713891582535693 4.302511861817376\n",
      "(10506,)\n",
      "##### Summary #####\n",
      "4.26460265595713 10.713891582535693 4.302511861817376\n"
     ]
    }
   ],
   "source": [
    "etr_result = train(lambda :ExtraTreesRegressor(\n",
    "    n_estimators=400,\n",
    "    max_depth=18,\n",
    "    max_leaf_nodes=None,\n",
    "    criterion=\"mse\",\n",
    "    min_samples_split=25,\n",
    "    max_features=.9,\n",
    "    bootstrap=False,\n",
    "    random_state=random_state,\n",
    "    n_jobs=-1,\n",
    "), selected_features, scaling=False)"
   ]
  },
  {
   "cell_type": "code",
   "execution_count": 52,
   "metadata": {
    "execution": {
     "iopub.execute_input": "2020-11-20T09:32:21.135750Z",
     "iopub.status.busy": "2020-11-20T09:32:21.134639Z",
     "iopub.status.idle": "2020-11-20T09:32:27.332107Z",
     "shell.execute_reply": "2020-11-20T09:32:27.333374Z"
    },
    "papermill": {
     "duration": 6.313933,
     "end_time": "2020-11-20T09:32:27.333573",
     "exception": false,
     "start_time": "2020-11-20T09:32:21.019640",
     "status": "completed"
    },
    "tags": []
   },
   "outputs": [
    {
     "name": "stdout",
     "output_type": "stream",
     "text": [
      "##### Fold-0 #####\n",
      "2018    5256\n",
      "2017    5250\n",
      "Name: date, dtype: int64\n",
      "5.612712061726674 10.638192356139646 5.795994730572078\n",
      "(10506,)\n",
      "##### Summary #####\n",
      "5.612712061726674 10.638192356139646 5.795994730572078\n"
     ]
    }
   ],
   "source": [
    "hgbr_result = train(lambda :HistGradientBoostingRegressor(\n",
    "    max_iter=200,\n",
    "#     min_samples_leaf=128, \n",
    "    max_leaf_nodes=64,\n",
    "    max_depth=16,\n",
    "    learning_rate=.04,\n",
    "    random_state=random_state,\n",
    "), selected_features, scaling=False)"
   ]
  },
  {
   "cell_type": "code",
   "execution_count": 53,
   "metadata": {
    "execution": {
     "iopub.execute_input": "2020-11-20T09:32:27.579762Z",
     "iopub.status.busy": "2020-11-20T09:32:27.578893Z",
     "iopub.status.idle": "2020-11-20T09:33:36.646555Z",
     "shell.execute_reply": "2020-11-20T09:33:36.647515Z"
    },
    "papermill": {
     "duration": 69.183394,
     "end_time": "2020-11-20T09:33:36.647761",
     "exception": false,
     "start_time": "2020-11-20T09:32:27.464367",
     "status": "completed"
    },
    "tags": []
   },
   "outputs": [
    {
     "name": "stdout",
     "output_type": "stream",
     "text": [
      "##### Fold-0 #####\n",
      "2018    5256\n",
      "2017    5250\n",
      "Name: date, dtype: int64\n",
      "10.115260253998851 11.28673937616996 10.365874241495554\n",
      "(10506,)\n",
      "##### Summary #####\n",
      "10.115260253998851 11.28673937616996 10.365874241495554\n"
     ]
    }
   ],
   "source": [
    "svr_result = train(lambda :SVR(C=300), selected_features, scaling=False)"
   ]
  },
  {
   "cell_type": "code",
   "execution_count": 54,
   "metadata": {
    "execution": {
     "iopub.execute_input": "2020-11-20T09:33:36.883030Z",
     "iopub.status.busy": "2020-11-20T09:33:36.881976Z",
     "iopub.status.idle": "2020-11-20T09:33:45.143402Z",
     "shell.execute_reply": "2020-11-20T09:33:45.144078Z"
    },
    "papermill": {
     "duration": 8.386262,
     "end_time": "2020-11-20T09:33:45.144248",
     "exception": false,
     "start_time": "2020-11-20T09:33:36.757986",
     "status": "completed"
    },
    "tags": []
   },
   "outputs": [
    {
     "name": "stdout",
     "output_type": "stream",
     "text": [
      "##### Fold-0 #####\n",
      "2018    5256\n",
      "2017    5250\n",
      "Name: date, dtype: int64\n",
      "9.015858335791213 11.578198589062389 9.261564514333598\n",
      "(10506,)\n",
      "##### Summary #####\n",
      "9.015858335791213 11.578198589062389 9.261564514333598\n"
     ]
    },
    {
     "name": "stderr",
     "output_type": "stream",
     "text": [
      "/opt/conda/lib/python3.7/site-packages/sklearn/neural_network/_multilayer_perceptron.py:585: ConvergenceWarning: Stochastic Optimizer: Maximum iterations (120) reached and the optimization hasn't converged yet.\n",
      "  % self.max_iter, ConvergenceWarning)\n"
     ]
    }
   ],
   "source": [
    "from sklearn.neural_network import MLPRegressor\n",
    "one_hot_features=[\"hour\", \"weekday\"]\n",
    "\n",
    "mlp1_result = train(lambda :\n",
    "        MLPRegressor(\n",
    "            hidden_layer_sizes=(16, 16), activation='tanh', solver='adam', \n",
    "            learning_rate=\"adaptive\", shuffle=True,\n",
    "            max_iter=120, random_state=random_state,\n",
    "        ), selected_features, scaling=True)"
   ]
  },
  {
   "cell_type": "code",
   "execution_count": 55,
   "metadata": {
    "execution": {
     "iopub.execute_input": "2020-11-20T09:33:45.373195Z",
     "iopub.status.busy": "2020-11-20T09:33:45.372246Z",
     "iopub.status.idle": "2020-11-20T09:34:37.579016Z",
     "shell.execute_reply": "2020-11-20T09:34:37.579673Z"
    },
    "papermill": {
     "duration": 52.323553,
     "end_time": "2020-11-20T09:34:37.579846",
     "exception": false,
     "start_time": "2020-11-20T09:33:45.256293",
     "status": "completed"
    },
    "tags": []
   },
   "outputs": [
    {
     "name": "stdout",
     "output_type": "stream",
     "text": [
      "##### Fold-0 #####\n",
      "2018    5256\n",
      "2017    5250\n",
      "Name: date, dtype: int64\n",
      "6.358473096301872 10.441721923182396 6.592631320292595\n",
      "(10506,)\n",
      "##### Summary #####\n",
      "6.358473096301872 10.441721923182396 6.592631320292595\n"
     ]
    }
   ],
   "source": [
    "gbr_result = train(lambda :GradientBoostingRegressor(\n",
    "    subsample=.8,\n",
    "    n_estimators=120,\n",
    "    min_samples_leaf=30, \n",
    "    max_depth=8,\n",
    "    \n",
    "    learning_rate=.04,\n",
    "    criterion=\"mse\",\n",
    "    min_samples_split=20,\n",
    "    random_state=random_state,\n",
    "), selected_features, scaling=False)\n",
    "# 10.860984932861227\n",
    "# 10.778706798780439\n",
    "# 10.762391817114015"
   ]
  },
  {
   "cell_type": "code",
   "execution_count": 56,
   "metadata": {
    "execution": {
     "iopub.execute_input": "2020-11-20T09:34:37.809691Z",
     "iopub.status.busy": "2020-11-20T09:34:37.808896Z",
     "iopub.status.idle": "2020-11-20T09:35:05.549759Z",
     "shell.execute_reply": "2020-11-20T09:35:05.550788Z"
    },
    "papermill": {
     "duration": 27.859193,
     "end_time": "2020-11-20T09:35:05.550973",
     "exception": false,
     "start_time": "2020-11-20T09:34:37.691780",
     "status": "completed"
    },
    "tags": []
   },
   "outputs": [
    {
     "name": "stdout",
     "output_type": "stream",
     "text": [
      "##### Fold-0 #####\n",
      "2018    5256\n",
      "2017    5250\n",
      "Name: date, dtype: int64\n",
      "5.89794611428659 10.630903523134851 6.140688284952427\n",
      "(10506,)\n",
      "##### Summary #####\n",
      "5.89794611428659 10.630903523134851 6.140688284952427\n"
     ]
    }
   ],
   "source": [
    "rfr_result = train(lambda :RandomForestRegressor(\n",
    "    n_estimators=400,\n",
    "    max_depth=12,\n",
    "    min_samples_leaf=6,\n",
    "    max_features=.4,\n",
    "    random_state=random_state,\n",
    "    n_jobs=-1,\n",
    "), selected_features, scaling=True)"
   ]
  },
  {
   "cell_type": "code",
   "execution_count": 57,
   "metadata": {
    "execution": {
     "iopub.execute_input": "2020-11-20T09:35:05.789313Z",
     "iopub.status.busy": "2020-11-20T09:35:05.788442Z",
     "iopub.status.idle": "2020-11-20T09:35:28.011134Z",
     "shell.execute_reply": "2020-11-20T09:35:28.011795Z"
    },
    "papermill": {
     "duration": 22.341991,
     "end_time": "2020-11-20T09:35:28.011977",
     "exception": false,
     "start_time": "2020-11-20T09:35:05.669986",
     "status": "completed"
    },
    "tags": []
   },
   "outputs": [
    {
     "name": "stdout",
     "output_type": "stream",
     "text": [
      "##### Fold-0 #####\n",
      "2018    5256\n",
      "2017    5250\n",
      "Name: date, dtype: int64\n",
      "0.0 12.877442768871164 0.0\n",
      "(10506,)\n",
      "##### Summary #####\n",
      "0.0 12.877442768871164 0.0\n"
     ]
    }
   ],
   "source": [
    "from sklearn.neighbors import KNeighborsRegressor\n",
    "\n",
    "knn_result = train(lambda :KNeighborsRegressor(\n",
    "    n_neighbors=20,\n",
    "    weights=\"distance\",\n",
    "    n_jobs=-1,\n",
    "), selected_features, scaling=True)"
   ]
  },
  {
   "cell_type": "code",
   "execution_count": 58,
   "metadata": {
    "execution": {
     "iopub.execute_input": "2020-11-20T09:35:28.244199Z",
     "iopub.status.busy": "2020-11-20T09:35:28.243368Z",
     "iopub.status.idle": "2020-11-20T09:35:28.246958Z",
     "shell.execute_reply": "2020-11-20T09:35:28.246243Z"
    },
    "papermill": {
     "duration": 0.12091,
     "end_time": "2020-11-20T09:35:28.247086",
     "exception": false,
     "start_time": "2020-11-20T09:35:28.126176",
     "status": "completed"
    },
    "tags": []
   },
   "outputs": [],
   "source": [
    "# knn2_result = train(lambda :KNeighborsRegressor(\n",
    "#     n_neighbors=6,\n",
    "#     n_jobs=-1,\n",
    "# ), train_df, selected_features, scaling=True)"
   ]
  },
  {
   "cell_type": "code",
   "execution_count": 59,
   "metadata": {
    "execution": {
     "iopub.execute_input": "2020-11-20T09:35:28.483940Z",
     "iopub.status.busy": "2020-11-20T09:35:28.483153Z",
     "iopub.status.idle": "2020-11-20T09:35:28.486323Z",
     "shell.execute_reply": "2020-11-20T09:35:28.485576Z"
    },
    "papermill": {
     "duration": 0.124784,
     "end_time": "2020-11-20T09:35:28.486460",
     "exception": false,
     "start_time": "2020-11-20T09:35:28.361676",
     "status": "completed"
    },
    "tags": []
   },
   "outputs": [],
   "source": [
    "model_results = {\n",
    "    \"lgb\": lgb_result,\n",
    "    \"lgb_rf\": lgb_rf_result,\n",
    "    \"cat\": cat_result,\n",
    "    \"hgbr\": hgbr_result,\n",
    "    \"etr\": etr_result,\n",
    "    \"svr\": svr_result,\n",
    "#     \"nusvr\": nusvr_result,\n",
    "    \"mlp1\": mlp1_result,\n",
    "    \"keras\": keras_result,\n",
    "#     \"mlp2\": mlp2_result,\n",
    "    \"gbr\": gbr_result,\n",
    "    \"rfr\": rfr_result,\n",
    "    \"knn\": knn_result,\n",
    "#     \"knn2\": knn2_result,\n",
    "    \"lr\": lr_result,\n",
    "    \"rr\": rr_result,\n",
    "    \"sdg\": sdg_result,\n",
    "}"
   ]
  },
  {
   "cell_type": "code",
   "execution_count": 60,
   "metadata": {
    "execution": {
     "iopub.execute_input": "2020-11-20T09:35:28.723157Z",
     "iopub.status.busy": "2020-11-20T09:35:28.722339Z",
     "iopub.status.idle": "2020-11-20T09:35:28.783590Z",
     "shell.execute_reply": "2020-11-20T09:35:28.782806Z"
    },
    "papermill": {
     "duration": 0.185388,
     "end_time": "2020-11-20T09:35:28.783737",
     "exception": false,
     "start_time": "2020-11-20T09:35:28.598349",
     "status": "completed"
    },
    "tags": []
   },
   "outputs": [
    {
     "data": {
      "text/html": [
       "<div>\n",
       "<style scoped>\n",
       "    .dataframe tbody tr th:only-of-type {\n",
       "        vertical-align: middle;\n",
       "    }\n",
       "\n",
       "    .dataframe tbody tr th {\n",
       "        vertical-align: top;\n",
       "    }\n",
       "\n",
       "    .dataframe thead th {\n",
       "        text-align: right;\n",
       "    }\n",
       "</style>\n",
       "<table border=\"1\" class=\"dataframe\">\n",
       "  <thead>\n",
       "    <tr style=\"text-align: right;\">\n",
       "      <th></th>\n",
       "      <th>lgb</th>\n",
       "      <th>lgb_rf</th>\n",
       "      <th>cat</th>\n",
       "      <th>hgbr</th>\n",
       "      <th>etr</th>\n",
       "      <th>svr</th>\n",
       "      <th>mlp1</th>\n",
       "      <th>keras</th>\n",
       "      <th>gbr</th>\n",
       "      <th>rfr</th>\n",
       "      <th>knn</th>\n",
       "      <th>lr</th>\n",
       "      <th>rr</th>\n",
       "      <th>sdg</th>\n",
       "      <th>y</th>\n",
       "    </tr>\n",
       "  </thead>\n",
       "  <tbody>\n",
       "    <tr>\n",
       "      <th>0</th>\n",
       "      <td>44.465589</td>\n",
       "      <td>45.178925</td>\n",
       "      <td>44.814730</td>\n",
       "      <td>45.725717</td>\n",
       "      <td>45.427315</td>\n",
       "      <td>44.405627</td>\n",
       "      <td>45.851663</td>\n",
       "      <td>44.941765</td>\n",
       "      <td>45.116888</td>\n",
       "      <td>45.274699</td>\n",
       "      <td>46.267478</td>\n",
       "      <td>39.708282</td>\n",
       "      <td>45.603721</td>\n",
       "      <td>46.565793</td>\n",
       "      <td>46.118696</td>\n",
       "    </tr>\n",
       "    <tr>\n",
       "      <th>1</th>\n",
       "      <td>45.065120</td>\n",
       "      <td>45.717309</td>\n",
       "      <td>46.037358</td>\n",
       "      <td>46.444992</td>\n",
       "      <td>46.023239</td>\n",
       "      <td>45.398402</td>\n",
       "      <td>45.759633</td>\n",
       "      <td>45.915054</td>\n",
       "      <td>46.058375</td>\n",
       "      <td>45.721227</td>\n",
       "      <td>46.469688</td>\n",
       "      <td>47.264679</td>\n",
       "      <td>46.942764</td>\n",
       "      <td>46.858937</td>\n",
       "      <td>41.067468</td>\n",
       "    </tr>\n",
       "    <tr>\n",
       "      <th>2</th>\n",
       "      <td>43.880410</td>\n",
       "      <td>42.432408</td>\n",
       "      <td>44.181522</td>\n",
       "      <td>43.774233</td>\n",
       "      <td>43.392626</td>\n",
       "      <td>44.776936</td>\n",
       "      <td>44.590092</td>\n",
       "      <td>43.553211</td>\n",
       "      <td>43.595370</td>\n",
       "      <td>43.224672</td>\n",
       "      <td>42.722075</td>\n",
       "      <td>44.319520</td>\n",
       "      <td>44.060007</td>\n",
       "      <td>44.366615</td>\n",
       "      <td>48.435676</td>\n",
       "    </tr>\n",
       "    <tr>\n",
       "      <th>3</th>\n",
       "      <td>42.658960</td>\n",
       "      <td>42.490012</td>\n",
       "      <td>43.729284</td>\n",
       "      <td>43.032500</td>\n",
       "      <td>42.827733</td>\n",
       "      <td>43.853363</td>\n",
       "      <td>42.931732</td>\n",
       "      <td>43.054199</td>\n",
       "      <td>42.969431</td>\n",
       "      <td>42.957467</td>\n",
       "      <td>42.935765</td>\n",
       "      <td>43.825140</td>\n",
       "      <td>43.526168</td>\n",
       "      <td>43.560128</td>\n",
       "      <td>49.457054</td>\n",
       "    </tr>\n",
       "    <tr>\n",
       "      <th>4</th>\n",
       "      <td>42.586821</td>\n",
       "      <td>41.951869</td>\n",
       "      <td>42.064983</td>\n",
       "      <td>42.166279</td>\n",
       "      <td>42.554504</td>\n",
       "      <td>43.013707</td>\n",
       "      <td>43.179337</td>\n",
       "      <td>42.122536</td>\n",
       "      <td>42.309960</td>\n",
       "      <td>42.526074</td>\n",
       "      <td>43.661656</td>\n",
       "      <td>42.018362</td>\n",
       "      <td>41.782443</td>\n",
       "      <td>42.014302</td>\n",
       "      <td>41.968519</td>\n",
       "    </tr>\n",
       "  </tbody>\n",
       "</table>\n",
       "</div>"
      ],
      "text/plain": [
       "         lgb     lgb_rf        cat       hgbr        etr        svr  \\\n",
       "0  44.465589  45.178925  44.814730  45.725717  45.427315  44.405627   \n",
       "1  45.065120  45.717309  46.037358  46.444992  46.023239  45.398402   \n",
       "2  43.880410  42.432408  44.181522  43.774233  43.392626  44.776936   \n",
       "3  42.658960  42.490012  43.729284  43.032500  42.827733  43.853363   \n",
       "4  42.586821  41.951869  42.064983  42.166279  42.554504  43.013707   \n",
       "\n",
       "        mlp1      keras        gbr        rfr        knn         lr  \\\n",
       "0  45.851663  44.941765  45.116888  45.274699  46.267478  39.708282   \n",
       "1  45.759633  45.915054  46.058375  45.721227  46.469688  47.264679   \n",
       "2  44.590092  43.553211  43.595370  43.224672  42.722075  44.319520   \n",
       "3  42.931732  43.054199  42.969431  42.957467  42.935765  43.825140   \n",
       "4  43.179337  42.122536  42.309960  42.526074  43.661656  42.018362   \n",
       "\n",
       "          rr        sdg          y  \n",
       "0  45.603721  46.565793  46.118696  \n",
       "1  46.942764  46.858937  41.067468  \n",
       "2  44.060007  44.366615  48.435676  \n",
       "3  43.526168  43.560128  49.457054  \n",
       "4  41.782443  42.014302  41.968519  "
      ]
     },
     "metadata": {},
     "output_type": "display_data"
    },
    {
     "data": {
      "text/html": [
       "<div>\n",
       "<style scoped>\n",
       "    .dataframe tbody tr th:only-of-type {\n",
       "        vertical-align: middle;\n",
       "    }\n",
       "\n",
       "    .dataframe tbody tr th {\n",
       "        vertical-align: top;\n",
       "    }\n",
       "\n",
       "    .dataframe thead th {\n",
       "        text-align: right;\n",
       "    }\n",
       "</style>\n",
       "<table border=\"1\" class=\"dataframe\">\n",
       "  <thead>\n",
       "    <tr style=\"text-align: right;\">\n",
       "      <th></th>\n",
       "      <th>lgb</th>\n",
       "      <th>lgb_rf</th>\n",
       "      <th>cat</th>\n",
       "      <th>hgbr</th>\n",
       "      <th>etr</th>\n",
       "      <th>svr</th>\n",
       "      <th>mlp1</th>\n",
       "      <th>keras</th>\n",
       "      <th>gbr</th>\n",
       "      <th>rfr</th>\n",
       "      <th>knn</th>\n",
       "      <th>lr</th>\n",
       "      <th>rr</th>\n",
       "      <th>sdg</th>\n",
       "      <th>y</th>\n",
       "    </tr>\n",
       "  </thead>\n",
       "  <tbody>\n",
       "    <tr>\n",
       "      <th>0</th>\n",
       "      <td>48.014688</td>\n",
       "      <td>47.472089</td>\n",
       "      <td>46.366794</td>\n",
       "      <td>47.930540</td>\n",
       "      <td>45.494593</td>\n",
       "      <td>48.887069</td>\n",
       "      <td>47.417195</td>\n",
       "      <td>48.039345</td>\n",
       "      <td>47.138659</td>\n",
       "      <td>46.840488</td>\n",
       "      <td>43.707252</td>\n",
       "      <td>50.846403</td>\n",
       "      <td>50.839322</td>\n",
       "      <td>51.933999</td>\n",
       "      <td>43.707252</td>\n",
       "    </tr>\n",
       "    <tr>\n",
       "      <th>1</th>\n",
       "      <td>47.529941</td>\n",
       "      <td>47.455648</td>\n",
       "      <td>47.041038</td>\n",
       "      <td>47.384725</td>\n",
       "      <td>47.685965</td>\n",
       "      <td>47.948101</td>\n",
       "      <td>46.866160</td>\n",
       "      <td>47.656479</td>\n",
       "      <td>47.093468</td>\n",
       "      <td>47.533533</td>\n",
       "      <td>47.648155</td>\n",
       "      <td>48.655081</td>\n",
       "      <td>48.625758</td>\n",
       "      <td>49.122660</td>\n",
       "      <td>47.648155</td>\n",
       "    </tr>\n",
       "    <tr>\n",
       "      <th>2</th>\n",
       "      <td>48.251941</td>\n",
       "      <td>47.937404</td>\n",
       "      <td>48.914077</td>\n",
       "      <td>48.107544</td>\n",
       "      <td>49.287855</td>\n",
       "      <td>48.381368</td>\n",
       "      <td>47.543816</td>\n",
       "      <td>48.378117</td>\n",
       "      <td>48.391137</td>\n",
       "      <td>48.691173</td>\n",
       "      <td>50.626977</td>\n",
       "      <td>50.756657</td>\n",
       "      <td>50.748710</td>\n",
       "      <td>51.421295</td>\n",
       "      <td>50.626977</td>\n",
       "    </tr>\n",
       "    <tr>\n",
       "      <th>3</th>\n",
       "      <td>47.564586</td>\n",
       "      <td>47.120800</td>\n",
       "      <td>47.949858</td>\n",
       "      <td>47.297058</td>\n",
       "      <td>47.928047</td>\n",
       "      <td>47.428869</td>\n",
       "      <td>47.560857</td>\n",
       "      <td>47.861862</td>\n",
       "      <td>47.806166</td>\n",
       "      <td>47.834957</td>\n",
       "      <td>48.740828</td>\n",
       "      <td>49.867552</td>\n",
       "      <td>49.897509</td>\n",
       "      <td>50.515001</td>\n",
       "      <td>48.740828</td>\n",
       "    </tr>\n",
       "    <tr>\n",
       "      <th>4</th>\n",
       "      <td>45.045672</td>\n",
       "      <td>44.831065</td>\n",
       "      <td>45.478477</td>\n",
       "      <td>44.958990</td>\n",
       "      <td>45.561688</td>\n",
       "      <td>45.567016</td>\n",
       "      <td>45.138834</td>\n",
       "      <td>45.930939</td>\n",
       "      <td>45.332030</td>\n",
       "      <td>45.425579</td>\n",
       "      <td>46.179884</td>\n",
       "      <td>48.221057</td>\n",
       "      <td>48.188598</td>\n",
       "      <td>48.968077</td>\n",
       "      <td>46.179884</td>\n",
       "    </tr>\n",
       "  </tbody>\n",
       "</table>\n",
       "</div>"
      ],
      "text/plain": [
       "         lgb     lgb_rf        cat       hgbr        etr        svr  \\\n",
       "0  48.014688  47.472089  46.366794  47.930540  45.494593  48.887069   \n",
       "1  47.529941  47.455648  47.041038  47.384725  47.685965  47.948101   \n",
       "2  48.251941  47.937404  48.914077  48.107544  49.287855  48.381368   \n",
       "3  47.564586  47.120800  47.949858  47.297058  47.928047  47.428869   \n",
       "4  45.045672  44.831065  45.478477  44.958990  45.561688  45.567016   \n",
       "\n",
       "        mlp1      keras        gbr        rfr        knn         lr  \\\n",
       "0  47.417195  48.039345  47.138659  46.840488  43.707252  50.846403   \n",
       "1  46.866160  47.656479  47.093468  47.533533  47.648155  48.655081   \n",
       "2  47.543816  48.378117  48.391137  48.691173  50.626977  50.756657   \n",
       "3  47.560857  47.861862  47.806166  47.834957  48.740828  49.867552   \n",
       "4  45.138834  45.930939  45.332030  45.425579  46.179884  48.221057   \n",
       "\n",
       "          rr        sdg          y  \n",
       "0  50.839322  51.933999  43.707252  \n",
       "1  48.625758  49.122660  47.648155  \n",
       "2  50.748710  51.421295  50.626977  \n",
       "3  49.897509  50.515001  48.740828  \n",
       "4  48.188598  48.968077  46.179884  "
      ]
     },
     "metadata": {},
     "output_type": "display_data"
    },
    {
     "data": {
      "text/html": [
       "<div>\n",
       "<style scoped>\n",
       "    .dataframe tbody tr th:only-of-type {\n",
       "        vertical-align: middle;\n",
       "    }\n",
       "\n",
       "    .dataframe tbody tr th {\n",
       "        vertical-align: top;\n",
       "    }\n",
       "\n",
       "    .dataframe thead th {\n",
       "        text-align: right;\n",
       "    }\n",
       "</style>\n",
       "<table border=\"1\" class=\"dataframe\">\n",
       "  <thead>\n",
       "    <tr style=\"text-align: right;\">\n",
       "      <th></th>\n",
       "      <th>lgb</th>\n",
       "      <th>lgb_rf</th>\n",
       "      <th>cat</th>\n",
       "      <th>hgbr</th>\n",
       "      <th>etr</th>\n",
       "      <th>svr</th>\n",
       "      <th>mlp1</th>\n",
       "      <th>keras</th>\n",
       "      <th>gbr</th>\n",
       "      <th>rfr</th>\n",
       "      <th>knn</th>\n",
       "      <th>lr</th>\n",
       "      <th>rr</th>\n",
       "      <th>sdg</th>\n",
       "    </tr>\n",
       "  </thead>\n",
       "  <tbody>\n",
       "    <tr>\n",
       "      <th>0</th>\n",
       "      <td>47.706519</td>\n",
       "      <td>47.480349</td>\n",
       "      <td>48.009500</td>\n",
       "      <td>47.706444</td>\n",
       "      <td>48.224708</td>\n",
       "      <td>47.753682</td>\n",
       "      <td>47.347357</td>\n",
       "      <td>47.894806</td>\n",
       "      <td>47.575755</td>\n",
       "      <td>47.569625</td>\n",
       "      <td>48.550053</td>\n",
       "      <td>49.869936</td>\n",
       "      <td>49.880454</td>\n",
       "      <td>50.849826</td>\n",
       "    </tr>\n",
       "    <tr>\n",
       "      <th>1</th>\n",
       "      <td>47.018431</td>\n",
       "      <td>47.091144</td>\n",
       "      <td>47.098138</td>\n",
       "      <td>46.762819</td>\n",
       "      <td>46.911136</td>\n",
       "      <td>47.459157</td>\n",
       "      <td>47.452400</td>\n",
       "      <td>47.433517</td>\n",
       "      <td>46.950776</td>\n",
       "      <td>47.004757</td>\n",
       "      <td>46.705187</td>\n",
       "      <td>49.809121</td>\n",
       "      <td>49.786792</td>\n",
       "      <td>50.479543</td>\n",
       "    </tr>\n",
       "    <tr>\n",
       "      <th>2</th>\n",
       "      <td>35.017771</td>\n",
       "      <td>36.628534</td>\n",
       "      <td>36.891034</td>\n",
       "      <td>37.505293</td>\n",
       "      <td>37.075907</td>\n",
       "      <td>32.655117</td>\n",
       "      <td>36.566486</td>\n",
       "      <td>36.884819</td>\n",
       "      <td>36.632115</td>\n",
       "      <td>36.592460</td>\n",
       "      <td>36.791185</td>\n",
       "      <td>31.438800</td>\n",
       "      <td>31.478794</td>\n",
       "      <td>32.183767</td>\n",
       "    </tr>\n",
       "    <tr>\n",
       "      <th>3</th>\n",
       "      <td>29.876709</td>\n",
       "      <td>29.741590</td>\n",
       "      <td>30.654929</td>\n",
       "      <td>30.681674</td>\n",
       "      <td>29.846946</td>\n",
       "      <td>27.634928</td>\n",
       "      <td>30.197470</td>\n",
       "      <td>29.712269</td>\n",
       "      <td>31.032532</td>\n",
       "      <td>29.335716</td>\n",
       "      <td>32.148996</td>\n",
       "      <td>26.603811</td>\n",
       "      <td>26.638228</td>\n",
       "      <td>28.104682</td>\n",
       "    </tr>\n",
       "    <tr>\n",
       "      <th>4</th>\n",
       "      <td>39.229216</td>\n",
       "      <td>38.573683</td>\n",
       "      <td>41.475337</td>\n",
       "      <td>41.607134</td>\n",
       "      <td>39.044459</td>\n",
       "      <td>39.868365</td>\n",
       "      <td>40.245705</td>\n",
       "      <td>39.745815</td>\n",
       "      <td>40.243886</td>\n",
       "      <td>38.783449</td>\n",
       "      <td>32.772889</td>\n",
       "      <td>39.230151</td>\n",
       "      <td>39.137521</td>\n",
       "      <td>40.050709</td>\n",
       "    </tr>\n",
       "  </tbody>\n",
       "</table>\n",
       "</div>"
      ],
      "text/plain": [
       "         lgb     lgb_rf        cat       hgbr        etr        svr  \\\n",
       "0  47.706519  47.480349  48.009500  47.706444  48.224708  47.753682   \n",
       "1  47.018431  47.091144  47.098138  46.762819  46.911136  47.459157   \n",
       "2  35.017771  36.628534  36.891034  37.505293  37.075907  32.655117   \n",
       "3  29.876709  29.741590  30.654929  30.681674  29.846946  27.634928   \n",
       "4  39.229216  38.573683  41.475337  41.607134  39.044459  39.868365   \n",
       "\n",
       "        mlp1      keras        gbr        rfr        knn         lr  \\\n",
       "0  47.347357  47.894806  47.575755  47.569625  48.550053  49.869936   \n",
       "1  47.452400  47.433517  46.950776  47.004757  46.705187  49.809121   \n",
       "2  36.566486  36.884819  36.632115  36.592460  36.791185  31.438800   \n",
       "3  30.197470  29.712269  31.032532  29.335716  32.148996  26.603811   \n",
       "4  40.245705  39.745815  40.243886  38.783449  32.772889  39.230151   \n",
       "\n",
       "          rr        sdg  \n",
       "0  49.880454  50.849826  \n",
       "1  49.786792  50.479543  \n",
       "2  31.478794  32.183767  \n",
       "3  26.638228  28.104682  \n",
       "4  39.137521  40.050709  "
      ]
     },
     "metadata": {},
     "output_type": "display_data"
    }
   ],
   "source": [
    "oof_df_2017 = pd.DataFrame({\n",
    "    k: r[\"all_valid_preds_2017\"] for k, r in model_results.items()\n",
    "})\n",
    "oof_df_2017[\"y\"] = hgbr_result[\"all_valid_y_2017\"]\n",
    "\n",
    "display(oof_df_2017.head())\n",
    "\n",
    "oof_df_2018 = pd.DataFrame({\n",
    "    k: r[\"all_valid_preds_2018\"] for k, r in model_results.items()\n",
    "})\n",
    "oof_df_2018[\"y\"] = hgbr_result[\"all_valid_y_2018\"]\n",
    "\n",
    "display(oof_df_2018.head())\n",
    "\n",
    "\n",
    "sub_df = pd.DataFrame({\n",
    "    k: r[\"test_preds\"] for k, r in model_results.items()\n",
    "})\n",
    "\n",
    "\n",
    "display(sub_df.head())"
   ]
  },
  {
   "cell_type": "code",
   "execution_count": 61,
   "metadata": {
    "execution": {
     "iopub.execute_input": "2020-11-20T09:35:29.026859Z",
     "iopub.status.busy": "2020-11-20T09:35:29.025978Z",
     "iopub.status.idle": "2020-11-20T09:35:29.030147Z",
     "shell.execute_reply": "2020-11-20T09:35:29.029319Z"
    },
    "papermill": {
     "duration": 0.127173,
     "end_time": "2020-11-20T09:35:29.030272",
     "exception": false,
     "start_time": "2020-11-20T09:35:28.903099",
     "status": "completed"
    },
    "tags": []
   },
   "outputs": [
    {
     "data": {
      "text/plain": [
       "['lgb',\n",
       " 'lgb_rf',\n",
       " 'cat',\n",
       " 'hgbr',\n",
       " 'etr',\n",
       " 'svr',\n",
       " 'mlp1',\n",
       " 'keras',\n",
       " 'gbr',\n",
       " 'rfr',\n",
       " 'knn',\n",
       " 'lr',\n",
       " 'rr',\n",
       " 'sdg']"
      ]
     },
     "execution_count": 61,
     "metadata": {},
     "output_type": "execute_result"
    }
   ],
   "source": [
    "oof_cols = [col for col in oof_df_2017.columns if col not in [\"y\"]]\n",
    "oof_cols"
   ]
  },
  {
   "cell_type": "code",
   "execution_count": 62,
   "metadata": {
    "execution": {
     "iopub.execute_input": "2020-11-20T09:35:29.287181Z",
     "iopub.status.busy": "2020-11-20T09:35:29.286147Z",
     "iopub.status.idle": "2020-11-20T09:35:29.335294Z",
     "shell.execute_reply": "2020-11-20T09:35:29.334411Z"
    },
    "papermill": {
     "duration": 0.181309,
     "end_time": "2020-11-20T09:35:29.335443",
     "exception": false,
     "start_time": "2020-11-20T09:35:29.154134",
     "status": "completed"
    },
    "tags": []
   },
   "outputs": [
    {
     "data": {
      "text/html": [
       "<div>\n",
       "<style scoped>\n",
       "    .dataframe tbody tr th:only-of-type {\n",
       "        vertical-align: middle;\n",
       "    }\n",
       "\n",
       "    .dataframe tbody tr th {\n",
       "        vertical-align: top;\n",
       "    }\n",
       "\n",
       "    .dataframe thead th {\n",
       "        text-align: right;\n",
       "    }\n",
       "</style>\n",
       "<table border=\"1\" class=\"dataframe\">\n",
       "  <thead>\n",
       "    <tr style=\"text-align: right;\">\n",
       "      <th></th>\n",
       "      <th>model</th>\n",
       "      <th>weight</th>\n",
       "    </tr>\n",
       "  </thead>\n",
       "  <tbody>\n",
       "    <tr>\n",
       "      <th>1</th>\n",
       "      <td>lgb_rf</td>\n",
       "      <td>-0.298456</td>\n",
       "    </tr>\n",
       "    <tr>\n",
       "      <th>13</th>\n",
       "      <td>sdg</td>\n",
       "      <td>-0.120396</td>\n",
       "    </tr>\n",
       "    <tr>\n",
       "      <th>6</th>\n",
       "      <td>mlp1</td>\n",
       "      <td>-0.079402</td>\n",
       "    </tr>\n",
       "    <tr>\n",
       "      <th>12</th>\n",
       "      <td>rr</td>\n",
       "      <td>-0.046080</td>\n",
       "    </tr>\n",
       "    <tr>\n",
       "      <th>10</th>\n",
       "      <td>knn</td>\n",
       "      <td>-0.024199</td>\n",
       "    </tr>\n",
       "    <tr>\n",
       "      <th>3</th>\n",
       "      <td>hgbr</td>\n",
       "      <td>0.074321</td>\n",
       "    </tr>\n",
       "    <tr>\n",
       "      <th>11</th>\n",
       "      <td>lr</td>\n",
       "      <td>0.075828</td>\n",
       "    </tr>\n",
       "    <tr>\n",
       "      <th>4</th>\n",
       "      <td>etr</td>\n",
       "      <td>0.082152</td>\n",
       "    </tr>\n",
       "    <tr>\n",
       "      <th>2</th>\n",
       "      <td>cat</td>\n",
       "      <td>0.094945</td>\n",
       "    </tr>\n",
       "    <tr>\n",
       "      <th>9</th>\n",
       "      <td>rfr</td>\n",
       "      <td>0.110465</td>\n",
       "    </tr>\n",
       "    <tr>\n",
       "      <th>5</th>\n",
       "      <td>svr</td>\n",
       "      <td>0.130411</td>\n",
       "    </tr>\n",
       "    <tr>\n",
       "      <th>0</th>\n",
       "      <td>lgb</td>\n",
       "      <td>0.262996</td>\n",
       "    </tr>\n",
       "    <tr>\n",
       "      <th>8</th>\n",
       "      <td>gbr</td>\n",
       "      <td>0.320377</td>\n",
       "    </tr>\n",
       "    <tr>\n",
       "      <th>7</th>\n",
       "      <td>keras</td>\n",
       "      <td>0.422815</td>\n",
       "    </tr>\n",
       "  </tbody>\n",
       "</table>\n",
       "</div>"
      ],
      "text/plain": [
       "     model    weight\n",
       "1   lgb_rf -0.298456\n",
       "13     sdg -0.120396\n",
       "6     mlp1 -0.079402\n",
       "12      rr -0.046080\n",
       "10     knn -0.024199\n",
       "3     hgbr  0.074321\n",
       "11      lr  0.075828\n",
       "4      etr  0.082152\n",
       "2      cat  0.094945\n",
       "9      rfr  0.110465\n",
       "5      svr  0.130411\n",
       "0      lgb  0.262996\n",
       "8      gbr  0.320377\n",
       "7    keras  0.422815"
      ]
     },
     "metadata": {},
     "output_type": "display_data"
    },
    {
     "data": {
      "text/plain": [
       "(10.167624728705762, 6.512433867209201)"
      ]
     },
     "execution_count": 62,
     "metadata": {},
     "output_type": "execute_result"
    }
   ],
   "source": [
    "# train blender with 2017 data\n",
    "\n",
    "blending_lr = LinearRegression()\n",
    "blending_lr.fit(oof_df_2017[oof_cols].values, oof_df_2017[\"y\"].values)\n",
    "\n",
    "display(pd.DataFrame({\n",
    "    \"model\": oof_cols,\n",
    "    \"weight\": blending_lr.coef_\n",
    "}).sort_values(\"weight\"))\n",
    "\n",
    "\n",
    "oof_df_2017[\"blended\"] =  0\n",
    "for i in range(len(oof_cols)):\n",
    "    oof_df_2017[\"blended\"] += oof_df_2017[oof_cols[i]] * blending_lr.coef_[i]\n",
    "\n",
    "oof_df_2017[\"blended\"] += blending_lr.intercept_\n",
    "\n",
    "oof_df_2018[\"blended\"] =  0\n",
    "for i in range(len(oof_cols)):\n",
    "    oof_df_2018[\"blended\"] += oof_df_2018[oof_cols[i]] * blending_lr.coef_[i]\n",
    "\n",
    "oof_df_2018[\"blended\"] += blending_lr.intercept_\n",
    "\n",
    "mean_squared_error(oof_df_2017[\"y\"], oof_df_2017[\"blended\"]), mean_squared_error(oof_df_2018[\"y\"], oof_df_2018[\"blended\"])"
   ]
  },
  {
   "cell_type": "code",
   "execution_count": 63,
   "metadata": {
    "execution": {
     "iopub.execute_input": "2020-11-20T09:35:29.582256Z",
     "iopub.status.busy": "2020-11-20T09:35:29.581400Z",
     "iopub.status.idle": "2020-11-20T09:35:29.988638Z",
     "shell.execute_reply": "2020-11-20T09:35:29.987799Z"
    },
    "papermill": {
     "duration": 0.529647,
     "end_time": "2020-11-20T09:35:29.988778",
     "exception": false,
     "start_time": "2020-11-20T09:35:29.459131",
     "status": "completed"
    },
    "tags": []
   },
   "outputs": [],
   "source": [
    "oof_df_2017.to_csv(\"oof_df_2017.csv\", index=False)"
   ]
  },
  {
   "cell_type": "code",
   "execution_count": 64,
   "metadata": {
    "execution": {
     "iopub.execute_input": "2020-11-20T09:35:30.238747Z",
     "iopub.status.busy": "2020-11-20T09:35:30.237949Z",
     "iopub.status.idle": "2020-11-20T09:35:30.273824Z",
     "shell.execute_reply": "2020-11-20T09:35:30.273051Z"
    },
    "papermill": {
     "duration": 0.166422,
     "end_time": "2020-11-20T09:35:30.273955",
     "exception": false,
     "start_time": "2020-11-20T09:35:30.107533",
     "status": "completed"
    },
    "tags": []
   },
   "outputs": [
    {
     "data": {
      "text/html": [
       "<div>\n",
       "<style scoped>\n",
       "    .dataframe tbody tr th:only-of-type {\n",
       "        vertical-align: middle;\n",
       "    }\n",
       "\n",
       "    .dataframe tbody tr th {\n",
       "        vertical-align: top;\n",
       "    }\n",
       "\n",
       "    .dataframe thead th {\n",
       "        text-align: right;\n",
       "    }\n",
       "</style>\n",
       "<table border=\"1\" class=\"dataframe\">\n",
       "  <thead>\n",
       "    <tr style=\"text-align: right;\">\n",
       "      <th></th>\n",
       "      <th>lgb</th>\n",
       "      <th>lgb_rf</th>\n",
       "      <th>cat</th>\n",
       "      <th>hgbr</th>\n",
       "      <th>etr</th>\n",
       "      <th>svr</th>\n",
       "      <th>mlp1</th>\n",
       "      <th>keras</th>\n",
       "      <th>gbr</th>\n",
       "      <th>rfr</th>\n",
       "      <th>knn</th>\n",
       "      <th>lr</th>\n",
       "      <th>rr</th>\n",
       "      <th>sdg</th>\n",
       "      <th>y</th>\n",
       "      <th>blended</th>\n",
       "    </tr>\n",
       "  </thead>\n",
       "  <tbody>\n",
       "    <tr>\n",
       "      <th>lgb</th>\n",
       "      <td>1.000000</td>\n",
       "      <td>0.998200</td>\n",
       "      <td>0.998492</td>\n",
       "      <td>0.998669</td>\n",
       "      <td>0.998330</td>\n",
       "      <td>0.996386</td>\n",
       "      <td>0.995580</td>\n",
       "      <td>0.997930</td>\n",
       "      <td>0.998916</td>\n",
       "      <td>0.998893</td>\n",
       "      <td>0.992659</td>\n",
       "      <td>0.995813</td>\n",
       "      <td>0.995846</td>\n",
       "      <td>0.995260</td>\n",
       "      <td>0.972077</td>\n",
       "      <td>0.999247</td>\n",
       "    </tr>\n",
       "    <tr>\n",
       "      <th>lgb_rf</th>\n",
       "      <td>0.998200</td>\n",
       "      <td>1.000000</td>\n",
       "      <td>0.996972</td>\n",
       "      <td>0.997950</td>\n",
       "      <td>0.998457</td>\n",
       "      <td>0.995917</td>\n",
       "      <td>0.994389</td>\n",
       "      <td>0.996946</td>\n",
       "      <td>0.998159</td>\n",
       "      <td>0.999330</td>\n",
       "      <td>0.993963</td>\n",
       "      <td>0.995330</td>\n",
       "      <td>0.995381</td>\n",
       "      <td>0.994358</td>\n",
       "      <td>0.970426</td>\n",
       "      <td>0.997551</td>\n",
       "    </tr>\n",
       "    <tr>\n",
       "      <th>cat</th>\n",
       "      <td>0.998492</td>\n",
       "      <td>0.996972</td>\n",
       "      <td>1.000000</td>\n",
       "      <td>0.997706</td>\n",
       "      <td>0.997631</td>\n",
       "      <td>0.996408</td>\n",
       "      <td>0.995618</td>\n",
       "      <td>0.997900</td>\n",
       "      <td>0.998249</td>\n",
       "      <td>0.998042</td>\n",
       "      <td>0.992401</td>\n",
       "      <td>0.995930</td>\n",
       "      <td>0.995963</td>\n",
       "      <td>0.995428</td>\n",
       "      <td>0.971741</td>\n",
       "      <td>0.998902</td>\n",
       "    </tr>\n",
       "    <tr>\n",
       "      <th>hgbr</th>\n",
       "      <td>0.998669</td>\n",
       "      <td>0.997950</td>\n",
       "      <td>0.997706</td>\n",
       "      <td>1.000000</td>\n",
       "      <td>0.998239</td>\n",
       "      <td>0.995663</td>\n",
       "      <td>0.995007</td>\n",
       "      <td>0.997380</td>\n",
       "      <td>0.999066</td>\n",
       "      <td>0.998549</td>\n",
       "      <td>0.991746</td>\n",
       "      <td>0.995061</td>\n",
       "      <td>0.995098</td>\n",
       "      <td>0.994419</td>\n",
       "      <td>0.971660</td>\n",
       "      <td>0.998819</td>\n",
       "    </tr>\n",
       "    <tr>\n",
       "      <th>etr</th>\n",
       "      <td>0.998330</td>\n",
       "      <td>0.998457</td>\n",
       "      <td>0.997631</td>\n",
       "      <td>0.998239</td>\n",
       "      <td>1.000000</td>\n",
       "      <td>0.995589</td>\n",
       "      <td>0.994916</td>\n",
       "      <td>0.997516</td>\n",
       "      <td>0.998542</td>\n",
       "      <td>0.999293</td>\n",
       "      <td>0.992816</td>\n",
       "      <td>0.995104</td>\n",
       "      <td>0.995144</td>\n",
       "      <td>0.994311</td>\n",
       "      <td>0.971397</td>\n",
       "      <td>0.998549</td>\n",
       "    </tr>\n",
       "    <tr>\n",
       "      <th>svr</th>\n",
       "      <td>0.996386</td>\n",
       "      <td>0.995917</td>\n",
       "      <td>0.996408</td>\n",
       "      <td>0.995663</td>\n",
       "      <td>0.995589</td>\n",
       "      <td>1.000000</td>\n",
       "      <td>0.994096</td>\n",
       "      <td>0.996463</td>\n",
       "      <td>0.996259</td>\n",
       "      <td>0.996553</td>\n",
       "      <td>0.992928</td>\n",
       "      <td>0.997946</td>\n",
       "      <td>0.997968</td>\n",
       "      <td>0.997447</td>\n",
       "      <td>0.969888</td>\n",
       "      <td>0.996997</td>\n",
       "    </tr>\n",
       "    <tr>\n",
       "      <th>mlp1</th>\n",
       "      <td>0.995580</td>\n",
       "      <td>0.994389</td>\n",
       "      <td>0.995618</td>\n",
       "      <td>0.995007</td>\n",
       "      <td>0.994916</td>\n",
       "      <td>0.994096</td>\n",
       "      <td>1.000000</td>\n",
       "      <td>0.996768</td>\n",
       "      <td>0.995491</td>\n",
       "      <td>0.995271</td>\n",
       "      <td>0.990274</td>\n",
       "      <td>0.993704</td>\n",
       "      <td>0.993751</td>\n",
       "      <td>0.992885</td>\n",
       "      <td>0.968979</td>\n",
       "      <td>0.996063</td>\n",
       "    </tr>\n",
       "    <tr>\n",
       "      <th>keras</th>\n",
       "      <td>0.997930</td>\n",
       "      <td>0.996946</td>\n",
       "      <td>0.997900</td>\n",
       "      <td>0.997380</td>\n",
       "      <td>0.997516</td>\n",
       "      <td>0.996463</td>\n",
       "      <td>0.996768</td>\n",
       "      <td>1.000000</td>\n",
       "      <td>0.997921</td>\n",
       "      <td>0.997856</td>\n",
       "      <td>0.993000</td>\n",
       "      <td>0.996098</td>\n",
       "      <td>0.996126</td>\n",
       "      <td>0.995497</td>\n",
       "      <td>0.972027</td>\n",
       "      <td>0.999196</td>\n",
       "    </tr>\n",
       "    <tr>\n",
       "      <th>gbr</th>\n",
       "      <td>0.998916</td>\n",
       "      <td>0.998159</td>\n",
       "      <td>0.998249</td>\n",
       "      <td>0.999066</td>\n",
       "      <td>0.998542</td>\n",
       "      <td>0.996259</td>\n",
       "      <td>0.995491</td>\n",
       "      <td>0.997921</td>\n",
       "      <td>1.000000</td>\n",
       "      <td>0.999003</td>\n",
       "      <td>0.992156</td>\n",
       "      <td>0.995878</td>\n",
       "      <td>0.995906</td>\n",
       "      <td>0.995225</td>\n",
       "      <td>0.972186</td>\n",
       "      <td>0.999359</td>\n",
       "    </tr>\n",
       "    <tr>\n",
       "      <th>rfr</th>\n",
       "      <td>0.998893</td>\n",
       "      <td>0.999330</td>\n",
       "      <td>0.998042</td>\n",
       "      <td>0.998549</td>\n",
       "      <td>0.999293</td>\n",
       "      <td>0.996553</td>\n",
       "      <td>0.995271</td>\n",
       "      <td>0.997856</td>\n",
       "      <td>0.999003</td>\n",
       "      <td>1.000000</td>\n",
       "      <td>0.993846</td>\n",
       "      <td>0.996100</td>\n",
       "      <td>0.996144</td>\n",
       "      <td>0.995297</td>\n",
       "      <td>0.971633</td>\n",
       "      <td>0.998791</td>\n",
       "    </tr>\n",
       "    <tr>\n",
       "      <th>knn</th>\n",
       "      <td>0.992659</td>\n",
       "      <td>0.993963</td>\n",
       "      <td>0.992401</td>\n",
       "      <td>0.991746</td>\n",
       "      <td>0.992816</td>\n",
       "      <td>0.992928</td>\n",
       "      <td>0.990274</td>\n",
       "      <td>0.993000</td>\n",
       "      <td>0.992156</td>\n",
       "      <td>0.993846</td>\n",
       "      <td>1.000000</td>\n",
       "      <td>0.992018</td>\n",
       "      <td>0.992108</td>\n",
       "      <td>0.991227</td>\n",
       "      <td>0.965455</td>\n",
       "      <td>0.992440</td>\n",
       "    </tr>\n",
       "    <tr>\n",
       "      <th>lr</th>\n",
       "      <td>0.995813</td>\n",
       "      <td>0.995330</td>\n",
       "      <td>0.995930</td>\n",
       "      <td>0.995061</td>\n",
       "      <td>0.995104</td>\n",
       "      <td>0.997946</td>\n",
       "      <td>0.993704</td>\n",
       "      <td>0.996098</td>\n",
       "      <td>0.995878</td>\n",
       "      <td>0.996100</td>\n",
       "      <td>0.992018</td>\n",
       "      <td>1.000000</td>\n",
       "      <td>0.999966</td>\n",
       "      <td>0.999381</td>\n",
       "      <td>0.969091</td>\n",
       "      <td>0.996178</td>\n",
       "    </tr>\n",
       "    <tr>\n",
       "      <th>rr</th>\n",
       "      <td>0.995846</td>\n",
       "      <td>0.995381</td>\n",
       "      <td>0.995963</td>\n",
       "      <td>0.995098</td>\n",
       "      <td>0.995144</td>\n",
       "      <td>0.997968</td>\n",
       "      <td>0.993751</td>\n",
       "      <td>0.996126</td>\n",
       "      <td>0.995906</td>\n",
       "      <td>0.996144</td>\n",
       "      <td>0.992108</td>\n",
       "      <td>0.999966</td>\n",
       "      <td>1.000000</td>\n",
       "      <td>0.999459</td>\n",
       "      <td>0.969102</td>\n",
       "      <td>0.996189</td>\n",
       "    </tr>\n",
       "    <tr>\n",
       "      <th>sdg</th>\n",
       "      <td>0.995260</td>\n",
       "      <td>0.994358</td>\n",
       "      <td>0.995428</td>\n",
       "      <td>0.994419</td>\n",
       "      <td>0.994311</td>\n",
       "      <td>0.997447</td>\n",
       "      <td>0.992885</td>\n",
       "      <td>0.995497</td>\n",
       "      <td>0.995225</td>\n",
       "      <td>0.995297</td>\n",
       "      <td>0.991227</td>\n",
       "      <td>0.999381</td>\n",
       "      <td>0.999459</td>\n",
       "      <td>1.000000</td>\n",
       "      <td>0.968462</td>\n",
       "      <td>0.995531</td>\n",
       "    </tr>\n",
       "    <tr>\n",
       "      <th>y</th>\n",
       "      <td>0.972077</td>\n",
       "      <td>0.970426</td>\n",
       "      <td>0.971741</td>\n",
       "      <td>0.971660</td>\n",
       "      <td>0.971397</td>\n",
       "      <td>0.969888</td>\n",
       "      <td>0.968979</td>\n",
       "      <td>0.972027</td>\n",
       "      <td>0.972186</td>\n",
       "      <td>0.971633</td>\n",
       "      <td>0.965455</td>\n",
       "      <td>0.969091</td>\n",
       "      <td>0.969102</td>\n",
       "      <td>0.968462</td>\n",
       "      <td>1.000000</td>\n",
       "      <td>0.972809</td>\n",
       "    </tr>\n",
       "    <tr>\n",
       "      <th>blended</th>\n",
       "      <td>0.999247</td>\n",
       "      <td>0.997551</td>\n",
       "      <td>0.998902</td>\n",
       "      <td>0.998819</td>\n",
       "      <td>0.998549</td>\n",
       "      <td>0.996997</td>\n",
       "      <td>0.996063</td>\n",
       "      <td>0.999196</td>\n",
       "      <td>0.999359</td>\n",
       "      <td>0.998791</td>\n",
       "      <td>0.992440</td>\n",
       "      <td>0.996178</td>\n",
       "      <td>0.996189</td>\n",
       "      <td>0.995531</td>\n",
       "      <td>0.972809</td>\n",
       "      <td>1.000000</td>\n",
       "    </tr>\n",
       "  </tbody>\n",
       "</table>\n",
       "</div>"
      ],
      "text/plain": [
       "              lgb    lgb_rf       cat      hgbr       etr       svr      mlp1  \\\n",
       "lgb      1.000000  0.998200  0.998492  0.998669  0.998330  0.996386  0.995580   \n",
       "lgb_rf   0.998200  1.000000  0.996972  0.997950  0.998457  0.995917  0.994389   \n",
       "cat      0.998492  0.996972  1.000000  0.997706  0.997631  0.996408  0.995618   \n",
       "hgbr     0.998669  0.997950  0.997706  1.000000  0.998239  0.995663  0.995007   \n",
       "etr      0.998330  0.998457  0.997631  0.998239  1.000000  0.995589  0.994916   \n",
       "svr      0.996386  0.995917  0.996408  0.995663  0.995589  1.000000  0.994096   \n",
       "mlp1     0.995580  0.994389  0.995618  0.995007  0.994916  0.994096  1.000000   \n",
       "keras    0.997930  0.996946  0.997900  0.997380  0.997516  0.996463  0.996768   \n",
       "gbr      0.998916  0.998159  0.998249  0.999066  0.998542  0.996259  0.995491   \n",
       "rfr      0.998893  0.999330  0.998042  0.998549  0.999293  0.996553  0.995271   \n",
       "knn      0.992659  0.993963  0.992401  0.991746  0.992816  0.992928  0.990274   \n",
       "lr       0.995813  0.995330  0.995930  0.995061  0.995104  0.997946  0.993704   \n",
       "rr       0.995846  0.995381  0.995963  0.995098  0.995144  0.997968  0.993751   \n",
       "sdg      0.995260  0.994358  0.995428  0.994419  0.994311  0.997447  0.992885   \n",
       "y        0.972077  0.970426  0.971741  0.971660  0.971397  0.969888  0.968979   \n",
       "blended  0.999247  0.997551  0.998902  0.998819  0.998549  0.996997  0.996063   \n",
       "\n",
       "            keras       gbr       rfr       knn        lr        rr       sdg  \\\n",
       "lgb      0.997930  0.998916  0.998893  0.992659  0.995813  0.995846  0.995260   \n",
       "lgb_rf   0.996946  0.998159  0.999330  0.993963  0.995330  0.995381  0.994358   \n",
       "cat      0.997900  0.998249  0.998042  0.992401  0.995930  0.995963  0.995428   \n",
       "hgbr     0.997380  0.999066  0.998549  0.991746  0.995061  0.995098  0.994419   \n",
       "etr      0.997516  0.998542  0.999293  0.992816  0.995104  0.995144  0.994311   \n",
       "svr      0.996463  0.996259  0.996553  0.992928  0.997946  0.997968  0.997447   \n",
       "mlp1     0.996768  0.995491  0.995271  0.990274  0.993704  0.993751  0.992885   \n",
       "keras    1.000000  0.997921  0.997856  0.993000  0.996098  0.996126  0.995497   \n",
       "gbr      0.997921  1.000000  0.999003  0.992156  0.995878  0.995906  0.995225   \n",
       "rfr      0.997856  0.999003  1.000000  0.993846  0.996100  0.996144  0.995297   \n",
       "knn      0.993000  0.992156  0.993846  1.000000  0.992018  0.992108  0.991227   \n",
       "lr       0.996098  0.995878  0.996100  0.992018  1.000000  0.999966  0.999381   \n",
       "rr       0.996126  0.995906  0.996144  0.992108  0.999966  1.000000  0.999459   \n",
       "sdg      0.995497  0.995225  0.995297  0.991227  0.999381  0.999459  1.000000   \n",
       "y        0.972027  0.972186  0.971633  0.965455  0.969091  0.969102  0.968462   \n",
       "blended  0.999196  0.999359  0.998791  0.992440  0.996178  0.996189  0.995531   \n",
       "\n",
       "                y   blended  \n",
       "lgb      0.972077  0.999247  \n",
       "lgb_rf   0.970426  0.997551  \n",
       "cat      0.971741  0.998902  \n",
       "hgbr     0.971660  0.998819  \n",
       "etr      0.971397  0.998549  \n",
       "svr      0.969888  0.996997  \n",
       "mlp1     0.968979  0.996063  \n",
       "keras    0.972027  0.999196  \n",
       "gbr      0.972186  0.999359  \n",
       "rfr      0.971633  0.998791  \n",
       "knn      0.965455  0.992440  \n",
       "lr       0.969091  0.996178  \n",
       "rr       0.969102  0.996189  \n",
       "sdg      0.968462  0.995531  \n",
       "y        1.000000  0.972809  \n",
       "blended  0.972809  1.000000  "
      ]
     },
     "execution_count": 64,
     "metadata": {},
     "output_type": "execute_result"
    }
   ],
   "source": [
    "oof_df_2017.corr()"
   ]
  },
  {
   "cell_type": "code",
   "execution_count": 65,
   "metadata": {
    "execution": {
     "iopub.execute_input": "2020-11-20T09:35:30.517538Z",
     "iopub.status.busy": "2020-11-20T09:35:30.516540Z",
     "iopub.status.idle": "2020-11-20T09:35:30.519587Z",
     "shell.execute_reply": "2020-11-20T09:35:30.518869Z"
    },
    "papermill": {
     "duration": 0.127085,
     "end_time": "2020-11-20T09:35:30.519747",
     "exception": false,
     "start_time": "2020-11-20T09:35:30.392662",
     "status": "completed"
    },
    "tags": []
   },
   "outputs": [],
   "source": [
    "# (10.826759419593564, 5.058463991748709)\n",
    "# (10.816436386961382, 5.023067328786623)\n",
    "# (10.869886204603047, 4.8025706541702835)\n",
    "# (10.812573609156068, 5.166991732118686)\n",
    "# (10.792901960931674, 4.866821606668187)\n",
    "# (10.855415629981248, 4.407873662317213)\n",
    "# (10.756941720154023, 5.47654079950498)\n",
    "# (10.701563672477084, 5.484962579708319)\n",
    "# (10.702122443525914, 5.417265987849471)\n",
    "# (10.887283073796421, 5.219964601179514)\n",
    "# (10.631661789030003, 5.6496533125875565)\n",
    "# (10.719186497654366, 5.09363183570804)\n",
    "# (10.711663550460385, 4.995711873058972)\n",
    "# (10.590993592023693, 4.837335497679887)\n",
    "# (10.536075027996375, 5.291787028459771)\n",
    "# (10.486588644609201, 5.741043019294984)\n",
    "# (10.341489442817391, 5.723608825052311)"
   ]
  },
  {
   "cell_type": "code",
   "execution_count": 66,
   "metadata": {
    "execution": {
     "iopub.execute_input": "2020-11-20T09:35:30.765498Z",
     "iopub.status.busy": "2020-11-20T09:35:30.764343Z",
     "iopub.status.idle": "2020-11-20T09:35:30.767113Z",
     "shell.execute_reply": "2020-11-20T09:35:30.767691Z"
    },
    "papermill": {
     "duration": 0.129208,
     "end_time": "2020-11-20T09:35:30.767858",
     "exception": false,
     "start_time": "2020-11-20T09:35:30.638650",
     "status": "completed"
    },
    "tags": []
   },
   "outputs": [],
   "source": [
    "# 13.34214192182552 15.81887\n",
    "# 12.152888343812627 13.86160\n",
    "# 15.003324043533897 15.57726\n",
    "# 21.62866506785411 21.85413"
   ]
  },
  {
   "cell_type": "code",
   "execution_count": 67,
   "metadata": {
    "execution": {
     "iopub.execute_input": "2020-11-20T09:35:31.018873Z",
     "iopub.status.busy": "2020-11-20T09:35:31.015276Z",
     "iopub.status.idle": "2020-11-20T09:35:31.051478Z",
     "shell.execute_reply": "2020-11-20T09:35:31.050652Z"
    },
    "papermill": {
     "duration": 0.164442,
     "end_time": "2020-11-20T09:35:31.051647",
     "exception": false,
     "start_time": "2020-11-20T09:35:30.887205",
     "status": "completed"
    },
    "tags": []
   },
   "outputs": [],
   "source": [
    "sub_df[\"blended\"] =  0\n",
    "for i in range(len(oof_cols)):\n",
    "    sub_df[\"blended\"] += sub_df[oof_cols[i]] * blending_lr.coef_[i]\n",
    "\n",
    "sub_df[\"blended\"] += blending_lr.intercept_\n",
    "\n",
    "test_df[\"speed\"] = sub_df[\"blended\"].values\n",
    "test_df[[\"id\", \"speed\"]].to_csv(\"submission.csv\", index=False)"
   ]
  },
  {
   "cell_type": "code",
   "execution_count": 68,
   "metadata": {
    "execution": {
     "iopub.execute_input": "2020-11-20T09:35:31.307104Z",
     "iopub.status.busy": "2020-11-20T09:35:31.306017Z",
     "iopub.status.idle": "2020-11-20T09:35:31.311353Z",
     "shell.execute_reply": "2020-11-20T09:35:31.310485Z"
    },
    "papermill": {
     "duration": 0.138987,
     "end_time": "2020-11-20T09:35:31.311489",
     "exception": false,
     "start_time": "2020-11-20T09:35:31.172502",
     "status": "completed"
    },
    "tags": []
   },
   "outputs": [
    {
     "data": {
      "text/html": [
       "<div>\n",
       "<style scoped>\n",
       "    .dataframe tbody tr th:only-of-type {\n",
       "        vertical-align: middle;\n",
       "    }\n",
       "\n",
       "    .dataframe tbody tr th {\n",
       "        vertical-align: top;\n",
       "    }\n",
       "\n",
       "    .dataframe thead th {\n",
       "        text-align: right;\n",
       "    }\n",
       "</style>\n",
       "<table border=\"1\" class=\"dataframe\">\n",
       "  <thead>\n",
       "    <tr style=\"text-align: right;\">\n",
       "      <th></th>\n",
       "      <th>id</th>\n",
       "      <th>speed</th>\n",
       "    </tr>\n",
       "  </thead>\n",
       "  <tbody>\n",
       "    <tr>\n",
       "      <th>0</th>\n",
       "      <td>0</td>\n",
       "      <td>47.520255</td>\n",
       "    </tr>\n",
       "    <tr>\n",
       "      <th>1</th>\n",
       "      <td>1</td>\n",
       "      <td>46.775390</td>\n",
       "    </tr>\n",
       "    <tr>\n",
       "      <th>2</th>\n",
       "      <td>2</td>\n",
       "      <td>36.187608</td>\n",
       "    </tr>\n",
       "    <tr>\n",
       "      <th>3</th>\n",
       "      <td>3</td>\n",
       "      <td>29.880513</td>\n",
       "    </tr>\n",
       "    <tr>\n",
       "      <th>4</th>\n",
       "      <td>4</td>\n",
       "      <td>40.261849</td>\n",
       "    </tr>\n",
       "    <tr>\n",
       "      <th>5</th>\n",
       "      <td>5</td>\n",
       "      <td>30.191044</td>\n",
       "    </tr>\n",
       "    <tr>\n",
       "      <th>6</th>\n",
       "      <td>6</td>\n",
       "      <td>20.038224</td>\n",
       "    </tr>\n",
       "    <tr>\n",
       "      <th>7</th>\n",
       "      <td>7</td>\n",
       "      <td>49.283901</td>\n",
       "    </tr>\n",
       "    <tr>\n",
       "      <th>8</th>\n",
       "      <td>8</td>\n",
       "      <td>47.582849</td>\n",
       "    </tr>\n",
       "    <tr>\n",
       "      <th>9</th>\n",
       "      <td>9</td>\n",
       "      <td>33.246719</td>\n",
       "    </tr>\n",
       "  </tbody>\n",
       "</table>\n",
       "</div>"
      ],
      "text/plain": [
       "   id      speed\n",
       "0   0  47.520255\n",
       "1   1  46.775390\n",
       "2   2  36.187608\n",
       "3   3  29.880513\n",
       "4   4  40.261849\n",
       "5   5  30.191044\n",
       "6   6  20.038224\n",
       "7   7  49.283901\n",
       "8   8  47.582849\n",
       "9   9  33.246719"
      ]
     },
     "execution_count": 68,
     "metadata": {},
     "output_type": "execute_result"
    }
   ],
   "source": [
    "test_df[[\"id\", \"speed\"]].head(10)"
   ]
  },
  {
   "cell_type": "code",
   "execution_count": 69,
   "metadata": {
    "execution": {
     "iopub.execute_input": "2020-11-20T09:35:31.567713Z",
     "iopub.status.busy": "2020-11-20T09:35:31.566519Z",
     "iopub.status.idle": "2020-11-20T09:35:31.575842Z",
     "shell.execute_reply": "2020-11-20T09:35:31.575242Z"
    },
    "papermill": {
     "duration": 0.143673,
     "end_time": "2020-11-20T09:35:31.575971",
     "exception": false,
     "start_time": "2020-11-20T09:35:31.432298",
     "status": "completed"
    },
    "tags": []
   },
   "outputs": [
    {
     "data": {
      "text/html": [
       "<div>\n",
       "<style scoped>\n",
       "    .dataframe tbody tr th:only-of-type {\n",
       "        vertical-align: middle;\n",
       "    }\n",
       "\n",
       "    .dataframe tbody tr th {\n",
       "        vertical-align: top;\n",
       "    }\n",
       "\n",
       "    .dataframe thead th {\n",
       "        text-align: right;\n",
       "    }\n",
       "</style>\n",
       "<table border=\"1\" class=\"dataframe\">\n",
       "  <thead>\n",
       "    <tr style=\"text-align: right;\">\n",
       "      <th></th>\n",
       "      <th>date</th>\n",
       "      <th>error</th>\n",
       "      <th>y</th>\n",
       "      <th>p</th>\n",
       "    </tr>\n",
       "  </thead>\n",
       "  <tbody>\n",
       "    <tr>\n",
       "      <th>0</th>\n",
       "      <td>2017-01-01 01:00:00+08:00</td>\n",
       "      <td>4.220748</td>\n",
       "      <td>46.118696</td>\n",
       "      <td>44.064250</td>\n",
       "    </tr>\n",
       "    <tr>\n",
       "      <th>1</th>\n",
       "      <td>2017-01-01 03:00:00+08:00</td>\n",
       "      <td>21.000430</td>\n",
       "      <td>41.067468</td>\n",
       "      <td>45.650090</td>\n",
       "    </tr>\n",
       "    <tr>\n",
       "      <th>2</th>\n",
       "      <td>2017-01-01 09:00:00+08:00</td>\n",
       "      <td>19.882500</td>\n",
       "      <td>48.435676</td>\n",
       "      <td>43.976697</td>\n",
       "    </tr>\n",
       "    <tr>\n",
       "      <th>3</th>\n",
       "      <td>2017-01-01 10:00:00+08:00</td>\n",
       "      <td>39.866962</td>\n",
       "      <td>49.457054</td>\n",
       "      <td>43.143025</td>\n",
       "    </tr>\n",
       "    <tr>\n",
       "      <th>4</th>\n",
       "      <td>2017-01-01 11:00:00+08:00</td>\n",
       "      <td>0.160946</td>\n",
       "      <td>41.968519</td>\n",
       "      <td>42.369699</td>\n",
       "    </tr>\n",
       "  </tbody>\n",
       "</table>\n",
       "</div>"
      ],
      "text/plain": [
       "                       date      error          y          p\n",
       "0 2017-01-01 01:00:00+08:00   4.220748  46.118696  44.064250\n",
       "1 2017-01-01 03:00:00+08:00  21.000430  41.067468  45.650090\n",
       "2 2017-01-01 09:00:00+08:00  19.882500  48.435676  43.976697\n",
       "3 2017-01-01 10:00:00+08:00  39.866962  49.457054  43.143025\n",
       "4 2017-01-01 11:00:00+08:00   0.160946  41.968519  42.369699"
      ]
     },
     "execution_count": 69,
     "metadata": {},
     "output_type": "execute_result"
    }
   ],
   "source": [
    "error_df = pd.DataFrame({\n",
    "    \"date\": valid_df_2017.date,\n",
    "    \"error\": (oof_df_2017[\"y\"] -  oof_df_2017[\"blended\"]) ** 2,\n",
    "    \"y\": oof_df_2017[\"y\"],\n",
    "    \"p\": oof_df_2017[\"blended\"],\n",
    "})\n",
    "error_df.head()"
   ]
  },
  {
   "cell_type": "code",
   "execution_count": 70,
   "metadata": {
    "execution": {
     "iopub.execute_input": "2020-11-20T09:35:31.837540Z",
     "iopub.status.busy": "2020-11-20T09:35:31.836718Z",
     "iopub.status.idle": "2020-11-20T09:35:32.068776Z",
     "shell.execute_reply": "2020-11-20T09:35:32.068151Z"
    },
    "papermill": {
     "duration": 0.371762,
     "end_time": "2020-11-20T09:35:32.068904",
     "exception": false,
     "start_time": "2020-11-20T09:35:31.697142",
     "status": "completed"
    },
    "tags": []
   },
   "outputs": [
    {
     "data": {
      "text/plain": [
       "<matplotlib.axes._subplots.AxesSubplot at 0x7fcf8e4be590>"
      ]
     },
     "execution_count": 70,
     "metadata": {},
     "output_type": "execute_result"
    },
    {
     "data": {
      "image/png": "[encoded data removed]",
      "text/plain": [
       "<Figure size 432x288 with 1 Axes>"
      ]
     },
     "metadata": {
      "needs_background": "light"
     },
     "output_type": "display_data"
    }
   ],
   "source": [
    "error_df.plot(x=\"date\", y=\"error\")"
   ]
  },
  {
   "cell_type": "code",
   "execution_count": 71,
   "metadata": {
    "execution": {
     "iopub.execute_input": "2020-11-20T09:35:32.321300Z",
     "iopub.status.busy": "2020-11-20T09:35:32.320546Z",
     "iopub.status.idle": "2020-11-20T09:35:32.338965Z",
     "shell.execute_reply": "2020-11-20T09:35:32.338157Z"
    },
    "papermill": {
     "duration": 0.145915,
     "end_time": "2020-11-20T09:35:32.339103",
     "exception": false,
     "start_time": "2020-11-20T09:35:32.193188",
     "status": "completed"
    },
    "tags": []
   },
   "outputs": [
    {
     "data": {
      "text/html": [
       "<div>\n",
       "<style scoped>\n",
       "    .dataframe tbody tr th:only-of-type {\n",
       "        vertical-align: middle;\n",
       "    }\n",
       "\n",
       "    .dataframe tbody tr th {\n",
       "        vertical-align: top;\n",
       "    }\n",
       "\n",
       "    .dataframe thead th {\n",
       "        text-align: right;\n",
       "    }\n",
       "</style>\n",
       "<table border=\"1\" class=\"dataframe\">\n",
       "  <thead>\n",
       "    <tr style=\"text-align: right;\">\n",
       "      <th></th>\n",
       "      <th>date</th>\n",
       "      <th>error</th>\n",
       "      <th>y</th>\n",
       "      <th>p</th>\n",
       "    </tr>\n",
       "  </thead>\n",
       "  <tbody>\n",
       "    <tr>\n",
       "      <th>1928</th>\n",
       "      <td>2017-07-24 21:00:00+08:00</td>\n",
       "      <td>558.430679</td>\n",
       "      <td>15.243528</td>\n",
       "      <td>38.874666</td>\n",
       "    </tr>\n",
       "    <tr>\n",
       "      <th>3349</th>\n",
       "      <td>2017-12-16 20:00:00+08:00</td>\n",
       "      <td>368.190620</td>\n",
       "      <td>22.488992</td>\n",
       "      <td>41.677286</td>\n",
       "    </tr>\n",
       "    <tr>\n",
       "      <th>1169</th>\n",
       "      <td>2017-05-07 17:00:00+08:00</td>\n",
       "      <td>272.883581</td>\n",
       "      <td>17.635161</td>\n",
       "      <td>34.154349</td>\n",
       "    </tr>\n",
       "    <tr>\n",
       "      <th>1680</th>\n",
       "      <td>2017-06-27 20:00:00+08:00</td>\n",
       "      <td>257.975618</td>\n",
       "      <td>21.465508</td>\n",
       "      <td>37.527127</td>\n",
       "    </tr>\n",
       "    <tr>\n",
       "      <th>1450</th>\n",
       "      <td>2017-06-03 19:00:00+08:00</td>\n",
       "      <td>246.866060</td>\n",
       "      <td>16.592062</td>\n",
       "      <td>32.304034</td>\n",
       "    </tr>\n",
       "    <tr>\n",
       "      <th>...</th>\n",
       "      <td>...</td>\n",
       "      <td>...</td>\n",
       "      <td>...</td>\n",
       "      <td>...</td>\n",
       "    </tr>\n",
       "    <tr>\n",
       "      <th>362</th>\n",
       "      <td>2017-02-08 15:00:00+08:00</td>\n",
       "      <td>65.772106</td>\n",
       "      <td>17.233458</td>\n",
       "      <td>25.343459</td>\n",
       "    </tr>\n",
       "    <tr>\n",
       "      <th>27</th>\n",
       "      <td>2017-01-03 11:00:00+08:00</td>\n",
       "      <td>65.679348</td>\n",
       "      <td>19.442914</td>\n",
       "      <td>27.547194</td>\n",
       "    </tr>\n",
       "    <tr>\n",
       "      <th>885</th>\n",
       "      <td>2017-04-08 08:00:00+08:00</td>\n",
       "      <td>65.381469</td>\n",
       "      <td>20.183264</td>\n",
       "      <td>28.269144</td>\n",
       "    </tr>\n",
       "    <tr>\n",
       "      <th>77</th>\n",
       "      <td>2017-01-09 11:00:00+08:00</td>\n",
       "      <td>65.191080</td>\n",
       "      <td>17.402919</td>\n",
       "      <td>25.477019</td>\n",
       "    </tr>\n",
       "    <tr>\n",
       "      <th>322</th>\n",
       "      <td>2017-02-04 16:00:00+08:00</td>\n",
       "      <td>63.533511</td>\n",
       "      <td>29.744367</td>\n",
       "      <td>21.773576</td>\n",
       "    </tr>\n",
       "  </tbody>\n",
       "</table>\n",
       "<p>100 rows × 4 columns</p>\n",
       "</div>"
      ],
      "text/plain": [
       "                          date       error          y          p\n",
       "1928 2017-07-24 21:00:00+08:00  558.430679  15.243528  38.874666\n",
       "3349 2017-12-16 20:00:00+08:00  368.190620  22.488992  41.677286\n",
       "1169 2017-05-07 17:00:00+08:00  272.883581  17.635161  34.154349\n",
       "1680 2017-06-27 20:00:00+08:00  257.975618  21.465508  37.527127\n",
       "1450 2017-06-03 19:00:00+08:00  246.866060  16.592062  32.304034\n",
       "...                        ...         ...        ...        ...\n",
       "362  2017-02-08 15:00:00+08:00   65.772106  17.233458  25.343459\n",
       "27   2017-01-03 11:00:00+08:00   65.679348  19.442914  27.547194\n",
       "885  2017-04-08 08:00:00+08:00   65.381469  20.183264  28.269144\n",
       "77   2017-01-09 11:00:00+08:00   65.191080  17.402919  25.477019\n",
       "322  2017-02-04 16:00:00+08:00   63.533511  29.744367  21.773576\n",
       "\n",
       "[100 rows x 4 columns]"
      ]
     },
     "execution_count": 71,
     "metadata": {},
     "output_type": "execute_result"
    }
   ],
   "source": [
    "error_df.sort_values(\"error\", ascending=False).head(100)"
   ]
  },
  {
   "cell_type": "code",
   "execution_count": 72,
   "metadata": {
    "execution": {
     "iopub.execute_input": "2020-11-20T09:35:32.592211Z",
     "iopub.status.busy": "2020-11-20T09:35:32.591362Z",
     "iopub.status.idle": "2020-11-20T09:35:32.610007Z",
     "shell.execute_reply": "2020-11-20T09:35:32.609345Z"
    },
    "papermill": {
     "duration": 0.148145,
     "end_time": "2020-11-20T09:35:32.610175",
     "exception": false,
     "start_time": "2020-11-20T09:35:32.462030",
     "status": "completed"
    },
    "tags": []
   },
   "outputs": [
    {
     "data": {
      "text/html": [
       "<div>\n",
       "<style scoped>\n",
       "    .dataframe tbody tr th:only-of-type {\n",
       "        vertical-align: middle;\n",
       "    }\n",
       "\n",
       "    .dataframe tbody tr th {\n",
       "        vertical-align: top;\n",
       "    }\n",
       "\n",
       "    .dataframe thead th {\n",
       "        text-align: right;\n",
       "    }\n",
       "</style>\n",
       "<table border=\"1\" class=\"dataframe\">\n",
       "  <thead>\n",
       "    <tr style=\"text-align: right;\">\n",
       "      <th></th>\n",
       "      <th>date</th>\n",
       "      <th>error</th>\n",
       "      <th>y</th>\n",
       "      <th>p</th>\n",
       "    </tr>\n",
       "  </thead>\n",
       "  <tbody>\n",
       "    <tr>\n",
       "      <th>3331</th>\n",
       "      <td>2017-12-15 01:00:00+08:00</td>\n",
       "      <td>0.571615</td>\n",
       "      <td>49.429061</td>\n",
       "      <td>48.673009</td>\n",
       "    </tr>\n",
       "    <tr>\n",
       "      <th>3332</th>\n",
       "      <td>2017-12-15 02:00:00+08:00</td>\n",
       "      <td>0.990417</td>\n",
       "      <td>46.658786</td>\n",
       "      <td>47.653983</td>\n",
       "    </tr>\n",
       "    <tr>\n",
       "      <th>3333</th>\n",
       "      <td>2017-12-15 03:00:00+08:00</td>\n",
       "      <td>0.032727</td>\n",
       "      <td>48.401369</td>\n",
       "      <td>48.582274</td>\n",
       "    </tr>\n",
       "    <tr>\n",
       "      <th>3334</th>\n",
       "      <td>2017-12-15 05:00:00+08:00</td>\n",
       "      <td>0.022854</td>\n",
       "      <td>46.576803</td>\n",
       "      <td>46.727977</td>\n",
       "    </tr>\n",
       "    <tr>\n",
       "      <th>3335</th>\n",
       "      <td>2017-12-15 06:00:00+08:00</td>\n",
       "      <td>1.178121</td>\n",
       "      <td>42.703703</td>\n",
       "      <td>43.789116</td>\n",
       "    </tr>\n",
       "    <tr>\n",
       "      <th>3336</th>\n",
       "      <td>2017-12-15 10:00:00+08:00</td>\n",
       "      <td>3.648247</td>\n",
       "      <td>24.189043</td>\n",
       "      <td>22.279004</td>\n",
       "    </tr>\n",
       "    <tr>\n",
       "      <th>3337</th>\n",
       "      <td>2017-12-15 11:00:00+08:00</td>\n",
       "      <td>13.007441</td>\n",
       "      <td>17.458932</td>\n",
       "      <td>21.065515</td>\n",
       "    </tr>\n",
       "    <tr>\n",
       "      <th>3338</th>\n",
       "      <td>2017-12-15 12:00:00+08:00</td>\n",
       "      <td>2.990753</td>\n",
       "      <td>14.199006</td>\n",
       "      <td>15.928386</td>\n",
       "    </tr>\n",
       "    <tr>\n",
       "      <th>3339</th>\n",
       "      <td>2017-12-15 14:00:00+08:00</td>\n",
       "      <td>0.014096</td>\n",
       "      <td>14.713302</td>\n",
       "      <td>14.832030</td>\n",
       "    </tr>\n",
       "    <tr>\n",
       "      <th>3340</th>\n",
       "      <td>2017-12-15 15:00:00+08:00</td>\n",
       "      <td>0.053979</td>\n",
       "      <td>13.432269</td>\n",
       "      <td>13.664603</td>\n",
       "    </tr>\n",
       "    <tr>\n",
       "      <th>3341</th>\n",
       "      <td>2017-12-15 20:00:00+08:00</td>\n",
       "      <td>44.915485</td>\n",
       "      <td>39.756338</td>\n",
       "      <td>33.054436</td>\n",
       "    </tr>\n",
       "    <tr>\n",
       "      <th>3342</th>\n",
       "      <td>2017-12-15 23:00:00+08:00</td>\n",
       "      <td>13.677887</td>\n",
       "      <td>28.142128</td>\n",
       "      <td>31.840491</td>\n",
       "    </tr>\n",
       "  </tbody>\n",
       "</table>\n",
       "</div>"
      ],
      "text/plain": [
       "                          date      error          y          p\n",
       "3331 2017-12-15 01:00:00+08:00   0.571615  49.429061  48.673009\n",
       "3332 2017-12-15 02:00:00+08:00   0.990417  46.658786  47.653983\n",
       "3333 2017-12-15 03:00:00+08:00   0.032727  48.401369  48.582274\n",
       "3334 2017-12-15 05:00:00+08:00   0.022854  46.576803  46.727977\n",
       "3335 2017-12-15 06:00:00+08:00   1.178121  42.703703  43.789116\n",
       "3336 2017-12-15 10:00:00+08:00   3.648247  24.189043  22.279004\n",
       "3337 2017-12-15 11:00:00+08:00  13.007441  17.458932  21.065515\n",
       "3338 2017-12-15 12:00:00+08:00   2.990753  14.199006  15.928386\n",
       "3339 2017-12-15 14:00:00+08:00   0.014096  14.713302  14.832030\n",
       "3340 2017-12-15 15:00:00+08:00   0.053979  13.432269  13.664603\n",
       "3341 2017-12-15 20:00:00+08:00  44.915485  39.756338  33.054436\n",
       "3342 2017-12-15 23:00:00+08:00  13.677887  28.142128  31.840491"
      ]
     },
     "execution_count": 72,
     "metadata": {},
     "output_type": "execute_result"
    }
   ],
   "source": [
    "error_df[error_df.date.dt.floor('d')==\"2017-12-15\"]"
   ]
  },
  {
   "cell_type": "code",
   "execution_count": 73,
   "metadata": {
    "execution": {
     "iopub.execute_input": "2020-11-20T09:35:32.867087Z",
     "iopub.status.busy": "2020-11-20T09:35:32.866286Z",
     "iopub.status.idle": "2020-11-20T09:35:32.881127Z",
     "shell.execute_reply": "2020-11-20T09:35:32.880464Z"
    },
    "papermill": {
     "duration": 0.145059,
     "end_time": "2020-11-20T09:35:32.881253",
     "exception": false,
     "start_time": "2020-11-20T09:35:32.736194",
     "status": "completed"
    },
    "tags": []
   },
   "outputs": [
    {
     "data": {
      "text/html": [
       "<div>\n",
       "<style scoped>\n",
       "    .dataframe tbody tr th:only-of-type {\n",
       "        vertical-align: middle;\n",
       "    }\n",
       "\n",
       "    .dataframe tbody tr th {\n",
       "        vertical-align: top;\n",
       "    }\n",
       "\n",
       "    .dataframe thead th {\n",
       "        text-align: right;\n",
       "    }\n",
       "</style>\n",
       "<table border=\"1\" class=\"dataframe\">\n",
       "  <thead>\n",
       "    <tr style=\"text-align: right;\">\n",
       "      <th></th>\n",
       "      <th>date</th>\n",
       "      <th>error</th>\n",
       "      <th>y</th>\n",
       "      <th>p</th>\n",
       "    </tr>\n",
       "  </thead>\n",
       "  <tbody>\n",
       "    <tr>\n",
       "      <th>3343</th>\n",
       "      <td>2017-12-16 00:00:00+08:00</td>\n",
       "      <td>0.211449</td>\n",
       "      <td>47.285905</td>\n",
       "      <td>47.745742</td>\n",
       "    </tr>\n",
       "    <tr>\n",
       "      <th>3344</th>\n",
       "      <td>2017-12-16 02:00:00+08:00</td>\n",
       "      <td>0.603333</td>\n",
       "      <td>49.066754</td>\n",
       "      <td>48.290010</td>\n",
       "    </tr>\n",
       "    <tr>\n",
       "      <th>3345</th>\n",
       "      <td>2017-12-16 06:00:00+08:00</td>\n",
       "      <td>2.746746</td>\n",
       "      <td>45.656701</td>\n",
       "      <td>47.314033</td>\n",
       "    </tr>\n",
       "    <tr>\n",
       "      <th>3346</th>\n",
       "      <td>2017-12-16 08:00:00+08:00</td>\n",
       "      <td>10.911572</td>\n",
       "      <td>23.930776</td>\n",
       "      <td>27.234043</td>\n",
       "    </tr>\n",
       "    <tr>\n",
       "      <th>3347</th>\n",
       "      <td>2017-12-16 15:00:00+08:00</td>\n",
       "      <td>1.719745</td>\n",
       "      <td>15.293246</td>\n",
       "      <td>16.604637</td>\n",
       "    </tr>\n",
       "    <tr>\n",
       "      <th>3348</th>\n",
       "      <td>2017-12-16 19:00:00+08:00</td>\n",
       "      <td>238.643117</td>\n",
       "      <td>12.448174</td>\n",
       "      <td>27.896252</td>\n",
       "    </tr>\n",
       "    <tr>\n",
       "      <th>3349</th>\n",
       "      <td>2017-12-16 20:00:00+08:00</td>\n",
       "      <td>368.190620</td>\n",
       "      <td>22.488992</td>\n",
       "      <td>41.677286</td>\n",
       "    </tr>\n",
       "    <tr>\n",
       "      <th>3350</th>\n",
       "      <td>2017-12-16 21:00:00+08:00</td>\n",
       "      <td>0.252917</td>\n",
       "      <td>36.832385</td>\n",
       "      <td>36.329477</td>\n",
       "    </tr>\n",
       "    <tr>\n",
       "      <th>3351</th>\n",
       "      <td>2017-12-16 23:00:00+08:00</td>\n",
       "      <td>57.976362</td>\n",
       "      <td>24.762320</td>\n",
       "      <td>32.376541</td>\n",
       "    </tr>\n",
       "  </tbody>\n",
       "</table>\n",
       "</div>"
      ],
      "text/plain": [
       "                          date       error          y          p\n",
       "3343 2017-12-16 00:00:00+08:00    0.211449  47.285905  47.745742\n",
       "3344 2017-12-16 02:00:00+08:00    0.603333  49.066754  48.290010\n",
       "3345 2017-12-16 06:00:00+08:00    2.746746  45.656701  47.314033\n",
       "3346 2017-12-16 08:00:00+08:00   10.911572  23.930776  27.234043\n",
       "3347 2017-12-16 15:00:00+08:00    1.719745  15.293246  16.604637\n",
       "3348 2017-12-16 19:00:00+08:00  238.643117  12.448174  27.896252\n",
       "3349 2017-12-16 20:00:00+08:00  368.190620  22.488992  41.677286\n",
       "3350 2017-12-16 21:00:00+08:00    0.252917  36.832385  36.329477\n",
       "3351 2017-12-16 23:00:00+08:00   57.976362  24.762320  32.376541"
      ]
     },
     "execution_count": 73,
     "metadata": {},
     "output_type": "execute_result"
    }
   ],
   "source": [
    "error_df[error_df.date.dt.floor('d')==\"2017-12-16\"]"
   ]
  },
  {
   "cell_type": "code",
   "execution_count": 74,
   "metadata": {
    "execution": {
     "iopub.execute_input": "2020-11-20T09:35:33.138998Z",
     "iopub.status.busy": "2020-11-20T09:35:33.138136Z",
     "iopub.status.idle": "2020-11-20T09:35:33.154164Z",
     "shell.execute_reply": "2020-11-20T09:35:33.154846Z"
    },
    "papermill": {
     "duration": 0.149548,
     "end_time": "2020-11-20T09:35:33.155008",
     "exception": false,
     "start_time": "2020-11-20T09:35:33.005460",
     "status": "completed"
    },
    "tags": []
   },
   "outputs": [
    {
     "data": {
      "text/html": [
       "<div>\n",
       "<style scoped>\n",
       "    .dataframe tbody tr th:only-of-type {\n",
       "        vertical-align: middle;\n",
       "    }\n",
       "\n",
       "    .dataframe tbody tr th {\n",
       "        vertical-align: top;\n",
       "    }\n",
       "\n",
       "    .dataframe thead th {\n",
       "        text-align: right;\n",
       "    }\n",
       "</style>\n",
       "<table border=\"1\" class=\"dataframe\">\n",
       "  <thead>\n",
       "    <tr style=\"text-align: right;\">\n",
       "      <th></th>\n",
       "      <th>date</th>\n",
       "      <th>error</th>\n",
       "      <th>y</th>\n",
       "      <th>p</th>\n",
       "    </tr>\n",
       "  </thead>\n",
       "  <tbody>\n",
       "    <tr>\n",
       "      <th>3352</th>\n",
       "      <td>2017-12-17 01:00:00+08:00</td>\n",
       "      <td>0.849718</td>\n",
       "      <td>46.246695</td>\n",
       "      <td>47.168497</td>\n",
       "    </tr>\n",
       "    <tr>\n",
       "      <th>3353</th>\n",
       "      <td>2017-12-17 03:00:00+08:00</td>\n",
       "      <td>0.413085</td>\n",
       "      <td>48.194279</td>\n",
       "      <td>47.551562</td>\n",
       "    </tr>\n",
       "    <tr>\n",
       "      <th>3354</th>\n",
       "      <td>2017-12-17 04:00:00+08:00</td>\n",
       "      <td>4.262415</td>\n",
       "      <td>45.052621</td>\n",
       "      <td>47.117182</td>\n",
       "    </tr>\n",
       "    <tr>\n",
       "      <th>3355</th>\n",
       "      <td>2017-12-17 12:00:00+08:00</td>\n",
       "      <td>3.253639</td>\n",
       "      <td>43.932414</td>\n",
       "      <td>42.128630</td>\n",
       "    </tr>\n",
       "    <tr>\n",
       "      <th>3356</th>\n",
       "      <td>2017-12-17 13:00:00+08:00</td>\n",
       "      <td>1.753347</td>\n",
       "      <td>43.338128</td>\n",
       "      <td>42.013987</td>\n",
       "    </tr>\n",
       "    <tr>\n",
       "      <th>3357</th>\n",
       "      <td>2017-12-17 14:00:00+08:00</td>\n",
       "      <td>25.171267</td>\n",
       "      <td>46.737752</td>\n",
       "      <td>41.720655</td>\n",
       "    </tr>\n",
       "    <tr>\n",
       "      <th>3358</th>\n",
       "      <td>2017-12-17 15:00:00+08:00</td>\n",
       "      <td>46.435051</td>\n",
       "      <td>44.932318</td>\n",
       "      <td>38.117991</td>\n",
       "    </tr>\n",
       "    <tr>\n",
       "      <th>3359</th>\n",
       "      <td>2017-12-17 17:00:00+08:00</td>\n",
       "      <td>139.135985</td>\n",
       "      <td>25.705280</td>\n",
       "      <td>37.500872</td>\n",
       "    </tr>\n",
       "    <tr>\n",
       "      <th>3360</th>\n",
       "      <td>2017-12-17 18:00:00+08:00</td>\n",
       "      <td>63.398744</td>\n",
       "      <td>23.237242</td>\n",
       "      <td>31.199575</td>\n",
       "    </tr>\n",
       "    <tr>\n",
       "      <th>3361</th>\n",
       "      <td>2017-12-17 20:00:00+08:00</td>\n",
       "      <td>19.615450</td>\n",
       "      <td>44.647373</td>\n",
       "      <td>40.218440</td>\n",
       "    </tr>\n",
       "  </tbody>\n",
       "</table>\n",
       "</div>"
      ],
      "text/plain": [
       "                          date       error          y          p\n",
       "3352 2017-12-17 01:00:00+08:00    0.849718  46.246695  47.168497\n",
       "3353 2017-12-17 03:00:00+08:00    0.413085  48.194279  47.551562\n",
       "3354 2017-12-17 04:00:00+08:00    4.262415  45.052621  47.117182\n",
       "3355 2017-12-17 12:00:00+08:00    3.253639  43.932414  42.128630\n",
       "3356 2017-12-17 13:00:00+08:00    1.753347  43.338128  42.013987\n",
       "3357 2017-12-17 14:00:00+08:00   25.171267  46.737752  41.720655\n",
       "3358 2017-12-17 15:00:00+08:00   46.435051  44.932318  38.117991\n",
       "3359 2017-12-17 17:00:00+08:00  139.135985  25.705280  37.500872\n",
       "3360 2017-12-17 18:00:00+08:00   63.398744  23.237242  31.199575\n",
       "3361 2017-12-17 20:00:00+08:00   19.615450  44.647373  40.218440"
      ]
     },
     "execution_count": 74,
     "metadata": {},
     "output_type": "execute_result"
    }
   ],
   "source": [
    "error_df[error_df.date.dt.floor('d')==\"2017-12-17\"]"
   ]
  },
  {
   "cell_type": "code",
   "execution_count": 75,
   "metadata": {
    "execution": {
     "iopub.execute_input": "2020-11-20T09:35:33.415150Z",
     "iopub.status.busy": "2020-11-20T09:35:33.414336Z",
     "iopub.status.idle": "2020-11-20T09:35:33.431215Z",
     "shell.execute_reply": "2020-11-20T09:35:33.430402Z"
    },
    "papermill": {
     "duration": 0.149383,
     "end_time": "2020-11-20T09:35:33.431350",
     "exception": false,
     "start_time": "2020-11-20T09:35:33.281967",
     "status": "completed"
    },
    "tags": []
   },
   "outputs": [
    {
     "data": {
      "text/html": [
       "<div>\n",
       "<style scoped>\n",
       "    .dataframe tbody tr th:only-of-type {\n",
       "        vertical-align: middle;\n",
       "    }\n",
       "\n",
       "    .dataframe tbody tr th {\n",
       "        vertical-align: top;\n",
       "    }\n",
       "\n",
       "    .dataframe thead th {\n",
       "        text-align: right;\n",
       "    }\n",
       "</style>\n",
       "<table border=\"1\" class=\"dataframe\">\n",
       "  <thead>\n",
       "    <tr style=\"text-align: right;\">\n",
       "      <th></th>\n",
       "      <th>date</th>\n",
       "      <th>error</th>\n",
       "      <th>y</th>\n",
       "      <th>p</th>\n",
       "    </tr>\n",
       "  </thead>\n",
       "  <tbody>\n",
       "    <tr>\n",
       "      <th>1919</th>\n",
       "      <td>2017-07-24 01:00:00+08:00</td>\n",
       "      <td>0.117622</td>\n",
       "      <td>45.760968</td>\n",
       "      <td>46.103929</td>\n",
       "    </tr>\n",
       "    <tr>\n",
       "      <th>1920</th>\n",
       "      <td>2017-07-24 03:00:00+08:00</td>\n",
       "      <td>0.387940</td>\n",
       "      <td>46.105985</td>\n",
       "      <td>46.728833</td>\n",
       "    </tr>\n",
       "    <tr>\n",
       "      <th>1921</th>\n",
       "      <td>2017-07-24 04:00:00+08:00</td>\n",
       "      <td>4.883362</td>\n",
       "      <td>48.464448</td>\n",
       "      <td>46.254615</td>\n",
       "    </tr>\n",
       "    <tr>\n",
       "      <th>1922</th>\n",
       "      <td>2017-07-24 06:00:00+08:00</td>\n",
       "      <td>4.367750</td>\n",
       "      <td>42.851833</td>\n",
       "      <td>44.941750</td>\n",
       "    </tr>\n",
       "    <tr>\n",
       "      <th>1923</th>\n",
       "      <td>2017-07-24 08:00:00+08:00</td>\n",
       "      <td>0.892497</td>\n",
       "      <td>16.434848</td>\n",
       "      <td>17.379569</td>\n",
       "    </tr>\n",
       "    <tr>\n",
       "      <th>1924</th>\n",
       "      <td>2017-07-24 12:00:00+08:00</td>\n",
       "      <td>2.494568</td>\n",
       "      <td>22.514520</td>\n",
       "      <td>20.935099</td>\n",
       "    </tr>\n",
       "    <tr>\n",
       "      <th>1925</th>\n",
       "      <td>2017-07-24 16:00:00+08:00</td>\n",
       "      <td>14.455979</td>\n",
       "      <td>16.209481</td>\n",
       "      <td>20.011583</td>\n",
       "    </tr>\n",
       "    <tr>\n",
       "      <th>1926</th>\n",
       "      <td>2017-07-24 17:00:00+08:00</td>\n",
       "      <td>4.333401</td>\n",
       "      <td>14.635949</td>\n",
       "      <td>12.554267</td>\n",
       "    </tr>\n",
       "    <tr>\n",
       "      <th>1927</th>\n",
       "      <td>2017-07-24 18:00:00+08:00</td>\n",
       "      <td>0.861769</td>\n",
       "      <td>11.054118</td>\n",
       "      <td>11.982433</td>\n",
       "    </tr>\n",
       "    <tr>\n",
       "      <th>1928</th>\n",
       "      <td>2017-07-24 21:00:00+08:00</td>\n",
       "      <td>558.430679</td>\n",
       "      <td>15.243528</td>\n",
       "      <td>38.874666</td>\n",
       "    </tr>\n",
       "    <tr>\n",
       "      <th>1929</th>\n",
       "      <td>2017-07-24 22:00:00+08:00</td>\n",
       "      <td>4.137652</td>\n",
       "      <td>38.631429</td>\n",
       "      <td>40.665551</td>\n",
       "    </tr>\n",
       "    <tr>\n",
       "      <th>1930</th>\n",
       "      <td>2017-07-24 23:00:00+08:00</td>\n",
       "      <td>1.683421</td>\n",
       "      <td>45.364702</td>\n",
       "      <td>44.067235</td>\n",
       "    </tr>\n",
       "  </tbody>\n",
       "</table>\n",
       "</div>"
      ],
      "text/plain": [
       "                          date       error          y          p\n",
       "1919 2017-07-24 01:00:00+08:00    0.117622  45.760968  46.103929\n",
       "1920 2017-07-24 03:00:00+08:00    0.387940  46.105985  46.728833\n",
       "1921 2017-07-24 04:00:00+08:00    4.883362  48.464448  46.254615\n",
       "1922 2017-07-24 06:00:00+08:00    4.367750  42.851833  44.941750\n",
       "1923 2017-07-24 08:00:00+08:00    0.892497  16.434848  17.379569\n",
       "1924 2017-07-24 12:00:00+08:00    2.494568  22.514520  20.935099\n",
       "1925 2017-07-24 16:00:00+08:00   14.455979  16.209481  20.011583\n",
       "1926 2017-07-24 17:00:00+08:00    4.333401  14.635949  12.554267\n",
       "1927 2017-07-24 18:00:00+08:00    0.861769  11.054118  11.982433\n",
       "1928 2017-07-24 21:00:00+08:00  558.430679  15.243528  38.874666\n",
       "1929 2017-07-24 22:00:00+08:00    4.137652  38.631429  40.665551\n",
       "1930 2017-07-24 23:00:00+08:00    1.683421  45.364702  44.067235"
      ]
     },
     "execution_count": 75,
     "metadata": {},
     "output_type": "execute_result"
    }
   ],
   "source": [
    "error_df[error_df.date.dt.floor('d')==\"2017-07-24\"]"
   ]
  },
  {
   "cell_type": "code",
   "execution_count": 76,
   "metadata": {
    "execution": {
     "iopub.execute_input": "2020-11-20T09:35:33.690729Z",
     "iopub.status.busy": "2020-11-20T09:35:33.689914Z",
     "iopub.status.idle": "2020-11-20T09:35:33.705293Z",
     "shell.execute_reply": "2020-11-20T09:35:33.704672Z"
    },
    "papermill": {
     "duration": 0.147352,
     "end_time": "2020-11-20T09:35:33.705421",
     "exception": false,
     "start_time": "2020-11-20T09:35:33.558069",
     "status": "completed"
    },
    "tags": []
   },
   "outputs": [
    {
     "data": {
      "text/html": [
       "<div>\n",
       "<style scoped>\n",
       "    .dataframe tbody tr th:only-of-type {\n",
       "        vertical-align: middle;\n",
       "    }\n",
       "\n",
       "    .dataframe tbody tr th {\n",
       "        vertical-align: top;\n",
       "    }\n",
       "\n",
       "    .dataframe thead th {\n",
       "        text-align: right;\n",
       "    }\n",
       "</style>\n",
       "<table border=\"1\" class=\"dataframe\">\n",
       "  <thead>\n",
       "    <tr style=\"text-align: right;\">\n",
       "      <th></th>\n",
       "      <th>date</th>\n",
       "      <th>error</th>\n",
       "      <th>y</th>\n",
       "      <th>p</th>\n",
       "    </tr>\n",
       "  </thead>\n",
       "  <tbody>\n",
       "    <tr>\n",
       "      <th>1931</th>\n",
       "      <td>2017-07-25 00:00:00+08:00</td>\n",
       "      <td>0.471129</td>\n",
       "      <td>48.773277</td>\n",
       "      <td>48.086889</td>\n",
       "    </tr>\n",
       "    <tr>\n",
       "      <th>1932</th>\n",
       "      <td>2017-07-25 05:00:00+08:00</td>\n",
       "      <td>0.877496</td>\n",
       "      <td>45.930321</td>\n",
       "      <td>46.867069</td>\n",
       "    </tr>\n",
       "    <tr>\n",
       "      <th>1933</th>\n",
       "      <td>2017-07-25 09:00:00+08:00</td>\n",
       "      <td>36.407063</td>\n",
       "      <td>22.398858</td>\n",
       "      <td>16.365031</td>\n",
       "    </tr>\n",
       "    <tr>\n",
       "      <th>1934</th>\n",
       "      <td>2017-07-25 10:00:00+08:00</td>\n",
       "      <td>43.473354</td>\n",
       "      <td>34.134875</td>\n",
       "      <td>27.541442</td>\n",
       "    </tr>\n",
       "    <tr>\n",
       "      <th>1935</th>\n",
       "      <td>2017-07-25 15:00:00+08:00</td>\n",
       "      <td>41.813132</td>\n",
       "      <td>13.006489</td>\n",
       "      <td>19.472796</td>\n",
       "    </tr>\n",
       "    <tr>\n",
       "      <th>1936</th>\n",
       "      <td>2017-07-25 16:00:00+08:00</td>\n",
       "      <td>3.857440</td>\n",
       "      <td>17.366688</td>\n",
       "      <td>19.330724</td>\n",
       "    </tr>\n",
       "    <tr>\n",
       "      <th>1937</th>\n",
       "      <td>2017-07-25 17:00:00+08:00</td>\n",
       "      <td>4.474437</td>\n",
       "      <td>11.916218</td>\n",
       "      <td>14.031504</td>\n",
       "    </tr>\n",
       "    <tr>\n",
       "      <th>1938</th>\n",
       "      <td>2017-07-25 18:00:00+08:00</td>\n",
       "      <td>14.860601</td>\n",
       "      <td>7.993376</td>\n",
       "      <td>11.848321</td>\n",
       "    </tr>\n",
       "    <tr>\n",
       "      <th>1939</th>\n",
       "      <td>2017-07-25 20:00:00+08:00</td>\n",
       "      <td>0.008013</td>\n",
       "      <td>36.945837</td>\n",
       "      <td>37.035352</td>\n",
       "    </tr>\n",
       "    <tr>\n",
       "      <th>1940</th>\n",
       "      <td>2017-07-25 21:00:00+08:00</td>\n",
       "      <td>0.899038</td>\n",
       "      <td>43.493165</td>\n",
       "      <td>44.441341</td>\n",
       "    </tr>\n",
       "  </tbody>\n",
       "</table>\n",
       "</div>"
      ],
      "text/plain": [
       "                          date      error          y          p\n",
       "1931 2017-07-25 00:00:00+08:00   0.471129  48.773277  48.086889\n",
       "1932 2017-07-25 05:00:00+08:00   0.877496  45.930321  46.867069\n",
       "1933 2017-07-25 09:00:00+08:00  36.407063  22.398858  16.365031\n",
       "1934 2017-07-25 10:00:00+08:00  43.473354  34.134875  27.541442\n",
       "1935 2017-07-25 15:00:00+08:00  41.813132  13.006489  19.472796\n",
       "1936 2017-07-25 16:00:00+08:00   3.857440  17.366688  19.330724\n",
       "1937 2017-07-25 17:00:00+08:00   4.474437  11.916218  14.031504\n",
       "1938 2017-07-25 18:00:00+08:00  14.860601   7.993376  11.848321\n",
       "1939 2017-07-25 20:00:00+08:00   0.008013  36.945837  37.035352\n",
       "1940 2017-07-25 21:00:00+08:00   0.899038  43.493165  44.441341"
      ]
     },
     "execution_count": 76,
     "metadata": {},
     "output_type": "execute_result"
    }
   ],
   "source": [
    "error_df[error_df.date.dt.floor('d')==\"2017-07-25\"]"
   ]
  },
  {
   "cell_type": "code",
   "execution_count": null,
   "metadata": {
    "papermill": {
     "duration": 0.126968,
     "end_time": "2020-11-20T09:35:33.961079",
     "exception": false,
     "start_time": "2020-11-20T09:35:33.834111",
     "status": "completed"
    },
    "tags": []
   },
   "outputs": [],
   "source": []
  }
 ],
 "metadata": {
  "kernelspec": {
   "display_name": "Python 3",
   "language": "python",
   "name": "python3"
  },
  "language_info": {
   "codemirror_mode": {
    "name": "ipython",
    "version": 3
   },
   "file_extension": ".py",
   "mimetype": "text/x-python",
   "name": "python",
   "nbconvert_exporter": "python",
   "pygments_lexer": "ipython3",
   "version": "3.7.6"
  },
  "papermill": {
   "duration": 377.200674,
   "end_time": "2020-11-20T09:35:34.197595",
   "environment_variables": {},
   "exception": null,
   "input_path": "__notebook__.ipynb",
   "output_path": "__notebook__.ipynb",
   "parameters": {},
   "start_time": "2020-11-20T09:29:16.996921",
   "version": "2.1.0"
  }
 },
 "nbformat": 4,
 "nbformat_minor": 4
}
